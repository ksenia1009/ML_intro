{
  "nbformat": 4,
  "nbformat_minor": 0,
  "metadata": {
    "colab": {
      "name": "Copy of Untitled0.ipynb",
      "provenance": [],
      "collapsed_sections": [
        "fkZ2m52XXEA5"
      ]
    },
    "kernelspec": {
      "name": "python3",
      "display_name": "Python 3"
    }
  },
  "cells": [
    {
      "cell_type": "markdown",
      "metadata": {
        "id": "ebIAJvqmeECP"
      },
      "source": [
        "# Классификация жалоб клиентов"
      ]
    },
    {
      "cell_type": "markdown",
      "metadata": {
        "id": "Njx-4goseCW0"
      },
      "source": [
        "Датасет содержит информацию о жалобах клиентов на различные продукты и услуги в финансовом секторе, такие как кредитные отчеты, студенческие ссуды, денежные переводы и т.д. Требуется классифицировать на какие продукты и услуги клиенты отправляют жалобы. Объем выборки $N=320589$, количество признаков $d=18$, количество классов $K=18$."
      ]
    },
    {
      "cell_type": "markdown",
      "metadata": {
        "id": "9V5ziPE3fRsU"
      },
      "source": [
        "## 1. Загрузка данных"
      ]
    },
    {
      "cell_type": "code",
      "metadata": {
        "id": "rzzgoOU1fNv2"
      },
      "source": [
        "import numpy as np\n",
        "import matplotlib.pyplot as plt\n",
        "%matplotlib inline\n",
        "import pandas as pd\n",
        "import sklearn\n",
        "import seaborn as sns"
      ],
      "execution_count": null,
      "outputs": []
    },
    {
      "cell_type": "code",
      "metadata": {
        "id": "L6-bVgN5fjJS",
        "outputId": "0cf2a36e-0f02-4a10-d9ec-92fc67f5c382",
        "colab": {
          "base_uri": "https://localhost:8080/"
        }
      },
      "source": [
        "url = \"https://media.githubusercontent.com/media/ksenia1009/ML_intro/master/data.csv\"\n",
        "data_raw = pd.read_csv(url)"
      ],
      "execution_count": null,
      "outputs": [
        {
          "output_type": "stream",
          "text": [
            "/usr/local/lib/python3.6/dist-packages/IPython/core/interactiveshell.py:2718: DtypeWarning: Columns (5,6,11,16) have mixed types.Specify dtype option on import or set low_memory=False.\n",
            "  interactivity=interactivity, compiler=compiler, result=result)\n"
          ],
          "name": "stderr"
        }
      ]
    },
    {
      "cell_type": "code",
      "metadata": {
        "id": "QNruWcyafume",
        "outputId": "6c5d5d77-39c5-475a-b69b-bce7878daa33",
        "colab": {
          "base_uri": "https://localhost:8080/"
        }
      },
      "source": [
        "data_raw.shape"
      ],
      "execution_count": null,
      "outputs": [
        {
          "output_type": "execute_result",
          "data": {
            "text/plain": [
              "(320589, 18)"
            ]
          },
          "metadata": {
            "tags": []
          },
          "execution_count": 26
        }
      ]
    },
    {
      "cell_type": "code",
      "metadata": {
        "id": "MmRaeVacgiVB",
        "outputId": "0fea6fd1-6164-4a55-a953-f0236d3c5069",
        "colab": {
          "base_uri": "https://localhost:8080/"
        }
      },
      "source": [
        "data_raw.head(3)"
      ],
      "execution_count": null,
      "outputs": [
        {
          "output_type": "execute_result",
          "data": {
            "text/html": [
              "<div>\n",
              "<style scoped>\n",
              "    .dataframe tbody tr th:only-of-type {\n",
              "        vertical-align: middle;\n",
              "    }\n",
              "\n",
              "    .dataframe tbody tr th {\n",
              "        vertical-align: top;\n",
              "    }\n",
              "\n",
              "    .dataframe thead th {\n",
              "        text-align: right;\n",
              "    }\n",
              "</style>\n",
              "<table border=\"1\" class=\"dataframe\">\n",
              "  <thead>\n",
              "    <tr style=\"text-align: right;\">\n",
              "      <th></th>\n",
              "      <th>Date received</th>\n",
              "      <th>Product</th>\n",
              "      <th>Sub-product</th>\n",
              "      <th>Issue</th>\n",
              "      <th>Sub-issue</th>\n",
              "      <th>Consumer complaint narrative</th>\n",
              "      <th>Company public response</th>\n",
              "      <th>Company</th>\n",
              "      <th>State</th>\n",
              "      <th>ZIP code</th>\n",
              "      <th>Tags</th>\n",
              "      <th>Consumer consent provided?</th>\n",
              "      <th>Submitted via</th>\n",
              "      <th>Date sent to company</th>\n",
              "      <th>Company response to consumer</th>\n",
              "      <th>Timely response?</th>\n",
              "      <th>Consumer disputed?</th>\n",
              "      <th>Complaint ID</th>\n",
              "    </tr>\n",
              "  </thead>\n",
              "  <tbody>\n",
              "    <tr>\n",
              "      <th>0</th>\n",
              "      <td>05/10/2019</td>\n",
              "      <td>Checking or savings account</td>\n",
              "      <td>Checking account</td>\n",
              "      <td>Managing an account</td>\n",
              "      <td>Problem using a debit or ATM card</td>\n",
              "      <td>NaN</td>\n",
              "      <td>NaN</td>\n",
              "      <td>NAVY FEDERAL CREDIT UNION</td>\n",
              "      <td>FL</td>\n",
              "      <td>328XX</td>\n",
              "      <td>Older American</td>\n",
              "      <td>NaN</td>\n",
              "      <td>Web</td>\n",
              "      <td>05/10/2019</td>\n",
              "      <td>In progress</td>\n",
              "      <td>Yes</td>\n",
              "      <td>NaN</td>\n",
              "      <td>3238275</td>\n",
              "    </tr>\n",
              "    <tr>\n",
              "      <th>1</th>\n",
              "      <td>05/10/2019</td>\n",
              "      <td>Checking or savings account</td>\n",
              "      <td>Checking account</td>\n",
              "      <td>Managing an account</td>\n",
              "      <td>Banking errors</td>\n",
              "      <td>NaN</td>\n",
              "      <td>NaN</td>\n",
              "      <td>ALLY FINANCIAL INC.</td>\n",
              "      <td>AZ</td>\n",
              "      <td>85205</td>\n",
              "      <td>NaN</td>\n",
              "      <td>NaN</td>\n",
              "      <td>Postal mail</td>\n",
              "      <td>05/10/2019</td>\n",
              "      <td>In progress</td>\n",
              "      <td>Yes</td>\n",
              "      <td>NaN</td>\n",
              "      <td>3238460</td>\n",
              "    </tr>\n",
              "    <tr>\n",
              "      <th>2</th>\n",
              "      <td>05/10/2019</td>\n",
              "      <td>Debt collection</td>\n",
              "      <td>Other debt</td>\n",
              "      <td>Attempts to collect debt not owed</td>\n",
              "      <td>Debt was paid</td>\n",
              "      <td>NaN</td>\n",
              "      <td>NaN</td>\n",
              "      <td>Diversified Consultants, Inc.</td>\n",
              "      <td>SC</td>\n",
              "      <td>296XX</td>\n",
              "      <td>Servicemember</td>\n",
              "      <td>NaN</td>\n",
              "      <td>Web</td>\n",
              "      <td>05/10/2019</td>\n",
              "      <td>In progress</td>\n",
              "      <td>Yes</td>\n",
              "      <td>NaN</td>\n",
              "      <td>3238545</td>\n",
              "    </tr>\n",
              "  </tbody>\n",
              "</table>\n",
              "</div>"
            ],
            "text/plain": [
              "  Date received                      Product  ... Consumer disputed? Complaint ID\n",
              "0    05/10/2019  Checking or savings account  ...                NaN      3238275\n",
              "1    05/10/2019  Checking or savings account  ...                NaN      3238460\n",
              "2    05/10/2019              Debt collection  ...                NaN      3238545\n",
              "\n",
              "[3 rows x 18 columns]"
            ]
          },
          "metadata": {
            "tags": []
          },
          "execution_count": 27
        }
      ]
    },
    {
      "cell_type": "code",
      "metadata": {
        "id": "-fn-eghZgwio",
        "outputId": "41ae2f8e-c934-4337-8731-8ffe732319ff",
        "colab": {
          "base_uri": "https://localhost:8080/"
        }
      },
      "source": [
        "data_raw.columns"
      ],
      "execution_count": null,
      "outputs": [
        {
          "output_type": "execute_result",
          "data": {
            "text/plain": [
              "Index(['Date received', 'Product', 'Sub-product', 'Issue', 'Sub-issue',\n",
              "       'Consumer complaint narrative', 'Company public response', 'Company',\n",
              "       'State', 'ZIP code', 'Tags', 'Consumer consent provided?',\n",
              "       'Submitted via', 'Date sent to company', 'Company response to consumer',\n",
              "       'Timely response?', 'Consumer disputed?', 'Complaint ID'],\n",
              "      dtype='object')"
            ]
          },
          "metadata": {
            "tags": []
          },
          "execution_count": 28
        }
      ]
    },
    {
      "cell_type": "markdown",
      "metadata": {
        "id": "WvfrXrXUhZ0z"
      },
      "source": [
        "Видим, что столбцы (признаки) имеют следующие имена:  \n",
        "* **Date received** - дата получения жалобы (числовой признак)\n",
        "* **Product** - продукт (номинальный)\n",
        "* **Sub-product** - суб-продукт (номинальный)\n",
        "* **Issue** - жалоба клиента (номинальный)\n",
        "* **Sub-issue** - конкретная формулировка жалобы (номинальный)\n",
        "* **Consumer complaint narrative** - описание жалобы (номинальный)\n",
        "* **Company public response** - ответ компании (номинальный)\n",
        "* **Company** - компания (номинальный)\n",
        "* **State** - страна (номинальный)\n",
        "* **ZIP** code - индекс (числовой)\n",
        "* **Tags** - тэг (номинальный)\n",
        "* **Consumer consent provided?** - предоставлено ли согласие клиента? (номинальный)\n",
        "* **Submitted via** - способ отправление жалобы (номинальный)\n",
        "* **Date sent to company** - дата отправления жалобы в компанию (числовой)\n",
        "* **Company response to consumer** - статус ответа компании (номинальный)\n",
        "* **Timely response?** - вовремя ли получен ответ (бинарный)\n",
        "* **Consumer disputed?** - оспорен ли ответ компании клиентом? (бинарный)\n",
        "* **Complaint ID** - идентификатор клиента (числовой)"
      ]
    },
    {
      "cell_type": "markdown",
      "metadata": {
        "id": "oU3p_RwV1WR9"
      },
      "source": [
        "## 2. Визуализация данных"
      ]
    },
    {
      "cell_type": "code",
      "metadata": {
        "id": "Ip7VX0-5pZkl",
        "outputId": "1377ce89-a80a-4d00-d849-b8ebe315ad61",
        "colab": {
          "base_uri": "https://localhost:8080/"
        }
      },
      "source": [
        "data_raw.describe(include='all')"
      ],
      "execution_count": null,
      "outputs": [
        {
          "output_type": "execute_result",
          "data": {
            "text/html": [
              "<div>\n",
              "<style scoped>\n",
              "    .dataframe tbody tr th:only-of-type {\n",
              "        vertical-align: middle;\n",
              "    }\n",
              "\n",
              "    .dataframe tbody tr th {\n",
              "        vertical-align: top;\n",
              "    }\n",
              "\n",
              "    .dataframe thead th {\n",
              "        text-align: right;\n",
              "    }\n",
              "</style>\n",
              "<table border=\"1\" class=\"dataframe\">\n",
              "  <thead>\n",
              "    <tr style=\"text-align: right;\">\n",
              "      <th></th>\n",
              "      <th>Date received</th>\n",
              "      <th>Product</th>\n",
              "      <th>Sub-product</th>\n",
              "      <th>Issue</th>\n",
              "      <th>Sub-issue</th>\n",
              "      <th>Consumer complaint narrative</th>\n",
              "      <th>Company public response</th>\n",
              "      <th>Company</th>\n",
              "      <th>State</th>\n",
              "      <th>ZIP code</th>\n",
              "      <th>Tags</th>\n",
              "      <th>Consumer consent provided?</th>\n",
              "      <th>Submitted via</th>\n",
              "      <th>Date sent to company</th>\n",
              "      <th>Company response to consumer</th>\n",
              "      <th>Timely response?</th>\n",
              "      <th>Consumer disputed?</th>\n",
              "      <th>Complaint ID</th>\n",
              "    </tr>\n",
              "  </thead>\n",
              "  <tbody>\n",
              "    <tr>\n",
              "      <th>count</th>\n",
              "      <td>320589</td>\n",
              "      <td>320589</td>\n",
              "      <td>261841</td>\n",
              "      <td>320589</td>\n",
              "      <td>187704</td>\n",
              "      <td>96189</td>\n",
              "      <td>112593</td>\n",
              "      <td>320589</td>\n",
              "      <td>315734</td>\n",
              "      <td>291569</td>\n",
              "      <td>43991</td>\n",
              "      <td>172648</td>\n",
              "      <td>320589</td>\n",
              "      <td>320589</td>\n",
              "      <td>320588</td>\n",
              "      <td>320589</td>\n",
              "      <td>192125</td>\n",
              "      <td>3.205890e+05</td>\n",
              "    </tr>\n",
              "    <tr>\n",
              "      <th>unique</th>\n",
              "      <td>2717</td>\n",
              "      <td>18</td>\n",
              "      <td>76</td>\n",
              "      <td>164</td>\n",
              "      <td>215</td>\n",
              "      <td>94398</td>\n",
              "      <td>10</td>\n",
              "      <td>3755</td>\n",
              "      <td>63</td>\n",
              "      <td>15131</td>\n",
              "      <td>3</td>\n",
              "      <td>4</td>\n",
              "      <td>6</td>\n",
              "      <td>2655</td>\n",
              "      <td>8</td>\n",
              "      <td>2</td>\n",
              "      <td>2</td>\n",
              "      <td>NaN</td>\n",
              "    </tr>\n",
              "    <tr>\n",
              "      <th>top</th>\n",
              "      <td>09/08/2017</td>\n",
              "      <td>Mortgage</td>\n",
              "      <td>Credit reporting</td>\n",
              "      <td>Incorrect information on your report</td>\n",
              "      <td>Information belongs to someone else</td>\n",
              "      <td>There are many mistakes appear in my report wi...</td>\n",
              "      <td>Company has responded to the consumer and the ...</td>\n",
              "      <td>EQUIFAX, INC.</td>\n",
              "      <td>CA</td>\n",
              "      <td>300XX</td>\n",
              "      <td>Servicemember</td>\n",
              "      <td>Consent provided</td>\n",
              "      <td>Web</td>\n",
              "      <td>09/08/2017</td>\n",
              "      <td>Closed with explanation</td>\n",
              "      <td>Yes</td>\n",
              "      <td>No</td>\n",
              "      <td>NaN</td>\n",
              "    </tr>\n",
              "    <tr>\n",
              "      <th>freq</th>\n",
              "      <td>888</td>\n",
              "      <td>69084</td>\n",
              "      <td>55375</td>\n",
              "      <td>33534</td>\n",
              "      <td>14655</td>\n",
              "      <td>235</td>\n",
              "      <td>78245</td>\n",
              "      <td>28538</td>\n",
              "      <td>43853</td>\n",
              "      <td>1874</td>\n",
              "      <td>21178</td>\n",
              "      <td>96263</td>\n",
              "      <td>236272</td>\n",
              "      <td>840</td>\n",
              "      <td>248222</td>\n",
              "      <td>312560</td>\n",
              "      <td>155296</td>\n",
              "      <td>NaN</td>\n",
              "    </tr>\n",
              "    <tr>\n",
              "      <th>mean</th>\n",
              "      <td>NaN</td>\n",
              "      <td>NaN</td>\n",
              "      <td>NaN</td>\n",
              "      <td>NaN</td>\n",
              "      <td>NaN</td>\n",
              "      <td>NaN</td>\n",
              "      <td>NaN</td>\n",
              "      <td>NaN</td>\n",
              "      <td>NaN</td>\n",
              "      <td>NaN</td>\n",
              "      <td>NaN</td>\n",
              "      <td>NaN</td>\n",
              "      <td>NaN</td>\n",
              "      <td>NaN</td>\n",
              "      <td>NaN</td>\n",
              "      <td>NaN</td>\n",
              "      <td>NaN</td>\n",
              "      <td>1.929833e+06</td>\n",
              "    </tr>\n",
              "    <tr>\n",
              "      <th>std</th>\n",
              "      <td>NaN</td>\n",
              "      <td>NaN</td>\n",
              "      <td>NaN</td>\n",
              "      <td>NaN</td>\n",
              "      <td>NaN</td>\n",
              "      <td>NaN</td>\n",
              "      <td>NaN</td>\n",
              "      <td>NaN</td>\n",
              "      <td>NaN</td>\n",
              "      <td>NaN</td>\n",
              "      <td>NaN</td>\n",
              "      <td>NaN</td>\n",
              "      <td>NaN</td>\n",
              "      <td>NaN</td>\n",
              "      <td>NaN</td>\n",
              "      <td>NaN</td>\n",
              "      <td>NaN</td>\n",
              "      <td>9.645244e+05</td>\n",
              "    </tr>\n",
              "    <tr>\n",
              "      <th>min</th>\n",
              "      <td>NaN</td>\n",
              "      <td>NaN</td>\n",
              "      <td>NaN</td>\n",
              "      <td>NaN</td>\n",
              "      <td>NaN</td>\n",
              "      <td>NaN</td>\n",
              "      <td>NaN</td>\n",
              "      <td>NaN</td>\n",
              "      <td>NaN</td>\n",
              "      <td>NaN</td>\n",
              "      <td>NaN</td>\n",
              "      <td>NaN</td>\n",
              "      <td>NaN</td>\n",
              "      <td>NaN</td>\n",
              "      <td>NaN</td>\n",
              "      <td>NaN</td>\n",
              "      <td>NaN</td>\n",
              "      <td>1.600000e+01</td>\n",
              "    </tr>\n",
              "    <tr>\n",
              "      <th>25%</th>\n",
              "      <td>NaN</td>\n",
              "      <td>NaN</td>\n",
              "      <td>NaN</td>\n",
              "      <td>NaN</td>\n",
              "      <td>NaN</td>\n",
              "      <td>NaN</td>\n",
              "      <td>NaN</td>\n",
              "      <td>NaN</td>\n",
              "      <td>NaN</td>\n",
              "      <td>NaN</td>\n",
              "      <td>NaN</td>\n",
              "      <td>NaN</td>\n",
              "      <td>NaN</td>\n",
              "      <td>NaN</td>\n",
              "      <td>NaN</td>\n",
              "      <td>NaN</td>\n",
              "      <td>NaN</td>\n",
              "      <td>1.124124e+06</td>\n",
              "    </tr>\n",
              "    <tr>\n",
              "      <th>50%</th>\n",
              "      <td>NaN</td>\n",
              "      <td>NaN</td>\n",
              "      <td>NaN</td>\n",
              "      <td>NaN</td>\n",
              "      <td>NaN</td>\n",
              "      <td>NaN</td>\n",
              "      <td>NaN</td>\n",
              "      <td>NaN</td>\n",
              "      <td>NaN</td>\n",
              "      <td>NaN</td>\n",
              "      <td>NaN</td>\n",
              "      <td>NaN</td>\n",
              "      <td>NaN</td>\n",
              "      <td>NaN</td>\n",
              "      <td>NaN</td>\n",
              "      <td>NaN</td>\n",
              "      <td>NaN</td>\n",
              "      <td>2.123204e+06</td>\n",
              "    </tr>\n",
              "    <tr>\n",
              "      <th>75%</th>\n",
              "      <td>NaN</td>\n",
              "      <td>NaN</td>\n",
              "      <td>NaN</td>\n",
              "      <td>NaN</td>\n",
              "      <td>NaN</td>\n",
              "      <td>NaN</td>\n",
              "      <td>NaN</td>\n",
              "      <td>NaN</td>\n",
              "      <td>NaN</td>\n",
              "      <td>NaN</td>\n",
              "      <td>NaN</td>\n",
              "      <td>NaN</td>\n",
              "      <td>NaN</td>\n",
              "      <td>NaN</td>\n",
              "      <td>NaN</td>\n",
              "      <td>NaN</td>\n",
              "      <td>NaN</td>\n",
              "      <td>2.798915e+06</td>\n",
              "    </tr>\n",
              "    <tr>\n",
              "      <th>max</th>\n",
              "      <td>NaN</td>\n",
              "      <td>NaN</td>\n",
              "      <td>NaN</td>\n",
              "      <td>NaN</td>\n",
              "      <td>NaN</td>\n",
              "      <td>NaN</td>\n",
              "      <td>NaN</td>\n",
              "      <td>NaN</td>\n",
              "      <td>NaN</td>\n",
              "      <td>NaN</td>\n",
              "      <td>NaN</td>\n",
              "      <td>NaN</td>\n",
              "      <td>NaN</td>\n",
              "      <td>NaN</td>\n",
              "      <td>NaN</td>\n",
              "      <td>NaN</td>\n",
              "      <td>NaN</td>\n",
              "      <td>3.238682e+06</td>\n",
              "    </tr>\n",
              "  </tbody>\n",
              "</table>\n",
              "</div>"
            ],
            "text/plain": [
              "       Date received   Product  ... Consumer disputed?  Complaint ID\n",
              "count         320589    320589  ...             192125  3.205890e+05\n",
              "unique          2717        18  ...                  2           NaN\n",
              "top       09/08/2017  Mortgage  ...                 No           NaN\n",
              "freq             888     69084  ...             155296           NaN\n",
              "mean             NaN       NaN  ...                NaN  1.929833e+06\n",
              "std              NaN       NaN  ...                NaN  9.645244e+05\n",
              "min              NaN       NaN  ...                NaN  1.600000e+01\n",
              "25%              NaN       NaN  ...                NaN  1.124124e+06\n",
              "50%              NaN       NaN  ...                NaN  2.123204e+06\n",
              "75%              NaN       NaN  ...                NaN  2.798915e+06\n",
              "max              NaN       NaN  ...                NaN  3.238682e+06\n",
              "\n",
              "[11 rows x 18 columns]"
            ]
          },
          "metadata": {
            "tags": []
          },
          "execution_count": 29
        }
      ]
    },
    {
      "cell_type": "markdown",
      "metadata": {
        "id": "8gyuUIOvxdMd"
      },
      "source": [
        "По данной таблице видно, что практически все признаки являются категориальными. Числовой признак **Complaint ID**, для которого рассчитаны среднее, разброс и т.д., не влияет на классификацию данных, поскольку он является уникальным идентификатором каждого клиента, и по большому счету его можно исключить."
      ]
    },
    {
      "cell_type": "code",
      "metadata": {
        "id": "VYPutv8M1nyS"
      },
      "source": [
        "data_raw = data_raw.drop('Complaint ID', axis = 1)"
      ],
      "execution_count": null,
      "outputs": []
    },
    {
      "cell_type": "markdown",
      "metadata": {
        "id": "NNrRhnAq_2Pp"
      },
      "source": [
        "Также можно исключить столбец **Date sent to company**, поскольку он практически повторяет значения столбца **Date received**."
      ]
    },
    {
      "cell_type": "code",
      "metadata": {
        "id": "6eE7tyyuB3WX"
      },
      "source": [
        "data_raw = data_raw.drop('Date sent to company', axis = 1)"
      ],
      "execution_count": null,
      "outputs": []
    },
    {
      "cell_type": "code",
      "metadata": {
        "id": "U5o3SwM5u8O7",
        "outputId": "fa535f95-8c07-4f4b-b6f2-1ad712b45ebf",
        "colab": {
          "base_uri": "https://localhost:8080/"
        }
      },
      "source": [
        "data_raw.describe(include='all')"
      ],
      "execution_count": null,
      "outputs": [
        {
          "output_type": "execute_result",
          "data": {
            "text/html": [
              "<div>\n",
              "<style scoped>\n",
              "    .dataframe tbody tr th:only-of-type {\n",
              "        vertical-align: middle;\n",
              "    }\n",
              "\n",
              "    .dataframe tbody tr th {\n",
              "        vertical-align: top;\n",
              "    }\n",
              "\n",
              "    .dataframe thead th {\n",
              "        text-align: right;\n",
              "    }\n",
              "</style>\n",
              "<table border=\"1\" class=\"dataframe\">\n",
              "  <thead>\n",
              "    <tr style=\"text-align: right;\">\n",
              "      <th></th>\n",
              "      <th>Date received</th>\n",
              "      <th>Product</th>\n",
              "      <th>Sub-product</th>\n",
              "      <th>Issue</th>\n",
              "      <th>Sub-issue</th>\n",
              "      <th>Consumer complaint narrative</th>\n",
              "      <th>Company public response</th>\n",
              "      <th>Company</th>\n",
              "      <th>State</th>\n",
              "      <th>ZIP code</th>\n",
              "      <th>Tags</th>\n",
              "      <th>Consumer consent provided?</th>\n",
              "      <th>Submitted via</th>\n",
              "      <th>Company response to consumer</th>\n",
              "      <th>Timely response?</th>\n",
              "      <th>Consumer disputed?</th>\n",
              "    </tr>\n",
              "  </thead>\n",
              "  <tbody>\n",
              "    <tr>\n",
              "      <th>count</th>\n",
              "      <td>320589</td>\n",
              "      <td>320589</td>\n",
              "      <td>261841</td>\n",
              "      <td>320589</td>\n",
              "      <td>187704</td>\n",
              "      <td>96189</td>\n",
              "      <td>112593</td>\n",
              "      <td>320589</td>\n",
              "      <td>315734</td>\n",
              "      <td>291569</td>\n",
              "      <td>43991</td>\n",
              "      <td>172648</td>\n",
              "      <td>320589</td>\n",
              "      <td>320588</td>\n",
              "      <td>320589</td>\n",
              "      <td>192125</td>\n",
              "    </tr>\n",
              "    <tr>\n",
              "      <th>unique</th>\n",
              "      <td>2717</td>\n",
              "      <td>18</td>\n",
              "      <td>76</td>\n",
              "      <td>164</td>\n",
              "      <td>215</td>\n",
              "      <td>94398</td>\n",
              "      <td>10</td>\n",
              "      <td>3755</td>\n",
              "      <td>63</td>\n",
              "      <td>15131</td>\n",
              "      <td>3</td>\n",
              "      <td>4</td>\n",
              "      <td>6</td>\n",
              "      <td>8</td>\n",
              "      <td>2</td>\n",
              "      <td>2</td>\n",
              "    </tr>\n",
              "    <tr>\n",
              "      <th>top</th>\n",
              "      <td>09/08/2017</td>\n",
              "      <td>Mortgage</td>\n",
              "      <td>Credit reporting</td>\n",
              "      <td>Incorrect information on your report</td>\n",
              "      <td>Information belongs to someone else</td>\n",
              "      <td>There are many mistakes appear in my report wi...</td>\n",
              "      <td>Company has responded to the consumer and the ...</td>\n",
              "      <td>EQUIFAX, INC.</td>\n",
              "      <td>CA</td>\n",
              "      <td>300XX</td>\n",
              "      <td>Servicemember</td>\n",
              "      <td>Consent provided</td>\n",
              "      <td>Web</td>\n",
              "      <td>Closed with explanation</td>\n",
              "      <td>Yes</td>\n",
              "      <td>No</td>\n",
              "    </tr>\n",
              "    <tr>\n",
              "      <th>freq</th>\n",
              "      <td>888</td>\n",
              "      <td>69084</td>\n",
              "      <td>55375</td>\n",
              "      <td>33534</td>\n",
              "      <td>14655</td>\n",
              "      <td>235</td>\n",
              "      <td>78245</td>\n",
              "      <td>28538</td>\n",
              "      <td>43853</td>\n",
              "      <td>1874</td>\n",
              "      <td>21178</td>\n",
              "      <td>96263</td>\n",
              "      <td>236272</td>\n",
              "      <td>248222</td>\n",
              "      <td>312560</td>\n",
              "      <td>155296</td>\n",
              "    </tr>\n",
              "  </tbody>\n",
              "</table>\n",
              "</div>"
            ],
            "text/plain": [
              "       Date received   Product  ... Timely response? Consumer disputed?\n",
              "count         320589    320589  ...           320589             192125\n",
              "unique          2717        18  ...                2                  2\n",
              "top       09/08/2017  Mortgage  ...              Yes                 No\n",
              "freq             888     69084  ...           312560             155296\n",
              "\n",
              "[4 rows x 16 columns]"
            ]
          },
          "metadata": {
            "tags": []
          },
          "execution_count": 32
        }
      ]
    },
    {
      "cell_type": "markdown",
      "metadata": {
        "id": "0ef625Ec--mB"
      },
      "source": [
        "Посмотрим на категориальные признаки."
      ]
    },
    {
      "cell_type": "code",
      "metadata": {
        "id": "GW8WUeqU_Oui",
        "outputId": "9dc6a23a-9445-4a6a-d179-33d49e0dfe2d",
        "colab": {
          "base_uri": "https://localhost:8080/"
        }
      },
      "source": [
        "sns.catplot(kind=\"count\", y = \"Product\", data = data_raw)\n",
        "pass"
      ],
      "execution_count": null,
      "outputs": [
        {
          "output_type": "stream",
          "text": [
            "/usr/local/lib/python3.6/dist-packages/seaborn/axisgrid.py:64: UserWarning: Tight layout not applied. The left and right margins cannot be made large enough to accommodate all axes decorations. \n",
            "  self.fig.tight_layout(*args, **kwargs)\n"
          ],
          "name": "stderr"
        },
        {
          "output_type": "display_data",
          "data": {
            "image/png": "[encoded data removed]",
            "text/plain": [
              "<Figure size 360x360 with 1 Axes>"
            ]
          },
          "metadata": {
            "tags": [],
            "needs_background": "light"
          }
        }
      ]
    },
    {
      "cell_type": "markdown",
      "metadata": {
        "id": "CAHbfZa6oLJZ"
      },
      "source": [
        "Как видно, классы несбалансированы. Большинство жалоб относятся к **Mortage**, **Debt collection** и **Credit reporting, credit repair services, or other personal consumer reports**."
      ]
    },
    {
      "cell_type": "code",
      "metadata": {
        "id": "-JQ2QvFc_bXn",
        "outputId": "c50ac535-3c6f-40cf-abf2-ed544e734d9d",
        "colab": {
          "base_uri": "https://localhost:8080/"
        }
      },
      "source": [
        "sns.catplot(kind=\"count\", y = \"Submitted via\", data = data_raw)\n",
        "pass"
      ],
      "execution_count": null,
      "outputs": [
        {
          "output_type": "display_data",
          "data": {
            "image/png": "[encoded data removed]",
            "text/plain": [
              "<Figure size 360x360 with 1 Axes>"
            ]
          },
          "metadata": {
            "tags": [],
            "needs_background": "light"
          }
        }
      ]
    },
    {
      "cell_type": "code",
      "metadata": {
        "id": "0ZBO8cGG_xY0",
        "outputId": "5516679b-8708-40cb-8b19-38dfea9fc341",
        "colab": {
          "base_uri": "https://localhost:8080/"
        }
      },
      "source": [
        "sns.catplot(kind=\"count\", y = \"Company public response\", data = data_raw)\n",
        "pass"
      ],
      "execution_count": null,
      "outputs": [
        {
          "output_type": "stream",
          "text": [
            "/usr/local/lib/python3.6/dist-packages/seaborn/axisgrid.py:64: UserWarning: Tight layout not applied. The left and right margins cannot be made large enough to accommodate all axes decorations. \n",
            "  self.fig.tight_layout(*args, **kwargs)\n"
          ],
          "name": "stderr"
        },
        {
          "output_type": "display_data",
          "data": {
            "image/png": "[encoded data removed]",
            "text/plain": [
              "<Figure size 360x360 with 1 Axes>"
            ]
          },
          "metadata": {
            "tags": [],
            "needs_background": "light"
          }
        }
      ]
    },
    {
      "cell_type": "code",
      "metadata": {
        "id": "jBVAQoz5_lW7",
        "outputId": "07c25a28-d2d1-4415-90c1-626c0fc7b1e3",
        "colab": {
          "base_uri": "https://localhost:8080/"
        }
      },
      "source": [
        "sns.catplot(kind=\"count\", y = \"Timely response?\", data = data_raw)\n",
        "pass"
      ],
      "execution_count": null,
      "outputs": [
        {
          "output_type": "display_data",
          "data": {
            "image/png": "[encoded data removed]",
            "text/plain": [
              "<Figure size 360x360 with 1 Axes>"
            ]
          },
          "metadata": {
            "tags": [],
            "needs_background": "light"
          }
        }
      ]
    },
    {
      "cell_type": "code",
      "metadata": {
        "id": "pE-368KW_7XD",
        "outputId": "d1823431-3660-471a-9e9a-cbbc72ab5e2c",
        "colab": {
          "base_uri": "https://localhost:8080/"
        }
      },
      "source": [
        "sns.catplot(kind=\"count\", y = \"Consumer disputed?\", data = data_raw)\n",
        "pass"
      ],
      "execution_count": null,
      "outputs": [
        {
          "output_type": "display_data",
          "data": {
            "image/png": "[encoded data removed]",
            "text/plain": [
              "<Figure size 360x360 with 1 Axes>"
            ]
          },
          "metadata": {
            "tags": [],
            "needs_background": "light"
          }
        }
      ]
    },
    {
      "cell_type": "markdown",
      "metadata": {
        "id": "Xucx2Hl447w2"
      },
      "source": [
        "## 3. Обработка пропущенных значений"
      ]
    },
    {
      "cell_type": "markdown",
      "metadata": {
        "id": "hbXmIga_5XJj"
      },
      "source": [
        "Как было видно из описания таблицы, в некоторых столбцах присутствуют пропущенные значения. Поскольку оставшиеся признаки являются категориальными, пропущенные значения можно заполнить самым популярным значением в столбце."
      ]
    },
    {
      "cell_type": "code",
      "metadata": {
        "id": "ZVOdJF2yvJGP",
        "outputId": "bdc80dd1-2f8d-4cf9-cccf-2afbfd77ed7a",
        "colab": {
          "base_uri": "https://localhost:8080/"
        }
      },
      "source": [
        "data_raw[data_raw.columns].count(axis=0)"
      ],
      "execution_count": null,
      "outputs": [
        {
          "output_type": "execute_result",
          "data": {
            "text/plain": [
              "Date received                   320589\n",
              "Product                         320589\n",
              "Sub-product                     261841\n",
              "Issue                           320589\n",
              "Sub-issue                       187704\n",
              "Consumer complaint narrative     96189\n",
              "Company public response         112593\n",
              "Company                         320589\n",
              "State                           315734\n",
              "ZIP code                        291569\n",
              "Tags                             43991\n",
              "Consumer consent provided?      172648\n",
              "Submitted via                   320589\n",
              "Company response to consumer    320588\n",
              "Timely response?                320589\n",
              "Consumer disputed?              192125\n",
              "dtype: int64"
            ]
          },
          "metadata": {
            "tags": []
          },
          "execution_count": 38
        }
      ]
    },
    {
      "cell_type": "markdown",
      "metadata": {
        "id": "OqhJVYBBEsJi"
      },
      "source": [
        "Пропущенные значения имеются в столбцах: **Sub-product**, **Sub-issue**, **Consumer complaint narrative**, **Company public response**, **State**, **ZIP code**,**Tags**, **Consumer consent provided?**, **Company response to consumer**, **Consumer disputed?**."
      ]
    },
    {
      "cell_type": "code",
      "metadata": {
        "id": "m59crmmMGthP",
        "outputId": "601c2386-e0e0-48bf-ab9e-22ffad8c5042",
        "colab": {
          "base_uri": "https://localhost:8080/"
        }
      },
      "source": [
        "data_raw['Sub-issue'].describe()['top']"
      ],
      "execution_count": null,
      "outputs": [
        {
          "output_type": "execute_result",
          "data": {
            "application/vnd.google.colaboratory.intrinsic+json": {
              "type": "string"
            },
            "text/plain": [
              "'Information belongs to someone else'"
            ]
          },
          "metadata": {
            "tags": []
          },
          "execution_count": 39
        }
      ]
    },
    {
      "cell_type": "code",
      "metadata": {
        "id": "dSX0XJ7UJE3n"
      },
      "source": [
        "data_fill = data_raw.copy(deep=True)"
      ],
      "execution_count": null,
      "outputs": []
    },
    {
      "cell_type": "code",
      "metadata": {
        "id": "H-uepPZzJLBa"
      },
      "source": [
        "data_describe = data_fill.describe(include = 'object')\n",
        "for c in data_fill.columns:\n",
        "    data_fill[c] = data_fill[c].fillna(data_describe[c]['top'])"
      ],
      "execution_count": null,
      "outputs": []
    },
    {
      "cell_type": "code",
      "metadata": {
        "id": "F8F6hsxyvgb0",
        "outputId": "855b7f86-2054-45e4-b11b-49a72cd00d18",
        "colab": {
          "base_uri": "https://localhost:8080/"
        }
      },
      "source": [
        "data_fill.describe()"
      ],
      "execution_count": null,
      "outputs": [
        {
          "output_type": "execute_result",
          "data": {
            "text/html": [
              "<div>\n",
              "<style scoped>\n",
              "    .dataframe tbody tr th:only-of-type {\n",
              "        vertical-align: middle;\n",
              "    }\n",
              "\n",
              "    .dataframe tbody tr th {\n",
              "        vertical-align: top;\n",
              "    }\n",
              "\n",
              "    .dataframe thead th {\n",
              "        text-align: right;\n",
              "    }\n",
              "</style>\n",
              "<table border=\"1\" class=\"dataframe\">\n",
              "  <thead>\n",
              "    <tr style=\"text-align: right;\">\n",
              "      <th></th>\n",
              "      <th>Date received</th>\n",
              "      <th>Product</th>\n",
              "      <th>Sub-product</th>\n",
              "      <th>Issue</th>\n",
              "      <th>Sub-issue</th>\n",
              "      <th>Consumer complaint narrative</th>\n",
              "      <th>Company public response</th>\n",
              "      <th>Company</th>\n",
              "      <th>State</th>\n",
              "      <th>ZIP code</th>\n",
              "      <th>Tags</th>\n",
              "      <th>Consumer consent provided?</th>\n",
              "      <th>Submitted via</th>\n",
              "      <th>Company response to consumer</th>\n",
              "      <th>Timely response?</th>\n",
              "      <th>Consumer disputed?</th>\n",
              "    </tr>\n",
              "  </thead>\n",
              "  <tbody>\n",
              "    <tr>\n",
              "      <th>count</th>\n",
              "      <td>320589</td>\n",
              "      <td>320589</td>\n",
              "      <td>320589</td>\n",
              "      <td>320589</td>\n",
              "      <td>320589</td>\n",
              "      <td>320589</td>\n",
              "      <td>320589</td>\n",
              "      <td>320589</td>\n",
              "      <td>320589</td>\n",
              "      <td>320589</td>\n",
              "      <td>320589</td>\n",
              "      <td>320589</td>\n",
              "      <td>320589</td>\n",
              "      <td>320589</td>\n",
              "      <td>320589</td>\n",
              "      <td>320589</td>\n",
              "    </tr>\n",
              "    <tr>\n",
              "      <th>unique</th>\n",
              "      <td>2717</td>\n",
              "      <td>18</td>\n",
              "      <td>76</td>\n",
              "      <td>164</td>\n",
              "      <td>215</td>\n",
              "      <td>94398</td>\n",
              "      <td>10</td>\n",
              "      <td>3755</td>\n",
              "      <td>63</td>\n",
              "      <td>15131</td>\n",
              "      <td>3</td>\n",
              "      <td>4</td>\n",
              "      <td>6</td>\n",
              "      <td>8</td>\n",
              "      <td>2</td>\n",
              "      <td>2</td>\n",
              "    </tr>\n",
              "    <tr>\n",
              "      <th>top</th>\n",
              "      <td>09/08/2017</td>\n",
              "      <td>Mortgage</td>\n",
              "      <td>Credit reporting</td>\n",
              "      <td>Incorrect information on your report</td>\n",
              "      <td>Information belongs to someone else</td>\n",
              "      <td>There are many mistakes appear in my report wi...</td>\n",
              "      <td>Company has responded to the consumer and the ...</td>\n",
              "      <td>EQUIFAX, INC.</td>\n",
              "      <td>CA</td>\n",
              "      <td>300XX</td>\n",
              "      <td>Servicemember</td>\n",
              "      <td>Consent provided</td>\n",
              "      <td>Web</td>\n",
              "      <td>Closed with explanation</td>\n",
              "      <td>Yes</td>\n",
              "      <td>No</td>\n",
              "    </tr>\n",
              "    <tr>\n",
              "      <th>freq</th>\n",
              "      <td>888</td>\n",
              "      <td>69084</td>\n",
              "      <td>114123</td>\n",
              "      <td>33534</td>\n",
              "      <td>147540</td>\n",
              "      <td>224635</td>\n",
              "      <td>286241</td>\n",
              "      <td>28538</td>\n",
              "      <td>48708</td>\n",
              "      <td>30894</td>\n",
              "      <td>297776</td>\n",
              "      <td>244204</td>\n",
              "      <td>236272</td>\n",
              "      <td>248223</td>\n",
              "      <td>312560</td>\n",
              "      <td>283760</td>\n",
              "    </tr>\n",
              "  </tbody>\n",
              "</table>\n",
              "</div>"
            ],
            "text/plain": [
              "       Date received   Product  ... Timely response? Consumer disputed?\n",
              "count         320589    320589  ...           320589             320589\n",
              "unique          2717        18  ...                2                  2\n",
              "top       09/08/2017  Mortgage  ...              Yes                 No\n",
              "freq             888     69084  ...           312560             283760\n",
              "\n",
              "[4 rows x 16 columns]"
            ]
          },
          "metadata": {
            "tags": []
          },
          "execution_count": 42
        }
      ]
    },
    {
      "cell_type": "code",
      "metadata": {
        "id": "99mfrZzKLOL-",
        "outputId": "4fb9246a-d485-4911-e172-2683b72cafe7",
        "colab": {
          "base_uri": "https://localhost:8080/"
        }
      },
      "source": [
        "data_fill[data_fill.columns].count(axis=0)"
      ],
      "execution_count": null,
      "outputs": [
        {
          "output_type": "execute_result",
          "data": {
            "text/plain": [
              "Date received                   320589\n",
              "Product                         320589\n",
              "Sub-product                     320589\n",
              "Issue                           320589\n",
              "Sub-issue                       320589\n",
              "Consumer complaint narrative    320589\n",
              "Company public response         320589\n",
              "Company                         320589\n",
              "State                           320589\n",
              "ZIP code                        320589\n",
              "Tags                            320589\n",
              "Consumer consent provided?      320589\n",
              "Submitted via                   320589\n",
              "Company response to consumer    320589\n",
              "Timely response?                320589\n",
              "Consumer disputed?              320589\n",
              "dtype: int64"
            ]
          },
          "metadata": {
            "tags": []
          },
          "execution_count": 43
        }
      ]
    },
    {
      "cell_type": "markdown",
      "metadata": {
        "id": "68jocLNxK_g3"
      },
      "source": [
        "## 4. Обработка категориальных признаков"
      ]
    },
    {
      "cell_type": "markdown",
      "metadata": {
        "id": "YzjpV76bMKf7"
      },
      "source": [
        "Для начала обработаем столбцы с *бинарными* признаками. В нашем случае это **Timely response?** и **Consumer disputed?**."
      ]
    },
    {
      "cell_type": "code",
      "metadata": {
        "id": "gL0H2zuUMJpY",
        "outputId": "aafc3e70-c3fc-4c00-d2bd-920c6e2ad300",
        "colab": {
          "base_uri": "https://localhost:8080/"
        }
      },
      "source": [
        "binary_columns    = [c for c in data_fill.columns if data_describe[c]['unique'] == 2]\n",
        "print(binary_columns)"
      ],
      "execution_count": null,
      "outputs": [
        {
          "output_type": "stream",
          "text": [
            "['Timely response?', 'Consumer disputed?']\n"
          ],
          "name": "stdout"
        }
      ]
    },
    {
      "cell_type": "code",
      "metadata": {
        "id": "oeMVTXUdvj3f",
        "outputId": "bafae033-b2ca-427e-bc39-4a90947532f1",
        "colab": {
          "base_uri": "https://localhost:8080/"
        }
      },
      "source": [
        "data_fill['Timely response?'].unique()"
      ],
      "execution_count": null,
      "outputs": [
        {
          "output_type": "execute_result",
          "data": {
            "text/plain": [
              "array(['Yes', 'No'], dtype=object)"
            ]
          },
          "metadata": {
            "tags": []
          },
          "execution_count": 45
        }
      ]
    },
    {
      "cell_type": "code",
      "metadata": {
        "id": "mbrSENL6vo-U",
        "outputId": "846d5e50-edf5-455d-f7f0-6ffa395e8275",
        "colab": {
          "base_uri": "https://localhost:8080/"
        }
      },
      "source": [
        "data_fill.at[data_fill['Timely response?'] == 'No', 'Timely response?'] = 0\n",
        "data_fill.at[data_fill['Timely response?'] == 'Yes', 'Timely response?'] = 1\n",
        "data_fill['Timely response?'].describe()"
      ],
      "execution_count": null,
      "outputs": [
        {
          "output_type": "execute_result",
          "data": {
            "text/plain": [
              "count     320589\n",
              "unique         2\n",
              "top            1\n",
              "freq      312560\n",
              "Name: Timely response?, dtype: int64"
            ]
          },
          "metadata": {
            "tags": []
          },
          "execution_count": 46
        }
      ]
    },
    {
      "cell_type": "code",
      "metadata": {
        "id": "KuSC97IhOPXK",
        "outputId": "6d86ec96-b41b-4f70-ddfe-ba33f63a3b9f",
        "colab": {
          "base_uri": "https://localhost:8080/"
        }
      },
      "source": [
        "data_fill['Consumer disputed?'].unique()"
      ],
      "execution_count": null,
      "outputs": [
        {
          "output_type": "execute_result",
          "data": {
            "text/plain": [
              "array(['No', 'Yes'], dtype=object)"
            ]
          },
          "metadata": {
            "tags": []
          },
          "execution_count": 47
        }
      ]
    },
    {
      "cell_type": "code",
      "metadata": {
        "id": "3h0QANdsQaiI",
        "outputId": "9981c172-552c-47f5-c162-9247ace87df5",
        "colab": {
          "base_uri": "https://localhost:8080/"
        }
      },
      "source": [
        "data_fill.at[data_fill['Consumer disputed?'] == 'No', 'Consumer disputed?'] = 0\n",
        "data_fill.at[data_fill['Consumer disputed?'] == 'Yes', 'Consumer disputed?'] = 1\n",
        "data_fill['Consumer disputed?'].describe()"
      ],
      "execution_count": null,
      "outputs": [
        {
          "output_type": "execute_result",
          "data": {
            "text/plain": [
              "count     320589\n",
              "unique         2\n",
              "top            0\n",
              "freq      283760\n",
              "Name: Consumer disputed?, dtype: int64"
            ]
          },
          "metadata": {
            "tags": []
          },
          "execution_count": 48
        }
      ]
    },
    {
      "cell_type": "markdown",
      "metadata": {
        "id": "q5xKfAGFRCPV"
      },
      "source": [
        "Для *небинарных* признаков применим метод *векторизации*, а именно метод `get_dummies` из Pandas."
      ]
    },
    {
      "cell_type": "markdown",
      "metadata": {
        "id": "s8UmRaceSlrW"
      },
      "source": [
        "Но перед этим исключим из рассмотрения столбцы **Consumer complaint narrative**, **Date received**, **Company** и **ZIP code**, поскольку у них слишком много уникальных значений."
      ]
    },
    {
      "cell_type": "code",
      "metadata": {
        "id": "WgseKdCFSHi9",
        "outputId": "1b9448a9-f5ad-4a95-ac2b-cfbfc1b6cf48",
        "colab": {
          "base_uri": "https://localhost:8080/"
        }
      },
      "source": [
        "len(data_fill['Consumer complaint narrative'].unique())"
      ],
      "execution_count": null,
      "outputs": [
        {
          "output_type": "execute_result",
          "data": {
            "text/plain": [
              "94398"
            ]
          },
          "metadata": {
            "tags": []
          },
          "execution_count": 49
        }
      ]
    },
    {
      "cell_type": "code",
      "metadata": {
        "id": "8cz7hYshTG4d",
        "outputId": "bf9383b7-195a-4a09-b3de-f21ecd206827",
        "colab": {
          "base_uri": "https://localhost:8080/"
        }
      },
      "source": [
        "len(data_fill['ZIP code'].unique())"
      ],
      "execution_count": null,
      "outputs": [
        {
          "output_type": "execute_result",
          "data": {
            "text/plain": [
              "15131"
            ]
          },
          "metadata": {
            "tags": []
          },
          "execution_count": 50
        }
      ]
    },
    {
      "cell_type": "code",
      "metadata": {
        "id": "YZVYhJV0WO21",
        "outputId": "f20e55e6-06f5-4ef4-b01f-2c37aed8575a",
        "colab": {
          "base_uri": "https://localhost:8080/"
        }
      },
      "source": [
        "len(data_fill['Date received'].unique())"
      ],
      "execution_count": null,
      "outputs": [
        {
          "output_type": "execute_result",
          "data": {
            "text/plain": [
              "2717"
            ]
          },
          "metadata": {
            "tags": []
          },
          "execution_count": 51
        }
      ]
    },
    {
      "cell_type": "code",
      "metadata": {
        "id": "xYp2KAjqWOaY",
        "outputId": "29e551c0-9d58-4835-a1c6-8f3024c2ebdd",
        "colab": {
          "base_uri": "https://localhost:8080/"
        }
      },
      "source": [
        "len(data_fill['Company'].unique())"
      ],
      "execution_count": null,
      "outputs": [
        {
          "output_type": "execute_result",
          "data": {
            "text/plain": [
              "3755"
            ]
          },
          "metadata": {
            "tags": []
          },
          "execution_count": 52
        }
      ]
    },
    {
      "cell_type": "code",
      "metadata": {
        "id": "npWDn75zTdyL"
      },
      "source": [
        "data_excl = data_fill.drop(['Consumer complaint narrative', 'ZIP code', 'Date received', 'Company', 'Sub-issue', 'State'], axis = 1)"
      ],
      "execution_count": null,
      "outputs": []
    },
    {
      "cell_type": "code",
      "metadata": {
        "id": "7ou2S2P3UKMt",
        "outputId": "70cccdb3-69a4-4c4f-9b07-0b174ed543e5",
        "colab": {
          "base_uri": "https://localhost:8080/"
        }
      },
      "source": [
        "nonbinary_columns = [c for c in data_excl.columns if data_describe[c]['unique'] > 2]\n",
        "nonbinary_columns.remove('Product')\n",
        "print(nonbinary_columns)"
      ],
      "execution_count": null,
      "outputs": [
        {
          "output_type": "stream",
          "text": [
            "['Sub-product', 'Issue', 'Company public response', 'Tags', 'Consumer consent provided?', 'Submitted via', 'Company response to consumer']\n"
          ],
          "name": "stdout"
        }
      ]
    },
    {
      "cell_type": "code",
      "metadata": {
        "id": "SMQ6FP4kUWf9",
        "outputId": "882b7dfc-c87f-40b0-d1df-c850111e432a",
        "colab": {
          "base_uri": "https://localhost:8080/"
        }
      },
      "source": [
        "data_excl[nonbinary_columns]"
      ],
      "execution_count": null,
      "outputs": [
        {
          "output_type": "execute_result",
          "data": {
            "text/html": [
              "<div>\n",
              "<style scoped>\n",
              "    .dataframe tbody tr th:only-of-type {\n",
              "        vertical-align: middle;\n",
              "    }\n",
              "\n",
              "    .dataframe tbody tr th {\n",
              "        vertical-align: top;\n",
              "    }\n",
              "\n",
              "    .dataframe thead th {\n",
              "        text-align: right;\n",
              "    }\n",
              "</style>\n",
              "<table border=\"1\" class=\"dataframe\">\n",
              "  <thead>\n",
              "    <tr style=\"text-align: right;\">\n",
              "      <th></th>\n",
              "      <th>Sub-product</th>\n",
              "      <th>Issue</th>\n",
              "      <th>Company public response</th>\n",
              "      <th>Tags</th>\n",
              "      <th>Consumer consent provided?</th>\n",
              "      <th>Submitted via</th>\n",
              "      <th>Company response to consumer</th>\n",
              "    </tr>\n",
              "  </thead>\n",
              "  <tbody>\n",
              "    <tr>\n",
              "      <th>0</th>\n",
              "      <td>Checking account</td>\n",
              "      <td>Managing an account</td>\n",
              "      <td>Company has responded to the consumer and the ...</td>\n",
              "      <td>Older American</td>\n",
              "      <td>Consent provided</td>\n",
              "      <td>Web</td>\n",
              "      <td>In progress</td>\n",
              "    </tr>\n",
              "    <tr>\n",
              "      <th>1</th>\n",
              "      <td>Checking account</td>\n",
              "      <td>Managing an account</td>\n",
              "      <td>Company has responded to the consumer and the ...</td>\n",
              "      <td>Servicemember</td>\n",
              "      <td>Consent provided</td>\n",
              "      <td>Postal mail</td>\n",
              "      <td>In progress</td>\n",
              "    </tr>\n",
              "    <tr>\n",
              "      <th>2</th>\n",
              "      <td>Other debt</td>\n",
              "      <td>Attempts to collect debt not owed</td>\n",
              "      <td>Company has responded to the consumer and the ...</td>\n",
              "      <td>Servicemember</td>\n",
              "      <td>Consent provided</td>\n",
              "      <td>Web</td>\n",
              "      <td>In progress</td>\n",
              "    </tr>\n",
              "    <tr>\n",
              "      <th>3</th>\n",
              "      <td>Payday loan debt</td>\n",
              "      <td>Attempts to collect debt not owed</td>\n",
              "      <td>Company has responded to the consumer and the ...</td>\n",
              "      <td>Servicemember</td>\n",
              "      <td>Consent provided</td>\n",
              "      <td>Web</td>\n",
              "      <td>Closed with explanation</td>\n",
              "    </tr>\n",
              "    <tr>\n",
              "      <th>4</th>\n",
              "      <td>Medical debt</td>\n",
              "      <td>Communication tactics</td>\n",
              "      <td>Company has responded to the consumer and the ...</td>\n",
              "      <td>Servicemember</td>\n",
              "      <td>Consent provided</td>\n",
              "      <td>Web</td>\n",
              "      <td>Closed with explanation</td>\n",
              "    </tr>\n",
              "    <tr>\n",
              "      <th>...</th>\n",
              "      <td>...</td>\n",
              "      <td>...</td>\n",
              "      <td>...</td>\n",
              "      <td>...</td>\n",
              "      <td>...</td>\n",
              "      <td>...</td>\n",
              "      <td>...</td>\n",
              "    </tr>\n",
              "    <tr>\n",
              "      <th>320584</th>\n",
              "      <td>Credit reporting</td>\n",
              "      <td>APR or interest rate</td>\n",
              "      <td>Company has responded to the consumer and the ...</td>\n",
              "      <td>Servicemember</td>\n",
              "      <td>Consent provided</td>\n",
              "      <td>Web</td>\n",
              "      <td>Closed without relief</td>\n",
              "    </tr>\n",
              "    <tr>\n",
              "      <th>320585</th>\n",
              "      <td>Home equity loan or line of credit</td>\n",
              "      <td>Loan servicing, payments, escrow account</td>\n",
              "      <td>Company has responded to the consumer and the ...</td>\n",
              "      <td>Servicemember</td>\n",
              "      <td>Consent provided</td>\n",
              "      <td>Phone</td>\n",
              "      <td>Closed without relief</td>\n",
              "    </tr>\n",
              "    <tr>\n",
              "      <th>320586</th>\n",
              "      <td>Conventional fixed mortgage</td>\n",
              "      <td>Loan servicing, payments, escrow account</td>\n",
              "      <td>Company has responded to the consumer and the ...</td>\n",
              "      <td>Servicemember</td>\n",
              "      <td>Consent provided</td>\n",
              "      <td>Web</td>\n",
              "      <td>Closed without relief</td>\n",
              "    </tr>\n",
              "    <tr>\n",
              "      <th>320587</th>\n",
              "      <td>Credit reporting</td>\n",
              "      <td>Balance transfer</td>\n",
              "      <td>Company has responded to the consumer and the ...</td>\n",
              "      <td>Servicemember</td>\n",
              "      <td>Consent provided</td>\n",
              "      <td>Referral</td>\n",
              "      <td>Closed with relief</td>\n",
              "    </tr>\n",
              "    <tr>\n",
              "      <th>320588</th>\n",
              "      <td>Credit reporting</td>\n",
              "      <td>Billing disputes</td>\n",
              "      <td>Company has responded to the consumer and the ...</td>\n",
              "      <td>Servicemember</td>\n",
              "      <td>Consent provided</td>\n",
              "      <td>Referral</td>\n",
              "      <td>Closed with relief</td>\n",
              "    </tr>\n",
              "  </tbody>\n",
              "</table>\n",
              "<p>320589 rows × 7 columns</p>\n",
              "</div>"
            ],
            "text/plain": [
              "                               Sub-product  ... Company response to consumer\n",
              "0                         Checking account  ...                  In progress\n",
              "1                         Checking account  ...                  In progress\n",
              "2                               Other debt  ...                  In progress\n",
              "3                         Payday loan debt  ...      Closed with explanation\n",
              "4                             Medical debt  ...      Closed with explanation\n",
              "...                                    ...  ...                          ...\n",
              "320584                    Credit reporting  ...        Closed without relief\n",
              "320585  Home equity loan or line of credit  ...        Closed without relief\n",
              "320586         Conventional fixed mortgage  ...        Closed without relief\n",
              "320587                    Credit reporting  ...           Closed with relief\n",
              "320588                    Credit reporting  ...           Closed with relief\n",
              "\n",
              "[320589 rows x 7 columns]"
            ]
          },
          "metadata": {
            "tags": []
          },
          "execution_count": 55
        }
      ]
    },
    {
      "cell_type": "code",
      "metadata": {
        "id": "uhCMTsOZRhkW"
      },
      "source": [
        "data_nonbinary = pd.get_dummies(data_excl[nonbinary_columns])"
      ],
      "execution_count": null,
      "outputs": []
    },
    {
      "cell_type": "code",
      "metadata": {
        "id": "aIkVt51LUgf1",
        "outputId": "048b827e-fecc-45b9-fb9b-68e0846856fa",
        "colab": {
          "base_uri": "https://localhost:8080/"
        }
      },
      "source": [
        "len(data_nonbinary.columns)"
      ],
      "execution_count": null,
      "outputs": [
        {
          "output_type": "execute_result",
          "data": {
            "text/plain": [
              "271"
            ]
          },
          "metadata": {
            "tags": []
          },
          "execution_count": 57
        }
      ]
    },
    {
      "cell_type": "markdown",
      "metadata": {
        "id": "fkZ2m52XXEA5"
      },
      "source": [
        "## 5. Нормализация"
      ]
    },
    {
      "cell_type": "markdown",
      "metadata": {
        "id": "HLeFOoBuXkHw"
      },
      "source": [
        "После исключения из рассмотрения признака **Complaint ID**, остались только категориальные признаки, обработанные в п.4, а значит нормализация не требуется."
      ]
    },
    {
      "cell_type": "markdown",
      "metadata": {
        "id": "JHoAC9QlXn7V"
      },
      "source": [
        "## 6. Разбиение на обучающую и тестовую выборки"
      ]
    },
    {
      "cell_type": "markdown",
      "metadata": {
        "id": "sDCukxSgXv-K"
      },
      "source": [
        "Для начала соединим все обработанные данные в один фрейм."
      ]
    },
    {
      "cell_type": "code",
      "metadata": {
        "id": "7nl0JRvxXgTh",
        "outputId": "222b4ff6-4a6e-4e62-d08a-c9696243f9dd",
        "colab": {
          "base_uri": "https://localhost:8080/"
        }
      },
      "source": [
        "data = pd.concat((data_nonbinary, data_excl[binary_columns], data_excl['Product']), axis=1)\n",
        "print(data.shape)"
      ],
      "execution_count": null,
      "outputs": [
        {
          "output_type": "stream",
          "text": [
            "(320589, 274)\n"
          ],
          "name": "stdout"
        }
      ]
    },
    {
      "cell_type": "code",
      "metadata": {
        "id": "bxKDtl_gYfIA",
        "outputId": "7fffa7e1-d773-406c-8691-4cf25df84ed8",
        "colab": {
          "base_uri": "https://localhost:8080/"
        }
      },
      "source": [
        "data.describe()"
      ],
      "execution_count": null,
      "outputs": [
        {
          "output_type": "execute_result",
          "data": {
            "text/html": [
              "<div>\n",
              "<style scoped>\n",
              "    .dataframe tbody tr th:only-of-type {\n",
              "        vertical-align: middle;\n",
              "    }\n",
              "\n",
              "    .dataframe tbody tr th {\n",
              "        vertical-align: top;\n",
              "    }\n",
              "\n",
              "    .dataframe thead th {\n",
              "        text-align: right;\n",
              "    }\n",
              "</style>\n",
              "<table border=\"1\" class=\"dataframe\">\n",
              "  <thead>\n",
              "    <tr style=\"text-align: right;\">\n",
              "      <th></th>\n",
              "      <th>Sub-product_(CD) Certificate of deposit</th>\n",
              "      <th>Sub-product_Auto</th>\n",
              "      <th>Sub-product_Auto debt</th>\n",
              "      <th>Sub-product_CD (Certificate of Deposit)</th>\n",
              "      <th>Sub-product_Cashing a check without an account</th>\n",
              "      <th>Sub-product_Check cashing</th>\n",
              "      <th>Sub-product_Check cashing service</th>\n",
              "      <th>Sub-product_Checking account</th>\n",
              "      <th>Sub-product_Conventional adjustable mortgage (ARM)</th>\n",
              "      <th>Sub-product_Conventional fixed mortgage</th>\n",
              "      <th>Sub-product_Conventional home mortgage</th>\n",
              "      <th>Sub-product_Credit card</th>\n",
              "      <th>Sub-product_Credit card debt</th>\n",
              "      <th>Sub-product_Credit repair</th>\n",
              "      <th>Sub-product_Credit repair services</th>\n",
              "      <th>Sub-product_Credit reporting</th>\n",
              "      <th>Sub-product_Debt settlement</th>\n",
              "      <th>Sub-product_Domestic (US) money transfer</th>\n",
              "      <th>Sub-product_Electronic Benefit Transfer / EBT card</th>\n",
              "      <th>Sub-product_FHA mortgage</th>\n",
              "      <th>Sub-product_Federal student loan</th>\n",
              "      <th>Sub-product_Federal student loan debt</th>\n",
              "      <th>Sub-product_Federal student loan servicing</th>\n",
              "      <th>Sub-product_Foreign currency exchange</th>\n",
              "      <th>Sub-product_General purpose card</th>\n",
              "      <th>Sub-product_General-purpose credit card or charge card</th>\n",
              "      <th>Sub-product_General-purpose prepaid card</th>\n",
              "      <th>Sub-product_Gift card</th>\n",
              "      <th>Sub-product_Gift or merchant card</th>\n",
              "      <th>Sub-product_Government benefit card</th>\n",
              "      <th>Sub-product_Government benefit payment card</th>\n",
              "      <th>Sub-product_Home equity loan or line of credit</th>\n",
              "      <th>Sub-product_Home equity loan or line of credit (HELOC)</th>\n",
              "      <th>Sub-product_I do not know</th>\n",
              "      <th>Sub-product_ID prepaid card</th>\n",
              "      <th>Sub-product_Installment loan</th>\n",
              "      <th>Sub-product_International money transfer</th>\n",
              "      <th>Sub-product_Lease</th>\n",
              "      <th>Sub-product_Loan</th>\n",
              "      <th>Sub-product_Medical</th>\n",
              "      <th>...</th>\n",
              "      <th>Issue_Unexpected/Other fees</th>\n",
              "      <th>Issue_Unsolicited issuance of credit card</th>\n",
              "      <th>Issue_Using a debit or ATM card</th>\n",
              "      <th>Issue_Vehicle was damaged or destroyed the vehicle</th>\n",
              "      <th>Issue_Vehicle was repossessed or sold the vehicle</th>\n",
              "      <th>Issue_Was approved for a loan, but didn't receive money</th>\n",
              "      <th>Issue_Was approved for a loan, but didn't receive the money</th>\n",
              "      <th>Issue_Written notification about debt</th>\n",
              "      <th>Issue_Wrong amount charged or received</th>\n",
              "      <th>Company public response_Company believes complaint caused principally by actions of third party outside the control or direction of the company</th>\n",
              "      <th>Company public response_Company believes complaint is the result of an isolated error</th>\n",
              "      <th>Company public response_Company believes complaint relates to a discontinued policy or procedure</th>\n",
              "      <th>Company public response_Company believes complaint represents an opportunity for improvement to better serve consumers</th>\n",
              "      <th>Company public response_Company believes it acted appropriately as authorized by contract or law</th>\n",
              "      <th>Company public response_Company believes the complaint is the result of a misunderstanding</th>\n",
              "      <th>Company public response_Company can't verify or dispute the facts in the complaint</th>\n",
              "      <th>Company public response_Company chooses not to provide a public response</th>\n",
              "      <th>Company public response_Company disputes the facts presented in the complaint</th>\n",
              "      <th>Company public response_Company has responded to the consumer and the CFPB and chooses not to provide a public response</th>\n",
              "      <th>Tags_Older American</th>\n",
              "      <th>Tags_Older American, Servicemember</th>\n",
              "      <th>Tags_Servicemember</th>\n",
              "      <th>Consumer consent provided?_Consent not provided</th>\n",
              "      <th>Consumer consent provided?_Consent provided</th>\n",
              "      <th>Consumer consent provided?_Consent withdrawn</th>\n",
              "      <th>Consumer consent provided?_Other</th>\n",
              "      <th>Submitted via_Email</th>\n",
              "      <th>Submitted via_Fax</th>\n",
              "      <th>Submitted via_Phone</th>\n",
              "      <th>Submitted via_Postal mail</th>\n",
              "      <th>Submitted via_Referral</th>\n",
              "      <th>Submitted via_Web</th>\n",
              "      <th>Company response to consumer_Closed</th>\n",
              "      <th>Company response to consumer_Closed with explanation</th>\n",
              "      <th>Company response to consumer_Closed with monetary relief</th>\n",
              "      <th>Company response to consumer_Closed with non-monetary relief</th>\n",
              "      <th>Company response to consumer_Closed with relief</th>\n",
              "      <th>Company response to consumer_Closed without relief</th>\n",
              "      <th>Company response to consumer_In progress</th>\n",
              "      <th>Company response to consumer_Untimely response</th>\n",
              "    </tr>\n",
              "  </thead>\n",
              "  <tbody>\n",
              "    <tr>\n",
              "      <th>count</th>\n",
              "      <td>320589.000000</td>\n",
              "      <td>320589.000000</td>\n",
              "      <td>320589.000000</td>\n",
              "      <td>320589.000000</td>\n",
              "      <td>320589.000000</td>\n",
              "      <td>320589.000000</td>\n",
              "      <td>320589.000000</td>\n",
              "      <td>320589.000000</td>\n",
              "      <td>320589.000000</td>\n",
              "      <td>320589.000000</td>\n",
              "      <td>320589.000000</td>\n",
              "      <td>320589.000000</td>\n",
              "      <td>320589.000000</td>\n",
              "      <td>320589.000000</td>\n",
              "      <td>320589.000000</td>\n",
              "      <td>320589.000000</td>\n",
              "      <td>320589.000000</td>\n",
              "      <td>320589.000000</td>\n",
              "      <td>320589.000000</td>\n",
              "      <td>320589.000000</td>\n",
              "      <td>320589.000000</td>\n",
              "      <td>320589.000000</td>\n",
              "      <td>320589.000000</td>\n",
              "      <td>320589.000000</td>\n",
              "      <td>320589.000000</td>\n",
              "      <td>320589.00000</td>\n",
              "      <td>320589.000000</td>\n",
              "      <td>320589.000000</td>\n",
              "      <td>320589.000000</td>\n",
              "      <td>320589.000000</td>\n",
              "      <td>320589.000000</td>\n",
              "      <td>320589.000000</td>\n",
              "      <td>320589.000000</td>\n",
              "      <td>320589.000000</td>\n",
              "      <td>320589.000000</td>\n",
              "      <td>320589.000000</td>\n",
              "      <td>320589.000000</td>\n",
              "      <td>320589.000000</td>\n",
              "      <td>320589.000000</td>\n",
              "      <td>320589.000000</td>\n",
              "      <td>...</td>\n",
              "      <td>320589.000000</td>\n",
              "      <td>320589.000000</td>\n",
              "      <td>320589.000000</td>\n",
              "      <td>320589.000000</td>\n",
              "      <td>320589.000000</td>\n",
              "      <td>320589.000000</td>\n",
              "      <td>320589.000000</td>\n",
              "      <td>320589.000000</td>\n",
              "      <td>320589.000000</td>\n",
              "      <td>320589.000000</td>\n",
              "      <td>320589.000000</td>\n",
              "      <td>320589.000000</td>\n",
              "      <td>320589.000000</td>\n",
              "      <td>320589.000000</td>\n",
              "      <td>320589.000000</td>\n",
              "      <td>320589.000000</td>\n",
              "      <td>320589.000000</td>\n",
              "      <td>320589.000000</td>\n",
              "      <td>320589.000000</td>\n",
              "      <td>320589.000000</td>\n",
              "      <td>320589.000000</td>\n",
              "      <td>320589.000000</td>\n",
              "      <td>320589.000000</td>\n",
              "      <td>320589.000000</td>\n",
              "      <td>320589.000000</td>\n",
              "      <td>320589.000000</td>\n",
              "      <td>320589.000000</td>\n",
              "      <td>320589.000000</td>\n",
              "      <td>320589.000000</td>\n",
              "      <td>320589.000000</td>\n",
              "      <td>320589.000000</td>\n",
              "      <td>320589.000000</td>\n",
              "      <td>320589.000000</td>\n",
              "      <td>320589.000000</td>\n",
              "      <td>320589.000000</td>\n",
              "      <td>320589.000000</td>\n",
              "      <td>320589.000000</td>\n",
              "      <td>320589.000000</td>\n",
              "      <td>320589.000000</td>\n",
              "      <td>320589.000000</td>\n",
              "    </tr>\n",
              "    <tr>\n",
              "      <th>mean</th>\n",
              "      <td>0.002595</td>\n",
              "      <td>0.002966</td>\n",
              "      <td>0.002383</td>\n",
              "      <td>0.000936</td>\n",
              "      <td>0.000502</td>\n",
              "      <td>0.000212</td>\n",
              "      <td>0.000181</td>\n",
              "      <td>0.069797</td>\n",
              "      <td>0.019405</td>\n",
              "      <td>0.054624</td>\n",
              "      <td>0.022200</td>\n",
              "      <td>0.021751</td>\n",
              "      <td>0.015734</td>\n",
              "      <td>0.000087</td>\n",
              "      <td>0.000602</td>\n",
              "      <td>0.355979</td>\n",
              "      <td>0.000424</td>\n",
              "      <td>0.004523</td>\n",
              "      <td>0.000012</td>\n",
              "      <td>0.024664</td>\n",
              "      <td>0.001906</td>\n",
              "      <td>0.001254</td>\n",
              "      <td>0.017783</td>\n",
              "      <td>0.000147</td>\n",
              "      <td>0.001313</td>\n",
              "      <td>0.02899</td>\n",
              "      <td>0.001185</td>\n",
              "      <td>0.000131</td>\n",
              "      <td>0.000303</td>\n",
              "      <td>0.000421</td>\n",
              "      <td>0.000299</td>\n",
              "      <td>0.008877</td>\n",
              "      <td>0.002723</td>\n",
              "      <td>0.039393</td>\n",
              "      <td>0.000178</td>\n",
              "      <td>0.009601</td>\n",
              "      <td>0.003668</td>\n",
              "      <td>0.001441</td>\n",
              "      <td>0.007202</td>\n",
              "      <td>0.016816</td>\n",
              "      <td>...</td>\n",
              "      <td>0.000109</td>\n",
              "      <td>0.001444</td>\n",
              "      <td>0.004716</td>\n",
              "      <td>0.000028</td>\n",
              "      <td>0.000109</td>\n",
              "      <td>0.000009</td>\n",
              "      <td>0.000075</td>\n",
              "      <td>0.018382</td>\n",
              "      <td>0.000427</td>\n",
              "      <td>0.003235</td>\n",
              "      <td>0.002860</td>\n",
              "      <td>0.000056</td>\n",
              "      <td>0.002024</td>\n",
              "      <td>0.047475</td>\n",
              "      <td>0.004445</td>\n",
              "      <td>0.001815</td>\n",
              "      <td>0.041202</td>\n",
              "      <td>0.004027</td>\n",
              "      <td>0.892860</td>\n",
              "      <td>0.060454</td>\n",
              "      <td>0.010705</td>\n",
              "      <td>0.928840</td>\n",
              "      <td>0.221505</td>\n",
              "      <td>0.761735</td>\n",
              "      <td>0.000867</td>\n",
              "      <td>0.015893</td>\n",
              "      <td>0.000362</td>\n",
              "      <td>0.014916</td>\n",
              "      <td>0.059478</td>\n",
              "      <td>0.052940</td>\n",
              "      <td>0.135310</td>\n",
              "      <td>0.736993</td>\n",
              "      <td>0.013715</td>\n",
              "      <td>0.774272</td>\n",
              "      <td>0.058152</td>\n",
              "      <td>0.123744</td>\n",
              "      <td>0.004167</td>\n",
              "      <td>0.014005</td>\n",
              "      <td>0.007243</td>\n",
              "      <td>0.004701</td>\n",
              "    </tr>\n",
              "    <tr>\n",
              "      <th>std</th>\n",
              "      <td>0.050877</td>\n",
              "      <td>0.054384</td>\n",
              "      <td>0.048759</td>\n",
              "      <td>0.030576</td>\n",
              "      <td>0.022404</td>\n",
              "      <td>0.014562</td>\n",
              "      <td>0.013449</td>\n",
              "      <td>0.254804</td>\n",
              "      <td>0.137944</td>\n",
              "      <td>0.227246</td>\n",
              "      <td>0.147333</td>\n",
              "      <td>0.145868</td>\n",
              "      <td>0.124443</td>\n",
              "      <td>0.009345</td>\n",
              "      <td>0.024529</td>\n",
              "      <td>0.478810</td>\n",
              "      <td>0.020592</td>\n",
              "      <td>0.067101</td>\n",
              "      <td>0.003532</td>\n",
              "      <td>0.155099</td>\n",
              "      <td>0.043615</td>\n",
              "      <td>0.035389</td>\n",
              "      <td>0.132162</td>\n",
              "      <td>0.012107</td>\n",
              "      <td>0.036214</td>\n",
              "      <td>0.16778</td>\n",
              "      <td>0.034408</td>\n",
              "      <td>0.011445</td>\n",
              "      <td>0.017392</td>\n",
              "      <td>0.020516</td>\n",
              "      <td>0.017302</td>\n",
              "      <td>0.093801</td>\n",
              "      <td>0.052112</td>\n",
              "      <td>0.194529</td>\n",
              "      <td>0.013333</td>\n",
              "      <td>0.097514</td>\n",
              "      <td>0.060455</td>\n",
              "      <td>0.037934</td>\n",
              "      <td>0.084561</td>\n",
              "      <td>0.128581</td>\n",
              "      <td>...</td>\n",
              "      <td>0.010448</td>\n",
              "      <td>0.037975</td>\n",
              "      <td>0.068513</td>\n",
              "      <td>0.005298</td>\n",
              "      <td>0.010448</td>\n",
              "      <td>0.003059</td>\n",
              "      <td>0.008652</td>\n",
              "      <td>0.134328</td>\n",
              "      <td>0.020668</td>\n",
              "      <td>0.056782</td>\n",
              "      <td>0.053406</td>\n",
              "      <td>0.007493</td>\n",
              "      <td>0.044948</td>\n",
              "      <td>0.212653</td>\n",
              "      <td>0.066522</td>\n",
              "      <td>0.042569</td>\n",
              "      <td>0.198758</td>\n",
              "      <td>0.063331</td>\n",
              "      <td>0.309292</td>\n",
              "      <td>0.238327</td>\n",
              "      <td>0.102911</td>\n",
              "      <td>0.257092</td>\n",
              "      <td>0.415260</td>\n",
              "      <td>0.426022</td>\n",
              "      <td>0.029435</td>\n",
              "      <td>0.125060</td>\n",
              "      <td>0.019019</td>\n",
              "      <td>0.121218</td>\n",
              "      <td>0.236518</td>\n",
              "      <td>0.223914</td>\n",
              "      <td>0.342055</td>\n",
              "      <td>0.440267</td>\n",
              "      <td>0.116307</td>\n",
              "      <td>0.418062</td>\n",
              "      <td>0.234032</td>\n",
              "      <td>0.329290</td>\n",
              "      <td>0.064420</td>\n",
              "      <td>0.117513</td>\n",
              "      <td>0.084797</td>\n",
              "      <td>0.068401</td>\n",
              "    </tr>\n",
              "    <tr>\n",
              "      <th>min</th>\n",
              "      <td>0.000000</td>\n",
              "      <td>0.000000</td>\n",
              "      <td>0.000000</td>\n",
              "      <td>0.000000</td>\n",
              "      <td>0.000000</td>\n",
              "      <td>0.000000</td>\n",
              "      <td>0.000000</td>\n",
              "      <td>0.000000</td>\n",
              "      <td>0.000000</td>\n",
              "      <td>0.000000</td>\n",
              "      <td>0.000000</td>\n",
              "      <td>0.000000</td>\n",
              "      <td>0.000000</td>\n",
              "      <td>0.000000</td>\n",
              "      <td>0.000000</td>\n",
              "      <td>0.000000</td>\n",
              "      <td>0.000000</td>\n",
              "      <td>0.000000</td>\n",
              "      <td>0.000000</td>\n",
              "      <td>0.000000</td>\n",
              "      <td>0.000000</td>\n",
              "      <td>0.000000</td>\n",
              "      <td>0.000000</td>\n",
              "      <td>0.000000</td>\n",
              "      <td>0.000000</td>\n",
              "      <td>0.00000</td>\n",
              "      <td>0.000000</td>\n",
              "      <td>0.000000</td>\n",
              "      <td>0.000000</td>\n",
              "      <td>0.000000</td>\n",
              "      <td>0.000000</td>\n",
              "      <td>0.000000</td>\n",
              "      <td>0.000000</td>\n",
              "      <td>0.000000</td>\n",
              "      <td>0.000000</td>\n",
              "      <td>0.000000</td>\n",
              "      <td>0.000000</td>\n",
              "      <td>0.000000</td>\n",
              "      <td>0.000000</td>\n",
              "      <td>0.000000</td>\n",
              "      <td>...</td>\n",
              "      <td>0.000000</td>\n",
              "      <td>0.000000</td>\n",
              "      <td>0.000000</td>\n",
              "      <td>0.000000</td>\n",
              "      <td>0.000000</td>\n",
              "      <td>0.000000</td>\n",
              "      <td>0.000000</td>\n",
              "      <td>0.000000</td>\n",
              "      <td>0.000000</td>\n",
              "      <td>0.000000</td>\n",
              "      <td>0.000000</td>\n",
              "      <td>0.000000</td>\n",
              "      <td>0.000000</td>\n",
              "      <td>0.000000</td>\n",
              "      <td>0.000000</td>\n",
              "      <td>0.000000</td>\n",
              "      <td>0.000000</td>\n",
              "      <td>0.000000</td>\n",
              "      <td>0.000000</td>\n",
              "      <td>0.000000</td>\n",
              "      <td>0.000000</td>\n",
              "      <td>0.000000</td>\n",
              "      <td>0.000000</td>\n",
              "      <td>0.000000</td>\n",
              "      <td>0.000000</td>\n",
              "      <td>0.000000</td>\n",
              "      <td>0.000000</td>\n",
              "      <td>0.000000</td>\n",
              "      <td>0.000000</td>\n",
              "      <td>0.000000</td>\n",
              "      <td>0.000000</td>\n",
              "      <td>0.000000</td>\n",
              "      <td>0.000000</td>\n",
              "      <td>0.000000</td>\n",
              "      <td>0.000000</td>\n",
              "      <td>0.000000</td>\n",
              "      <td>0.000000</td>\n",
              "      <td>0.000000</td>\n",
              "      <td>0.000000</td>\n",
              "      <td>0.000000</td>\n",
              "    </tr>\n",
              "    <tr>\n",
              "      <th>25%</th>\n",
              "      <td>0.000000</td>\n",
              "      <td>0.000000</td>\n",
              "      <td>0.000000</td>\n",
              "      <td>0.000000</td>\n",
              "      <td>0.000000</td>\n",
              "      <td>0.000000</td>\n",
              "      <td>0.000000</td>\n",
              "      <td>0.000000</td>\n",
              "      <td>0.000000</td>\n",
              "      <td>0.000000</td>\n",
              "      <td>0.000000</td>\n",
              "      <td>0.000000</td>\n",
              "      <td>0.000000</td>\n",
              "      <td>0.000000</td>\n",
              "      <td>0.000000</td>\n",
              "      <td>0.000000</td>\n",
              "      <td>0.000000</td>\n",
              "      <td>0.000000</td>\n",
              "      <td>0.000000</td>\n",
              "      <td>0.000000</td>\n",
              "      <td>0.000000</td>\n",
              "      <td>0.000000</td>\n",
              "      <td>0.000000</td>\n",
              "      <td>0.000000</td>\n",
              "      <td>0.000000</td>\n",
              "      <td>0.00000</td>\n",
              "      <td>0.000000</td>\n",
              "      <td>0.000000</td>\n",
              "      <td>0.000000</td>\n",
              "      <td>0.000000</td>\n",
              "      <td>0.000000</td>\n",
              "      <td>0.000000</td>\n",
              "      <td>0.000000</td>\n",
              "      <td>0.000000</td>\n",
              "      <td>0.000000</td>\n",
              "      <td>0.000000</td>\n",
              "      <td>0.000000</td>\n",
              "      <td>0.000000</td>\n",
              "      <td>0.000000</td>\n",
              "      <td>0.000000</td>\n",
              "      <td>...</td>\n",
              "      <td>0.000000</td>\n",
              "      <td>0.000000</td>\n",
              "      <td>0.000000</td>\n",
              "      <td>0.000000</td>\n",
              "      <td>0.000000</td>\n",
              "      <td>0.000000</td>\n",
              "      <td>0.000000</td>\n",
              "      <td>0.000000</td>\n",
              "      <td>0.000000</td>\n",
              "      <td>0.000000</td>\n",
              "      <td>0.000000</td>\n",
              "      <td>0.000000</td>\n",
              "      <td>0.000000</td>\n",
              "      <td>0.000000</td>\n",
              "      <td>0.000000</td>\n",
              "      <td>0.000000</td>\n",
              "      <td>0.000000</td>\n",
              "      <td>0.000000</td>\n",
              "      <td>1.000000</td>\n",
              "      <td>0.000000</td>\n",
              "      <td>0.000000</td>\n",
              "      <td>1.000000</td>\n",
              "      <td>0.000000</td>\n",
              "      <td>1.000000</td>\n",
              "      <td>0.000000</td>\n",
              "      <td>0.000000</td>\n",
              "      <td>0.000000</td>\n",
              "      <td>0.000000</td>\n",
              "      <td>0.000000</td>\n",
              "      <td>0.000000</td>\n",
              "      <td>0.000000</td>\n",
              "      <td>0.000000</td>\n",
              "      <td>0.000000</td>\n",
              "      <td>1.000000</td>\n",
              "      <td>0.000000</td>\n",
              "      <td>0.000000</td>\n",
              "      <td>0.000000</td>\n",
              "      <td>0.000000</td>\n",
              "      <td>0.000000</td>\n",
              "      <td>0.000000</td>\n",
              "    </tr>\n",
              "    <tr>\n",
              "      <th>50%</th>\n",
              "      <td>0.000000</td>\n",
              "      <td>0.000000</td>\n",
              "      <td>0.000000</td>\n",
              "      <td>0.000000</td>\n",
              "      <td>0.000000</td>\n",
              "      <td>0.000000</td>\n",
              "      <td>0.000000</td>\n",
              "      <td>0.000000</td>\n",
              "      <td>0.000000</td>\n",
              "      <td>0.000000</td>\n",
              "      <td>0.000000</td>\n",
              "      <td>0.000000</td>\n",
              "      <td>0.000000</td>\n",
              "      <td>0.000000</td>\n",
              "      <td>0.000000</td>\n",
              "      <td>0.000000</td>\n",
              "      <td>0.000000</td>\n",
              "      <td>0.000000</td>\n",
              "      <td>0.000000</td>\n",
              "      <td>0.000000</td>\n",
              "      <td>0.000000</td>\n",
              "      <td>0.000000</td>\n",
              "      <td>0.000000</td>\n",
              "      <td>0.000000</td>\n",
              "      <td>0.000000</td>\n",
              "      <td>0.00000</td>\n",
              "      <td>0.000000</td>\n",
              "      <td>0.000000</td>\n",
              "      <td>0.000000</td>\n",
              "      <td>0.000000</td>\n",
              "      <td>0.000000</td>\n",
              "      <td>0.000000</td>\n",
              "      <td>0.000000</td>\n",
              "      <td>0.000000</td>\n",
              "      <td>0.000000</td>\n",
              "      <td>0.000000</td>\n",
              "      <td>0.000000</td>\n",
              "      <td>0.000000</td>\n",
              "      <td>0.000000</td>\n",
              "      <td>0.000000</td>\n",
              "      <td>...</td>\n",
              "      <td>0.000000</td>\n",
              "      <td>0.000000</td>\n",
              "      <td>0.000000</td>\n",
              "      <td>0.000000</td>\n",
              "      <td>0.000000</td>\n",
              "      <td>0.000000</td>\n",
              "      <td>0.000000</td>\n",
              "      <td>0.000000</td>\n",
              "      <td>0.000000</td>\n",
              "      <td>0.000000</td>\n",
              "      <td>0.000000</td>\n",
              "      <td>0.000000</td>\n",
              "      <td>0.000000</td>\n",
              "      <td>0.000000</td>\n",
              "      <td>0.000000</td>\n",
              "      <td>0.000000</td>\n",
              "      <td>0.000000</td>\n",
              "      <td>0.000000</td>\n",
              "      <td>1.000000</td>\n",
              "      <td>0.000000</td>\n",
              "      <td>0.000000</td>\n",
              "      <td>1.000000</td>\n",
              "      <td>0.000000</td>\n",
              "      <td>1.000000</td>\n",
              "      <td>0.000000</td>\n",
              "      <td>0.000000</td>\n",
              "      <td>0.000000</td>\n",
              "      <td>0.000000</td>\n",
              "      <td>0.000000</td>\n",
              "      <td>0.000000</td>\n",
              "      <td>0.000000</td>\n",
              "      <td>1.000000</td>\n",
              "      <td>0.000000</td>\n",
              "      <td>1.000000</td>\n",
              "      <td>0.000000</td>\n",
              "      <td>0.000000</td>\n",
              "      <td>0.000000</td>\n",
              "      <td>0.000000</td>\n",
              "      <td>0.000000</td>\n",
              "      <td>0.000000</td>\n",
              "    </tr>\n",
              "    <tr>\n",
              "      <th>75%</th>\n",
              "      <td>0.000000</td>\n",
              "      <td>0.000000</td>\n",
              "      <td>0.000000</td>\n",
              "      <td>0.000000</td>\n",
              "      <td>0.000000</td>\n",
              "      <td>0.000000</td>\n",
              "      <td>0.000000</td>\n",
              "      <td>0.000000</td>\n",
              "      <td>0.000000</td>\n",
              "      <td>0.000000</td>\n",
              "      <td>0.000000</td>\n",
              "      <td>0.000000</td>\n",
              "      <td>0.000000</td>\n",
              "      <td>0.000000</td>\n",
              "      <td>0.000000</td>\n",
              "      <td>1.000000</td>\n",
              "      <td>0.000000</td>\n",
              "      <td>0.000000</td>\n",
              "      <td>0.000000</td>\n",
              "      <td>0.000000</td>\n",
              "      <td>0.000000</td>\n",
              "      <td>0.000000</td>\n",
              "      <td>0.000000</td>\n",
              "      <td>0.000000</td>\n",
              "      <td>0.000000</td>\n",
              "      <td>0.00000</td>\n",
              "      <td>0.000000</td>\n",
              "      <td>0.000000</td>\n",
              "      <td>0.000000</td>\n",
              "      <td>0.000000</td>\n",
              "      <td>0.000000</td>\n",
              "      <td>0.000000</td>\n",
              "      <td>0.000000</td>\n",
              "      <td>0.000000</td>\n",
              "      <td>0.000000</td>\n",
              "      <td>0.000000</td>\n",
              "      <td>0.000000</td>\n",
              "      <td>0.000000</td>\n",
              "      <td>0.000000</td>\n",
              "      <td>0.000000</td>\n",
              "      <td>...</td>\n",
              "      <td>0.000000</td>\n",
              "      <td>0.000000</td>\n",
              "      <td>0.000000</td>\n",
              "      <td>0.000000</td>\n",
              "      <td>0.000000</td>\n",
              "      <td>0.000000</td>\n",
              "      <td>0.000000</td>\n",
              "      <td>0.000000</td>\n",
              "      <td>0.000000</td>\n",
              "      <td>0.000000</td>\n",
              "      <td>0.000000</td>\n",
              "      <td>0.000000</td>\n",
              "      <td>0.000000</td>\n",
              "      <td>0.000000</td>\n",
              "      <td>0.000000</td>\n",
              "      <td>0.000000</td>\n",
              "      <td>0.000000</td>\n",
              "      <td>0.000000</td>\n",
              "      <td>1.000000</td>\n",
              "      <td>0.000000</td>\n",
              "      <td>0.000000</td>\n",
              "      <td>1.000000</td>\n",
              "      <td>0.000000</td>\n",
              "      <td>1.000000</td>\n",
              "      <td>0.000000</td>\n",
              "      <td>0.000000</td>\n",
              "      <td>0.000000</td>\n",
              "      <td>0.000000</td>\n",
              "      <td>0.000000</td>\n",
              "      <td>0.000000</td>\n",
              "      <td>0.000000</td>\n",
              "      <td>1.000000</td>\n",
              "      <td>0.000000</td>\n",
              "      <td>1.000000</td>\n",
              "      <td>0.000000</td>\n",
              "      <td>0.000000</td>\n",
              "      <td>0.000000</td>\n",
              "      <td>0.000000</td>\n",
              "      <td>0.000000</td>\n",
              "      <td>0.000000</td>\n",
              "    </tr>\n",
              "    <tr>\n",
              "      <th>max</th>\n",
              "      <td>1.000000</td>\n",
              "      <td>1.000000</td>\n",
              "      <td>1.000000</td>\n",
              "      <td>1.000000</td>\n",
              "      <td>1.000000</td>\n",
              "      <td>1.000000</td>\n",
              "      <td>1.000000</td>\n",
              "      <td>1.000000</td>\n",
              "      <td>1.000000</td>\n",
              "      <td>1.000000</td>\n",
              "      <td>1.000000</td>\n",
              "      <td>1.000000</td>\n",
              "      <td>1.000000</td>\n",
              "      <td>1.000000</td>\n",
              "      <td>1.000000</td>\n",
              "      <td>1.000000</td>\n",
              "      <td>1.000000</td>\n",
              "      <td>1.000000</td>\n",
              "      <td>1.000000</td>\n",
              "      <td>1.000000</td>\n",
              "      <td>1.000000</td>\n",
              "      <td>1.000000</td>\n",
              "      <td>1.000000</td>\n",
              "      <td>1.000000</td>\n",
              "      <td>1.000000</td>\n",
              "      <td>1.00000</td>\n",
              "      <td>1.000000</td>\n",
              "      <td>1.000000</td>\n",
              "      <td>1.000000</td>\n",
              "      <td>1.000000</td>\n",
              "      <td>1.000000</td>\n",
              "      <td>1.000000</td>\n",
              "      <td>1.000000</td>\n",
              "      <td>1.000000</td>\n",
              "      <td>1.000000</td>\n",
              "      <td>1.000000</td>\n",
              "      <td>1.000000</td>\n",
              "      <td>1.000000</td>\n",
              "      <td>1.000000</td>\n",
              "      <td>1.000000</td>\n",
              "      <td>...</td>\n",
              "      <td>1.000000</td>\n",
              "      <td>1.000000</td>\n",
              "      <td>1.000000</td>\n",
              "      <td>1.000000</td>\n",
              "      <td>1.000000</td>\n",
              "      <td>1.000000</td>\n",
              "      <td>1.000000</td>\n",
              "      <td>1.000000</td>\n",
              "      <td>1.000000</td>\n",
              "      <td>1.000000</td>\n",
              "      <td>1.000000</td>\n",
              "      <td>1.000000</td>\n",
              "      <td>1.000000</td>\n",
              "      <td>1.000000</td>\n",
              "      <td>1.000000</td>\n",
              "      <td>1.000000</td>\n",
              "      <td>1.000000</td>\n",
              "      <td>1.000000</td>\n",
              "      <td>1.000000</td>\n",
              "      <td>1.000000</td>\n",
              "      <td>1.000000</td>\n",
              "      <td>1.000000</td>\n",
              "      <td>1.000000</td>\n",
              "      <td>1.000000</td>\n",
              "      <td>1.000000</td>\n",
              "      <td>1.000000</td>\n",
              "      <td>1.000000</td>\n",
              "      <td>1.000000</td>\n",
              "      <td>1.000000</td>\n",
              "      <td>1.000000</td>\n",
              "      <td>1.000000</td>\n",
              "      <td>1.000000</td>\n",
              "      <td>1.000000</td>\n",
              "      <td>1.000000</td>\n",
              "      <td>1.000000</td>\n",
              "      <td>1.000000</td>\n",
              "      <td>1.000000</td>\n",
              "      <td>1.000000</td>\n",
              "      <td>1.000000</td>\n",
              "      <td>1.000000</td>\n",
              "    </tr>\n",
              "  </tbody>\n",
              "</table>\n",
              "<p>8 rows × 271 columns</p>\n",
              "</div>"
            ],
            "text/plain": [
              "       Sub-product_(CD) Certificate of deposit  ...  Company response to consumer_Untimely response\n",
              "count                            320589.000000  ...                                   320589.000000\n",
              "mean                                  0.002595  ...                                        0.004701\n",
              "std                                   0.050877  ...                                        0.068401\n",
              "min                                   0.000000  ...                                        0.000000\n",
              "25%                                   0.000000  ...                                        0.000000\n",
              "50%                                   0.000000  ...                                        0.000000\n",
              "75%                                   0.000000  ...                                        0.000000\n",
              "max                                   1.000000  ...                                        1.000000\n",
              "\n",
              "[8 rows x 271 columns]"
            ]
          },
          "metadata": {
            "tags": []
          },
          "execution_count": 59
        }
      ]
    },
    {
      "cell_type": "code",
      "metadata": {
        "id": "VcifWWFyYhrF"
      },
      "source": [
        "X = data.drop('Product', axis = 1) # выбрасываем столбец 'Product'\n",
        "y = data['Product']\n",
        "feature_names = X.columns"
      ],
      "execution_count": null,
      "outputs": []
    },
    {
      "cell_type": "code",
      "metadata": {
        "id": "LKpNkcDmiRJL",
        "outputId": "a32173b2-3169-4aa6-a04a-c7393fa168fa",
        "colab": {
          "base_uri": "https://localhost:8080/"
        }
      },
      "source": [
        "y.unique()"
      ],
      "execution_count": null,
      "outputs": [
        {
          "output_type": "execute_result",
          "data": {
            "text/plain": [
              "array(['Checking or savings account', 'Debt collection',\n",
              "       'Credit reporting, credit repair services, or other personal consumer reports',\n",
              "       'Mortgage', 'Vehicle loan or lease', 'Student loan',\n",
              "       'Credit card or prepaid card',\n",
              "       'Payday loan, title loan, or personal loan',\n",
              "       'Money transfer, virtual currency, or money service',\n",
              "       'Bank account or service', 'Credit card', 'Credit reporting',\n",
              "       'Prepaid card', 'Other financial service', 'Payday loan',\n",
              "       'Consumer Loan', 'Money transfers', 'Virtual currency'],\n",
              "      dtype=object)"
            ]
          },
          "metadata": {
            "tags": []
          },
          "execution_count": 61
        }
      ]
    },
    {
      "cell_type": "code",
      "metadata": {
        "id": "kZWqeYLBit3U"
      },
      "source": [
        "mapping = {'Checking or savings account' : 0, 'Debt collection' : 1, 'Credit reporting, credit repair services, or other personal consumer reports' : 2, \n",
        "           'Mortgage' : 3, 'Vehicle loan or lease' : 4, 'Student loan' : 5, 'Credit card or prepaid card' : 6, 'Payday loan, title loan, or personal loan' : 7,\n",
        "           'Money transfer, virtual currency, or money service' : 8, 'Bank account or service' : 9, 'Credit card' : 10, 'Credit reporting' : 11,\n",
        "           'Prepaid card' : 12, 'Other financial service' : 13, 'Payday loan' : 14, 'Consumer Loan' : 15, 'Money transfers' : 16, 'Virtual currency' : 17}"
      ],
      "execution_count": null,
      "outputs": []
    },
    {
      "cell_type": "code",
      "metadata": {
        "id": "67S-rREui7l-"
      },
      "source": [
        "y = y.map(lambda x: mapping[x])"
      ],
      "execution_count": null,
      "outputs": []
    },
    {
      "cell_type": "code",
      "metadata": {
        "id": "HknDM9GCi832",
        "outputId": "f617b621-b333-4947-c0b2-fa008e7903b1",
        "colab": {
          "base_uri": "https://localhost:8080/"
        }
      },
      "source": [
        "y"
      ],
      "execution_count": null,
      "outputs": [
        {
          "output_type": "execute_result",
          "data": {
            "text/plain": [
              "0          0\n",
              "1          0\n",
              "2          1\n",
              "3          1\n",
              "4          1\n",
              "          ..\n",
              "320584    10\n",
              "320585     3\n",
              "320586     3\n",
              "320587    10\n",
              "320588    10\n",
              "Name: Product, Length: 320589, dtype: int64"
            ]
          },
          "metadata": {
            "tags": []
          },
          "execution_count": 64
        }
      ]
    },
    {
      "cell_type": "code",
      "metadata": {
        "id": "k0TA689icXVP",
        "outputId": "a04ec7e7-618e-4b0c-b051-a022d8ed016b",
        "colab": {
          "base_uri": "https://localhost:8080/"
        }
      },
      "source": [
        "print(feature_names)"
      ],
      "execution_count": null,
      "outputs": [
        {
          "output_type": "stream",
          "text": [
            "Index(['Sub-product_(CD) Certificate of deposit', 'Sub-product_Auto',\n",
            "       'Sub-product_Auto debt', 'Sub-product_CD (Certificate of Deposit)',\n",
            "       'Sub-product_Cashing a check without an account',\n",
            "       'Sub-product_Check cashing', 'Sub-product_Check cashing service',\n",
            "       'Sub-product_Checking account',\n",
            "       'Sub-product_Conventional adjustable mortgage (ARM)',\n",
            "       'Sub-product_Conventional fixed mortgage',\n",
            "       ...\n",
            "       'Company response to consumer_Closed',\n",
            "       'Company response to consumer_Closed with explanation',\n",
            "       'Company response to consumer_Closed with monetary relief',\n",
            "       'Company response to consumer_Closed with non-monetary relief',\n",
            "       'Company response to consumer_Closed with relief',\n",
            "       'Company response to consumer_Closed without relief',\n",
            "       'Company response to consumer_In progress',\n",
            "       'Company response to consumer_Untimely response', 'Timely response?',\n",
            "       'Consumer disputed?'],\n",
            "      dtype='object', length=273)\n"
          ],
          "name": "stdout"
        }
      ]
    },
    {
      "cell_type": "code",
      "metadata": {
        "id": "PMNtUNSeccEh"
      },
      "source": [
        "X = X.to_numpy()"
      ],
      "execution_count": null,
      "outputs": []
    },
    {
      "cell_type": "code",
      "metadata": {
        "id": "Hj0Z2S_GdOQ3",
        "outputId": "f921bc4c-178f-4a0d-fa29-32173df0e14f",
        "colab": {
          "base_uri": "https://localhost:8080/"
        }
      },
      "source": [
        "print(X.shape)\n",
        "print(y.shape)\n",
        "N, d = X.shape"
      ],
      "execution_count": null,
      "outputs": [
        {
          "output_type": "stream",
          "text": [
            "(320589, 273)\n",
            "(320589,)\n"
          ],
          "name": "stdout"
        }
      ]
    },
    {
      "cell_type": "code",
      "metadata": {
        "id": "RVcmr4mPrRrA",
        "outputId": "de650210-a17e-433f-fba1-a229dc452d24",
        "colab": {
          "base_uri": "https://localhost:8080/"
        }
      },
      "source": [
        "from sklearn.model_selection import train_test_split\n",
        "X_train, X_test, y_train, y_test = train_test_split(X, y, test_size = 0.3, random_state = 42)\n",
        "\n",
        "N_train, _ = X_train.shape \n",
        "N_test,  _ = X_test.shape \n",
        "\n",
        "print(N_train, N_test)"
      ],
      "execution_count": null,
      "outputs": [
        {
          "output_type": "stream",
          "text": [
            "224412 96177\n"
          ],
          "name": "stdout"
        }
      ]
    },
    {
      "cell_type": "markdown",
      "metadata": {
        "id": "3g1DeEVvr5et"
      },
      "source": [
        "## 7. Метод $kNN$ ближайших соседей"
      ]
    },
    {
      "cell_type": "code",
      "metadata": {
        "id": "nb6jM0hxrX7i",
        "outputId": "e20cf655-9f0c-4b20-fe5a-9e223940ef76",
        "colab": {
          "base_uri": "https://localhost:8080/",
          "height": 70
        }
      },
      "source": [
        "from sklearn.neighbors import KNeighborsClassifier\n",
        "\n",
        "knn = KNeighborsClassifier(algorithm='ball_tree', n_neighbors = 5)\n",
        "knn.fit(X_train, y_train)"
      ],
      "execution_count": null,
      "outputs": [
        {
          "output_type": "execute_result",
          "data": {
            "text/plain": [
              "KNeighborsClassifier(algorithm='ball_tree', leaf_size=30, metric='minkowski',\n",
              "                     metric_params=None, n_jobs=None, n_neighbors=5, p=2,\n",
              "                     weights='uniform')"
            ]
          },
          "metadata": {
            "tags": []
          },
          "execution_count": 56
        }
      ]
    },
    {
      "cell_type": "code",
      "metadata": {
        "id": "gGTHB9ucmydA",
        "outputId": "3ffe95ae-12e4-4f84-9a89-0ddf71dd8ede",
        "colab": {
          "base_uri": "https://localhost:8080/",
          "height": 34
        }
      },
      "source": [
        "err_train = np.mean(y_train != knn.predict(X_train))\n",
        "err_test  = np.mean(y_test  != knn.predict(X_test))\n",
        "\n",
        "print(err_train, err_test)"
      ],
      "execution_count": null,
      "outputs": [
        {
          "output_type": "stream",
          "text": [
            "0.11314506491916451 0.1386535856367953\n"
          ],
          "name": "stdout"
        }
      ]
    },
    {
      "cell_type": "markdown",
      "metadata": {
        "id": "UXByCEBBa4g7"
      },
      "source": [
        "## 8. Decision Tree"
      ]
    },
    {
      "cell_type": "code",
      "metadata": {
        "id": "dAGiZCE9a3bJ"
      },
      "source": [
        "from sklearn.tree import DecisionTreeClassifier"
      ],
      "execution_count": null,
      "outputs": []
    },
    {
      "cell_type": "code",
      "metadata": {
        "id": "zZrXlt0oa-y_"
      },
      "source": [
        "dtree = DecisionTreeClassifier()"
      ],
      "execution_count": null,
      "outputs": []
    },
    {
      "cell_type": "code",
      "metadata": {
        "id": "xweEP64IbDBg",
        "outputId": "d07ab86a-11b2-42e2-9d9a-ec12d0915198",
        "colab": {
          "base_uri": "https://localhost:8080/",
          "height": 122
        }
      },
      "source": [
        "dtree.fit(X_train, y_train)"
      ],
      "execution_count": null,
      "outputs": [
        {
          "output_type": "execute_result",
          "data": {
            "text/plain": [
              "DecisionTreeClassifier(ccp_alpha=0.0, class_weight=None, criterion='gini',\n",
              "                       max_depth=None, max_features=None, max_leaf_nodes=None,\n",
              "                       min_impurity_decrease=0.0, min_impurity_split=None,\n",
              "                       min_samples_leaf=1, min_samples_split=2,\n",
              "                       min_weight_fraction_leaf=0.0, presort='deprecated',\n",
              "                       random_state=None, splitter='best')"
            ]
          },
          "metadata": {
            "tags": []
          },
          "execution_count": 52
        }
      ]
    },
    {
      "cell_type": "code",
      "metadata": {
        "id": "X6O8K01TbGUH",
        "outputId": "6cc95e29-e4e2-48e4-a415-375e4198fb39",
        "colab": {
          "base_uri": "https://localhost:8080/",
          "height": 34
        }
      },
      "source": [
        "err_train = np.mean(y_train != dtree.predict(X_train))\n",
        "err_test  = np.mean(y_test  != dtree.predict(X_test))\n",
        "\n",
        "print(err_train, err_test)"
      ],
      "execution_count": null,
      "outputs": [
        {
          "output_type": "stream",
          "text": [
            "0.0013145464591911306 0.0017883693606579535\n"
          ],
          "name": "stdout"
        }
      ]
    },
    {
      "cell_type": "markdown",
      "metadata": {
        "id": "uyC6O0XdpOOc"
      },
      "source": [
        "## 9. Вывод"
      ]
    },
    {
      "cell_type": "markdown",
      "metadata": {
        "id": "4tkHzntdptBp"
      },
      "source": [
        "Таким образом, kNN справился с задачей хорошо, однако Decision Tree показал меньшие ошибки на обучающей и тестовой выборках. Возможно, требуется применение взвешенного kNN из-за несбалансированности классов."
      ]
    },
    {
      "cell_type": "markdown",
      "metadata": {
        "id": "GyLDqrVp8G4j"
      },
      "source": [
        "## 10. PCA"
      ]
    },
    {
      "cell_type": "markdown",
      "metadata": {
        "id": "zLa7ccRl02pm"
      },
      "source": [
        "Применим PCA для сокращения размерности пространства признаков."
      ]
    },
    {
      "cell_type": "code",
      "metadata": {
        "id": "7CySJPhT8Rpx",
        "outputId": "ed5f5672-b184-455b-c6e3-38ec39be490e",
        "colab": {
          "base_uri": "https://localhost:8080/",
          "height": 52
        }
      },
      "source": [
        "from sklearn.decomposition import PCA\n",
        "pca = PCA(n_components = 2)\n",
        "pca.fit(X)\n",
        "X_proj = pca.transform(X)\n",
        "print(X.shape)\n",
        "print(X_proj.shape)"
      ],
      "execution_count": null,
      "outputs": [
        {
          "output_type": "stream",
          "text": [
            "(320589, 273)\n",
            "(320589, 2)\n"
          ],
          "name": "stdout"
        }
      ]
    },
    {
      "cell_type": "code",
      "metadata": {
        "id": "lDTDoE_t9Tel",
        "outputId": "f5a5f8ac-afca-4bdb-c5cf-0d7bfb47e57f",
        "colab": {
          "base_uri": "https://localhost:8080/",
          "height": 35
        }
      },
      "source": [
        "y_names = np.unique(y)\n",
        "K = len(y_names)\n",
        "print(y_names)"
      ],
      "execution_count": null,
      "outputs": [
        {
          "output_type": "stream",
          "text": [
            "[ 0  1  2  3  4  5  6  7  8  9 10 11 12 13 14 15 16 17]\n"
          ],
          "name": "stdout"
        }
      ]
    },
    {
      "cell_type": "code",
      "metadata": {
        "id": "r2cAlwfq98L_",
        "outputId": "b0c1ae5f-3f3e-45bd-bd3a-e296dd3ca90b",
        "colab": {
          "base_uri": "https://localhost:8080/",
          "height": 573
        }
      },
      "source": [
        "plt.figure(figsize = (10, 8))\n",
        "colors = ['b', 'r', 'g', 'm', 'k', 'c', 'y', 'gray', 'navy', 'gold', 'pink', \n",
        "          'orange', 'lime', 'purple', 'mediumpurple', 'deepskyblue', 'brown', 'silver']\n",
        "for k in range(18):\n",
        "    plt.scatter(X_proj[y == k, 0], X_proj[y == k, 1], color = colors[k], alpha = 0.5, label = y_names[k])\n",
        "plt.legend()"
      ],
      "execution_count": null,
      "outputs": [
        {
          "output_type": "execute_result",
          "data": {
            "text/plain": [
              "<matplotlib.legend.Legend at 0x7f5188c02eb8>"
            ]
          },
          "metadata": {
            "tags": []
          },
          "execution_count": 61
        },
        {
          "output_type": "stream",
          "text": [
            "/usr/local/lib/python3.6/dist-packages/google/colab/_event_manager.py:28: UserWarning: Creating legend with loc=\"best\" can be slow with large amounts of data.\n",
            "  func(*args, **kwargs)\n",
            "/usr/local/lib/python3.6/dist-packages/IPython/core/pylabtools.py:125: UserWarning: Creating legend with loc=\"best\" can be slow with large amounts of data.\n",
            "  fig.canvas.print_figure(bytes_io, **kw)\n"
          ],
          "name": "stderr"
        },
        {
          "output_type": "display_data",
          "data": {
            "image/png": "[encoded data removed]",
            "text/plain": [
              "<Figure size 720x576 with 1 Axes>"
            ]
          },
          "metadata": {
            "tags": [],
            "needs_background": "light"
          }
        }
      ]
    },
    {
      "cell_type": "code",
      "metadata": {
        "id": "gsbZL0ABB24l",
        "outputId": "54d1afb9-9d30-46bd-980c-db2151bf9019",
        "colab": {
          "base_uri": "https://localhost:8080/",
          "height": 1000
        }
      },
      "source": [
        "print(\"Главные компоненты (по строкам):\")\n",
        "print(pca.components_)\n",
        "print(\"Дисперсии по главным компонентам:\")\n",
        "print(pca.explained_variance_)"
      ],
      "execution_count": null,
      "outputs": [
        {
          "output_type": "stream",
          "text": [
            "Главные компоненты (по строкам):\n",
            "[[-3.32196032e-03 -5.73437980e-04  4.50629525e-04 -1.07342526e-03\n",
            "  -4.60673133e-04 -2.02475713e-04 -5.83474882e-05 -7.46506507e-02\n",
            "  -9.22073641e-03 -2.67898299e-02 -4.76335046e-03 -3.80108105e-03\n",
            "   4.32266715e-03 -6.27686507e-05  3.49215950e-05  3.31956108e-01\n",
            "  -3.89441664e-04 -5.71114347e-04 -1.17735223e-05 -6.28124968e-03\n",
            "  -6.85841462e-04  9.15652065e-06  3.84187198e-03 -1.57088655e-05\n",
            "  -2.45352813e-04 -5.13105975e-03 -3.63849241e-04 -5.26954204e-05\n",
            "  -1.30331888e-04 -3.90076453e-04 -2.60001778e-04 -6.86912164e-03\n",
            "  -1.29619564e-03  7.13124536e-03  7.65768448e-05 -1.31168197e-03\n",
            "  -1.65525126e-03  3.01919377e-05 -1.72333158e-03  6.93210859e-04\n",
            "   5.07328948e-03  4.97743428e-05 -3.54636412e-04 -1.37484743e-04\n",
            "  -2.70598306e-03 -4.03939642e-04 -4.29998669e-03 -1.00556650e-02\n",
            "  -1.30666501e-02 -6.83529820e-03  4.74122511e-03 -1.40629740e-01\n",
            "   1.61530159e-03 -1.54368931e-04 -8.69525965e-03  2.56641294e-05\n",
            "  -1.41764532e-03  4.27833564e-04 -1.81705316e-04 -2.37776942e-03\n",
            "   4.58285083e-04  2.02260282e-04 -7.45471088e-06 -1.91399398e-03\n",
            "  -5.29727389e-03 -1.08591192e-03 -9.57879308e-04  5.67334034e-06\n",
            "  -1.69611638e-04  1.98095911e-05 -6.00789369e-05 -4.29788429e-05\n",
            "  -2.03895856e-03 -4.12801791e-04 -5.83245338e-03  3.32649464e-04\n",
            "   2.89874168e-05 -3.37673955e-02 -3.66948946e-04 -8.81853036e-06\n",
            "  -2.77247859e-05  8.30932768e-04 -3.18787250e-04 -6.57657120e-07\n",
            "   1.11800219e-04 -8.32841439e-03  1.76396064e-05 -4.17009095e-04\n",
            "  -7.17411030e-04  1.66774088e-04  1.39840768e-02  1.81820533e-04\n",
            "   4.23687935e-05  1.46439438e-04  1.02968325e-03  3.83152590e-04\n",
            "   6.84920813e-04 -1.92009891e-07  1.41066006e-04  3.93875822e-04\n",
            "   2.70494746e-05 -2.01933371e-05  4.44604517e-05  1.06610822e-04\n",
            "   1.13812555e-03 -3.04220358e-04 -2.61807629e-03 -2.77022224e-04\n",
            "  -2.77343554e-04  7.98838080e-04 -1.47317062e-04 -2.40934322e-04\n",
            "  -2.68771528e-03 -2.60757072e-05 -6.00139445e-05 -5.69320787e-03\n",
            "   4.79708950e-05  9.72987236e-04 -1.74295530e-03  9.90486673e-05\n",
            "   4.89692935e-06  3.45190937e-04  6.74576397e-04  1.77314115e-03\n",
            "  -3.99052530e-04  1.10578515e-02  6.64411387e-04 -2.31115658e-04\n",
            "   1.92768113e-03  5.17393894e-04  1.74220259e-03 -2.17322119e-02\n",
            "  -6.69946128e-03 -3.03232363e-05 -2.73510916e-05 -4.64820535e-06\n",
            "  -1.08594538e-04 -1.49420974e-03  2.14110201e-05 -6.95255932e-04\n",
            "  -6.81553425e-04 -2.07811048e-04 -5.93670926e-05 -3.17276017e-04\n",
            "  -2.29572123e-04  1.24564959e-03  2.07860745e-05  3.10238523e-04\n",
            "   2.36430266e-03  3.36402389e-02 -2.11956994e-05  6.40739714e-02\n",
            "   1.45908241e-01 -6.67762593e-05  1.32325819e-04 -1.76949010e-06\n",
            "  -1.23353141e-06 -1.96590310e-05  2.12392965e-08 -1.19590760e-01\n",
            "   8.98002428e-06 -5.29582170e-02 -4.25302542e-05 -5.56274171e-05\n",
            "  -5.72994995e-03 -2.16168922e-02 -9.05337587e-04 -6.62359990e-03\n",
            "  -5.86743847e-04  3.75882011e-05 -3.95894852e-04  2.53808457e-05\n",
            "  -1.07377264e-03 -5.78628714e-03 -6.13237107e-04  1.04060281e-04\n",
            "  -3.25642085e-04  3.75527161e-05 -5.02788485e-04 -3.00278994e-05\n",
            "  -3.50289025e-06 -7.33350841e-06  5.48069504e-06  1.85444499e-04\n",
            "   1.85987354e-04  2.00868400e-04  1.76898230e-05 -2.52425445e-03\n",
            "  -1.01564750e-04 -1.43644839e-03  1.43159334e-04  4.87883845e-02\n",
            "  -1.30663790e-03 -3.60916587e-04 -1.83456043e-03 -7.42578099e-06\n",
            "   7.75452684e-06 -1.05371608e-05 -1.43921972e-04  1.94217618e-03\n",
            "  -1.64489033e-05 -1.50794541e-04 -4.38550971e-04 -1.04762018e-02\n",
            "  -1.56564965e-03 -1.23220162e-06  3.92349669e-04  4.41174766e-05\n",
            "  -1.85699466e-03  1.23780803e-03  1.37901205e-04 -3.12458141e-03\n",
            "  -3.66435851e-04 -3.22012000e-04 -5.32743653e-03  4.37255994e-05\n",
            "  -4.96177990e-05  3.25189714e-04 -7.99233343e-04 -1.17404887e-03\n",
            "   8.13202209e-04  1.12762677e-03  6.60406806e-04 -8.56484624e-03\n",
            "  -2.98671113e-04 -3.72632120e-04  5.03299746e-03  2.65235196e-03\n",
            "  -1.05119821e-04 -3.46948244e-04 -1.03187018e-04 -8.94769322e-05\n",
            "   5.71730101e-04 -3.72144127e-03 -2.55153315e-06  1.94606648e-05\n",
            "  -3.90079449e-06 -6.29975051e-06  2.45835359e-03 -7.52914300e-05\n",
            "   1.15663828e-03  2.57783090e-04 -5.58227521e-06  1.89027502e-04\n",
            "   3.97534179e-03  5.84553433e-04  6.58983290e-04  1.19784408e-02\n",
            "   1.17988200e-03 -1.99750679e-02 -1.77368157e-02 -4.25907255e-03\n",
            "   2.19958882e-02  4.98337338e-01 -5.16042446e-01  9.25438500e-04\n",
            "   1.67796697e-02 -5.35247482e-04 -1.69427829e-02 -8.68845979e-02\n",
            "  -6.34440772e-02 -2.78793761e-01  4.46600466e-01 -8.96171926e-03\n",
            "  -9.72263083e-03 -2.90094771e-02  6.86144962e-02 -3.74722831e-03\n",
            "  -1.79409009e-02  6.19331928e-04  1.48128339e-04  3.57000454e-03\n",
            "  -4.90739634e-02]\n",
            " [-9.65839035e-04 -3.17482889e-03 -3.18103472e-03 -4.97856613e-04\n",
            "  -3.70477517e-04 -1.47665714e-04 -1.42015469e-04 -2.82047864e-02\n",
            "  -2.57795148e-02 -7.65745219e-02 -2.87851493e-02 -1.72150003e-02\n",
            "  -1.68309955e-02 -2.56743291e-05 -5.65548079e-04  6.31161697e-01\n",
            "  -2.03843815e-04 -4.35900270e-03 -2.12939387e-06 -3.35054891e-02\n",
            "  -1.37617404e-03 -1.58636436e-03 -2.47505411e-02 -1.38142335e-04\n",
            "  -5.32919083e-04 -2.01235046e-02 -7.54714189e-04 -6.45004967e-06\n",
            "  -1.31049088e-04 -1.29368452e-04 -9.20390818e-05 -8.01361339e-03\n",
            "  -2.49401853e-03 -5.22579046e-02 -1.69007309e-04 -9.50542507e-03\n",
            "  -3.15285810e-03 -1.10207328e-03 -6.32865704e-03 -2.27889966e-02\n",
            "  -2.12045565e-02 -1.36047105e-03 -2.25027433e-05 -2.90328842e-04\n",
            "  -3.94598694e-03 -2.56115072e-03 -1.97680410e-02 -3.31078807e-02\n",
            "  -8.04669491e-03 -1.98357998e-03 -3.42502116e-02 -4.73656985e-02\n",
            "  -2.28442602e-03 -6.94111801e-05 -4.57631856e-03 -9.61825749e-05\n",
            "  -8.37282633e-03 -3.22430976e-03 -1.96753186e-05 -1.39269507e-03\n",
            "  -6.58906363e-03 -1.65826273e-03 -9.47899178e-05 -2.30147447e-03\n",
            "  -3.03251750e-03 -1.68118481e-04 -3.16910130e-03 -8.01374721e-06\n",
            "  -9.18157730e-04 -1.46631263e-05 -1.78552796e-04 -3.75204937e-05\n",
            "  -6.76387254e-03 -1.80611593e-03 -1.23355133e-02 -2.17781681e-03\n",
            "   9.11124554e-03 -1.28669029e-02 -1.73413411e-04 -5.48507588e-06\n",
            "  -4.23237001e-05  4.00402704e-03 -1.13740470e-03 -8.75070147e-05\n",
            "   7.51658816e-04 -1.24874636e-02  2.64200791e-04 -3.24725623e-04\n",
            "  -3.68027012e-03  3.88329758e-04 -5.26892824e-02  1.68038004e-03\n",
            "   3.85605768e-04  5.03726533e-04  2.50214821e-02  4.10844344e-03\n",
            "   7.65926176e-04 -1.91236408e-04 -9.80198294e-03  3.62164441e-04\n",
            "  -1.13101551e-04  3.34570085e-04  3.10509235e-04  2.01785340e-04\n",
            "   1.87978635e-03 -2.02363957e-03 -2.39101007e-03 -3.11899547e-03\n",
            "  -2.36415190e-03  8.92385668e-03  1.79044828e-03  1.85294477e-03\n",
            "  -2.32309305e-02 -1.08157680e-04 -2.74442483e-04 -5.24861638e-02\n",
            "   2.85839322e-04  3.83955029e-03 -4.70625100e-03  4.17654127e-03\n",
            "  -3.13256343e-05  2.69496568e-03  6.73440384e-03  2.23331949e-03\n",
            "   3.52143248e-03  1.83593793e-02  5.01918458e-03 -1.46052802e-04\n",
            "  -1.90915170e-02 -1.16192615e-02  3.69068039e-03 -6.77564628e-03\n",
            "  -2.59221369e-02 -1.90690858e-05 -8.68438499e-05 -1.87116676e-02\n",
            "  -5.25996255e-05 -2.36402810e-03  7.58549546e-04 -4.45969423e-03\n",
            "  -2.22654278e-03 -1.77995552e-04 -9.64518617e-04 -8.85466942e-04\n",
            "  -3.29040743e-04  1.27554411e-02 -2.46029274e-04 -7.76789713e-03\n",
            "   6.48034914e-03  2.27906553e-02 -3.93385364e-05  1.73581042e-01\n",
            "   1.78654733e-01 -1.16437744e-04  6.75574618e-03 -3.85126144e-06\n",
            "  -3.03315801e-06 -5.13629026e-05 -1.06446566e-05 -9.51312946e-02\n",
            "  -1.02036124e-04 -6.91200453e-02 -5.21096144e-05 -9.43506399e-05\n",
            "  -2.78679493e-03 -1.01045119e-02 -9.30526029e-06 -1.24921958e-02\n",
            "  -1.48980906e-04 -4.11077756e-04 -2.20194094e-03 -1.28747458e-04\n",
            "  -2.37373075e-03  9.59860177e-03 -3.33485084e-03  3.65231743e-03\n",
            "  -2.59875120e-04 -6.05491198e-04 -1.10850623e-03 -1.74934062e-03\n",
            "  -3.35609122e-05  6.72595017e-07  4.62738901e-04  3.02810411e-04\n",
            "   3.23115951e-03  6.60150553e-04 -1.14596911e-04 -5.21168584e-04\n",
            "  -2.01891389e-04 -3.02997569e-03 -4.99823475e-04  4.78148497e-02\n",
            "  -1.83705405e-03 -3.35053794e-04 -6.90045517e-03 -2.24647005e-04\n",
            "  -4.58871892e-05  5.34751492e-06 -2.75848701e-04  6.16848764e-03\n",
            "   5.37218477e-06 -6.42070127e-04 -1.29068726e-03 -9.10951337e-04\n",
            "  -6.67689314e-03 -3.02436156e-06  4.85728420e-04 -2.74248428e-04\n",
            "  -6.75034250e-04  4.34394202e-03  4.26034408e-04 -6.97224726e-03\n",
            "  -7.83987730e-05 -1.64645583e-03 -1.84047847e-02 -7.46027027e-04\n",
            "  -3.48711214e-03 -5.41651605e-03 -3.53452010e-03 -6.72116480e-03\n",
            "  -2.61138543e-03 -9.23181233e-03  3.48625486e-03 -1.98066227e-02\n",
            "  -2.48453826e-04 -1.30614211e-03  1.97176267e-02  5.91024327e-03\n",
            "  -2.67670050e-04 -3.18842039e-04 -4.71538404e-04 -6.26342469e-05\n",
            "   2.88153134e-03 -2.49272908e-03 -9.87936444e-06 -1.27627293e-04\n",
            "  -4.00077907e-06 -9.48138505e-05 -2.65186130e-02 -4.31880592e-04\n",
            "  -3.84164648e-03 -3.39004940e-03 -4.45406169e-05 -2.51543298e-03\n",
            "  -8.24945826e-02 -6.90784311e-03 -2.83754113e-03  1.19842156e-03\n",
            "  -6.16086649e-03  1.06994081e-01 -2.19525005e-03 -2.66146732e-03\n",
            "   4.85671737e-03 -2.27306988e-01  2.38769609e-01 -5.17277704e-04\n",
            "  -1.09453434e-02  9.41028346e-05  1.27464305e-02  1.89173753e-02\n",
            "   6.30304625e-02  2.61518109e-02 -1.20940182e-01  5.17541478e-03\n",
            "  -4.65636445e-01  7.51126973e-02  3.41454540e-01  7.42446937e-03\n",
            "   1.63226191e-02  1.78659638e-02  2.28074163e-03  1.15980785e-02\n",
            "  -5.81528850e-02]]\n",
            "Дисперсии по главным компонентам:\n",
            "[0.4580571  0.29148042]\n"
          ],
          "name": "stdout"
        }
      ]
    },
    {
      "cell_type": "code",
      "metadata": {
        "id": "RnGQ5lRFC-dN",
        "outputId": "277dbb1e-07a8-44e9-f555-37ed3b7deb67",
        "colab": {
          "base_uri": "https://localhost:8080/",
          "height": 52
        }
      },
      "source": [
        "print(\"Среднеквадратические отклонения:\")\n",
        "print(np.sqrt(pca.explained_variance_))"
      ],
      "execution_count": null,
      "outputs": [
        {
          "output_type": "stream",
          "text": [
            "Среднеквадратические отклонения:\n",
            "[0.67679916 0.53988927]\n"
          ],
          "name": "stdout"
        }
      ]
    },
    {
      "cell_type": "code",
      "metadata": {
        "id": "R-ojMgSDEMey"
      },
      "source": [
        "from sklearn.model_selection import train_test_split\n",
        "X_train, X_test, y_train, y_test = train_test_split(X_proj, y, test_size = 0.3, random_state = 42)"
      ],
      "execution_count": null,
      "outputs": []
    },
    {
      "cell_type": "markdown",
      "metadata": {
        "id": "eOO4D5961Hb8"
      },
      "source": [
        "Применим SVM к новым данным."
      ]
    },
    {
      "cell_type": "code",
      "metadata": {
        "id": "uMivWJ_JF8Gh",
        "outputId": "92be8b87-f841-4426-d93c-7e16312c0019",
        "colab": {
          "base_uri": "https://localhost:8080/",
          "height": 35
        }
      },
      "source": [
        "from sklearn.svm import SVC\n",
        "\n",
        "svc = SVC(gamma='auto')\n",
        "svc.fit(X_train, y_train)\n",
        "\n",
        "err_train = np.mean(y_train != svc.predict(X_train))\n",
        "err_test  = np.mean(y_test  != svc.predict(X_test))\n",
        "\n",
        "print(err_train, err_test)"
      ],
      "execution_count": null,
      "outputs": [
        {
          "output_type": "stream",
          "text": [
            "0.50992371174447 0.5082816057893259\n"
          ],
          "name": "stdout"
        }
      ]
    },
    {
      "cell_type": "markdown",
      "metadata": {
        "id": "sW_Z1Mh-1PI-"
      },
      "source": [
        "Поэксперементируем с числом компонент, чтобы найти лучшее значение."
      ]
    },
    {
      "cell_type": "code",
      "metadata": {
        "id": "gGsB0IouyZ-w",
        "outputId": "8689c3d8-9286-4360-d5a3-b67d661f5bde",
        "colab": {
          "base_uri": "https://localhost:8080/",
          "height": 225
        }
      },
      "source": [
        "from sklearn.decomposition import PCA\n",
        "from sklearn.model_selection import train_test_split\n",
        "from sklearn.svm import SVC\n",
        "\n",
        "err_train_values = []\n",
        "err_test_values = []\n",
        "for comp in [1, 2, 5, 10, 15, 19]:\n",
        "    pca = PCA(n_components = comp)\n",
        "    pca.fit(X)\n",
        "    X_proj = pca.transform(X)\n",
        "    X_train, X_test, y_train, y_test = train_test_split(X_proj, y, test_size = 0.3, random_state = 42)\n",
        "    print(f\"Components {comp}\")\n",
        "    svc = SVC(gamma='auto')\n",
        "    svc.fit(X_train, y_train)\n",
        "    err_train = np.mean(y_train != svc.predict(X_train))\n",
        "    err_test  = np.mean(y_test  != svc.predict(X_test))\n",
        "    err_train_values.append(err_train)\n",
        "    err_test_values.append(err_test)\n",
        "    print(err_train, err_test)"
      ],
      "execution_count": null,
      "outputs": [
        {
          "output_type": "stream",
          "text": [
            "Components 1\n",
            "0.5363215870809047 0.5338802416378137\n",
            "Components 2\n",
            "0.5099192556547778 0.5082816057893259\n",
            "Components 5\n",
            "0.3421251982959913 0.3431381723281034\n",
            "Components 10\n",
            "0.17990125305242144 0.18300633207523628\n",
            "Components 15\n",
            "0.1607311551966918 0.16378136144816327\n",
            "Components 19\n",
            "0.11766304832183662 0.1219002464206619\n"
          ],
          "name": "stdout"
        }
      ]
    },
    {
      "cell_type": "code",
      "metadata": {
        "id": "bEJCEvatzB48",
        "outputId": "73006005-2fc5-4e0c-e348-db09b77a725e",
        "colab": {
          "base_uri": "https://localhost:8080/",
          "height": 297
        }
      },
      "source": [
        "import matplotlib.pyplot as plt\n",
        "\n",
        "components = [1, 2, 5, 10, 15, 19]\n",
        "plt.plot(components, err_train_values, color = 'b', label = 'Train')\n",
        "plt.plot(components, err_test_values, color = 'm', label = 'Test')\n",
        "plt.xlim(0, 20)\n",
        "plt.xlabel('Number of components')\n",
        "plt.ylabel('Error')\n",
        "plt.legend()"
      ],
      "execution_count": null,
      "outputs": [
        {
          "output_type": "execute_result",
          "data": {
            "text/plain": [
              "<matplotlib.legend.Legend at 0x7ff642b6be10>"
            ]
          },
          "metadata": {
            "tags": []
          },
          "execution_count": 5
        },
        {
          "output_type": "display_data",
          "data": {
            "image/png": "[encoded data removed]",
            "text/plain": [
              "<Figure size 432x288 with 1 Axes>"
            ]
          },
          "metadata": {
            "tags": [],
            "needs_background": "light"
          }
        }
      ]
    },
    {
      "cell_type": "markdown",
      "metadata": {
        "id": "hvh3iGEd1hmc"
      },
      "source": [
        "По графику видно, что лучшим значением компонент является 19, при котором ошибки на тренировочной и тестовой выборке составляют 0.11766 и 0.12190. Таким образом, PCA позволяет низить ошибку."
      ]
    }
  ]
}