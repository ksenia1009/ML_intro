{
 "cells": [
  {
   "cell_type": "markdown",
   "metadata": {
    "id": "ebIAJvqmeECP",
    "colab_type": "text"
   },
   "source": [
    "# Классификация жалоб клиентов"
   ]
  },
  {
   "cell_type": "markdown",
   "metadata": {
    "id": "Njx-4goseCW0",
    "colab_type": "text"
   },
   "source": [
    "Датасет содержит информацию о жалобах клиентов на различные продукты и услуги в финансовом секторе, такие как кредитные отчеты, студенческие ссуды, денежные переводы и т.д. Требуется классифицировать на какие продукты и услуги клиенты отправляют жалобы. Объем выборки $N=320589$, количество признаков $d=18$, количество классов $K=18$."
   ]
  },
  {
   "cell_type": "markdown",
   "metadata": {
    "id": "9V5ziPE3fRsU",
    "colab_type": "text"
   },
   "source": [
    "## 1. Загрузка данных"
   ]
  },
  {
   "cell_type": "code",
   "execution_count": 9,
   "metadata": {
    "id": "rzzgoOU1fNv2",
    "colab_type": "code",
    "colab": {}
   },
   "outputs": [],
   "source": [
    "import numpy as np\n",
    "import matplotlib.pyplot as plt\n",
    "%matplotlib inline\n",
    "import pandas as pd\n",
    "import sklearn\n",
    "import seaborn as sns"
   ]
  },
  {
   "cell_type": "code",
   "execution_count": 10,
   "metadata": {
    "id": "L6-bVgN5fjJS",
    "colab_type": "code",
    "colab": {
     "base_uri": "https://localhost:8080/",
     "height": 72.0
    },
    "outputId": "4649268b-5c95-4c6f-c259-5874592181d3"
   },
   "outputs": [
    {
     "name": "stderr",
     "output_type": "stream",
     "text": [
      "/usr/local/lib/python3.6/dist-packages/IPython/core/interactiveshell.py:2718: DtypeWarning: Columns (5,6,11,16) have mixed types.Specify dtype option on import or set low_memory=False.\n",
      "  interactivity=interactivity, compiler=compiler, result=result)\n"
     ]
    }
   ],
   "source": [
    "url = \"https://media.githubusercontent.com/media/ksenia1009/ML_intro/master/data.csv\"\n",
    "data_raw = pd.read_csv(url)"
   ]
  },
  {
   "cell_type": "code",
   "execution_count": 11,
   "metadata": {
    "id": "QNruWcyafume",
    "colab_type": "code",
    "colab": {
     "base_uri": "https://localhost:8080/",
     "height": 34.0
    },
    "outputId": "fb14d559-5ea0-436f-9359-dc66abc63e73"
   },
   "outputs": [
    {
     "data": {
      "text/plain": [
       "(320589, 18)"
      ]
     },
     "execution_count": 11,
     "metadata": {
      "tags": []
     },
     "output_type": "execute_result"
    }
   ],
   "source": [
    "data_raw.shape"
   ]
  },
  {
   "cell_type": "code",
   "execution_count": 12,
   "metadata": {
    "id": "MmRaeVacgiVB",
    "colab_type": "code",
    "colab": {
     "base_uri": "https://localhost:8080/",
     "height": 374.0
    },
    "outputId": "95d53ff1-4459-401b-e19e-ddbeea941b45"
   },
   "outputs": [
    {
     "data": {
      "text/html": [
       "<div>\n",
       "<style scoped>\n",
       "    .dataframe tbody tr th:only-of-type {\n",
       "        vertical-align: middle;\n",
       "    }\n",
       "\n",
       "    .dataframe tbody tr th {\n",
       "        vertical-align: top;\n",
       "    }\n",
       "\n",
       "    .dataframe thead th {\n",
       "        text-align: right;\n",
       "    }\n",
       "</style>\n",
       "<table border=\"1\" class=\"dataframe\">\n",
       "  <thead>\n",
       "    <tr style=\"text-align: right;\">\n",
       "      <th></th>\n",
       "      <th>Date received</th>\n",
       "      <th>Product</th>\n",
       "      <th>Sub-product</th>\n",
       "      <th>Issue</th>\n",
       "      <th>Sub-issue</th>\n",
       "      <th>Consumer complaint narrative</th>\n",
       "      <th>Company public response</th>\n",
       "      <th>Company</th>\n",
       "      <th>State</th>\n",
       "      <th>ZIP code</th>\n",
       "      <th>Tags</th>\n",
       "      <th>Consumer consent provided?</th>\n",
       "      <th>Submitted via</th>\n",
       "      <th>Date sent to company</th>\n",
       "      <th>Company response to consumer</th>\n",
       "      <th>Timely response?</th>\n",
       "      <th>Consumer disputed?</th>\n",
       "      <th>Complaint ID</th>\n",
       "    </tr>\n",
       "  </thead>\n",
       "  <tbody>\n",
       "    <tr>\n",
       "      <th>0</th>\n",
       "      <td>05/10/2019</td>\n",
       "      <td>Checking or savings account</td>\n",
       "      <td>Checking account</td>\n",
       "      <td>Managing an account</td>\n",
       "      <td>Problem using a debit or ATM card</td>\n",
       "      <td>NaN</td>\n",
       "      <td>NaN</td>\n",
       "      <td>NAVY FEDERAL CREDIT UNION</td>\n",
       "      <td>FL</td>\n",
       "      <td>328XX</td>\n",
       "      <td>Older American</td>\n",
       "      <td>NaN</td>\n",
       "      <td>Web</td>\n",
       "      <td>05/10/2019</td>\n",
       "      <td>In progress</td>\n",
       "      <td>Yes</td>\n",
       "      <td>NaN</td>\n",
       "      <td>3238275</td>\n",
       "    </tr>\n",
       "    <tr>\n",
       "      <th>1</th>\n",
       "      <td>05/10/2019</td>\n",
       "      <td>Checking or savings account</td>\n",
       "      <td>Checking account</td>\n",
       "      <td>Managing an account</td>\n",
       "      <td>Banking errors</td>\n",
       "      <td>NaN</td>\n",
       "      <td>NaN</td>\n",
       "      <td>ALLY FINANCIAL INC.</td>\n",
       "      <td>AZ</td>\n",
       "      <td>85205</td>\n",
       "      <td>NaN</td>\n",
       "      <td>NaN</td>\n",
       "      <td>Postal mail</td>\n",
       "      <td>05/10/2019</td>\n",
       "      <td>In progress</td>\n",
       "      <td>Yes</td>\n",
       "      <td>NaN</td>\n",
       "      <td>3238460</td>\n",
       "    </tr>\n",
       "    <tr>\n",
       "      <th>2</th>\n",
       "      <td>05/10/2019</td>\n",
       "      <td>Debt collection</td>\n",
       "      <td>Other debt</td>\n",
       "      <td>Attempts to collect debt not owed</td>\n",
       "      <td>Debt was paid</td>\n",
       "      <td>NaN</td>\n",
       "      <td>NaN</td>\n",
       "      <td>Diversified Consultants, Inc.</td>\n",
       "      <td>SC</td>\n",
       "      <td>296XX</td>\n",
       "      <td>Servicemember</td>\n",
       "      <td>NaN</td>\n",
       "      <td>Web</td>\n",
       "      <td>05/10/2019</td>\n",
       "      <td>In progress</td>\n",
       "      <td>Yes</td>\n",
       "      <td>NaN</td>\n",
       "      <td>3238545</td>\n",
       "    </tr>\n",
       "  </tbody>\n",
       "</table>\n",
       "</div>"
      ],
      "text/plain": [
       "  Date received                      Product  ... Consumer disputed? Complaint ID\n",
       "0    05/10/2019  Checking or savings account  ...                NaN      3238275\n",
       "1    05/10/2019  Checking or savings account  ...                NaN      3238460\n",
       "2    05/10/2019              Debt collection  ...                NaN      3238545\n",
       "\n",
       "[3 rows x 18 columns]"
      ]
     },
     "execution_count": 12,
     "metadata": {
      "tags": []
     },
     "output_type": "execute_result"
    }
   ],
   "source": [
    "data_raw.head(3)"
   ]
  },
  {
   "cell_type": "code",
   "execution_count": 13,
   "metadata": {
    "id": "-fn-eghZgwio",
    "colab_type": "code",
    "colab": {
     "base_uri": "https://localhost:8080/",
     "height": 122.0
    },
    "outputId": "0ffa0870-ec48-440d-de7c-84926ff5181c"
   },
   "outputs": [
    {
     "data": {
      "text/plain": [
       "Index(['Date received', 'Product', 'Sub-product', 'Issue', 'Sub-issue',\n",
       "       'Consumer complaint narrative', 'Company public response', 'Company',\n",
       "       'State', 'ZIP code', 'Tags', 'Consumer consent provided?',\n",
       "       'Submitted via', 'Date sent to company', 'Company response to consumer',\n",
       "       'Timely response?', 'Consumer disputed?', 'Complaint ID'],\n",
       "      dtype='object')"
      ]
     },
     "execution_count": 13,
     "metadata": {
      "tags": []
     },
     "output_type": "execute_result"
    }
   ],
   "source": [
    "data_raw.columns"
   ]
  },
  {
   "cell_type": "markdown",
   "metadata": {
    "id": "WvfrXrXUhZ0z",
    "colab_type": "text"
   },
   "source": [
    "Видим, что столбцы (признаки) имеют следующие имена:  \n",
    "* **Date received** - дата получения жалобы (числовой признак)\n",
    "* **Product** - продукт (номинальный)\n",
    "* **Sub-product** - суб-продукт (номинальный)\n",
    "* **Issue** - жалоба клиента (номинальный)\n",
    "* **Sub-issue** - конкретная формулировка жалобы (номинальный)\n",
    "* **Consumer complaint narrative** - описание жалобы (номинальный)\n",
    "* **Company public response** - ответ компании (номинальный)\n",
    "* **Company** - компания (номинальный)\n",
    "* **State** - страна (номинальный)\n",
    "* **ZIP** code - индекс (числовой)\n",
    "* **Tags** - тэг (номинальный)\n",
    "* **Consumer consent provided?** - предоставлено ли согласие клиента? (номинальный)\n",
    "* **Submitted via** - способ отправление жалобы (номинальный)\n",
    "* **Date sent to company** - дата отправления жалобы в компанию (числовой)\n",
    "* **Company response to consumer** - статус ответа компании (номинальный)\n",
    "* **Timely response?** - вовремя ли получен ответ (бинарный)\n",
    "* **Consumer disputed?** - оспорен ли ответ компании клиентом? (бинарный)\n",
    "* **Complaint ID** - идентификатор клиента (числовой)"
   ]
  },
  {
   "cell_type": "markdown",
   "metadata": {
    "id": "oU3p_RwV1WR9",
    "colab_type": "text"
   },
   "source": [
    "## 2. Визуализация данных"
   ]
  },
  {
   "cell_type": "code",
   "execution_count": 14,
   "metadata": {
    "id": "Ip7VX0-5pZkl",
    "colab_type": "code",
    "colab": {
     "base_uri": "https://localhost:8080/",
     "height": 527.0
    },
    "outputId": "86a6d41b-35b7-4bd8-d02c-69549684d440"
   },
   "outputs": [
    {
     "data": {
      "text/html": [
       "<div>\n",
       "<style scoped>\n",
       "    .dataframe tbody tr th:only-of-type {\n",
       "        vertical-align: middle;\n",
       "    }\n",
       "\n",
       "    .dataframe tbody tr th {\n",
       "        vertical-align: top;\n",
       "    }\n",
       "\n",
       "    .dataframe thead th {\n",
       "        text-align: right;\n",
       "    }\n",
       "</style>\n",
       "<table border=\"1\" class=\"dataframe\">\n",
       "  <thead>\n",
       "    <tr style=\"text-align: right;\">\n",
       "      <th></th>\n",
       "      <th>Date received</th>\n",
       "      <th>Product</th>\n",
       "      <th>Sub-product</th>\n",
       "      <th>Issue</th>\n",
       "      <th>Sub-issue</th>\n",
       "      <th>Consumer complaint narrative</th>\n",
       "      <th>Company public response</th>\n",
       "      <th>Company</th>\n",
       "      <th>State</th>\n",
       "      <th>ZIP code</th>\n",
       "      <th>Tags</th>\n",
       "      <th>Consumer consent provided?</th>\n",
       "      <th>Submitted via</th>\n",
       "      <th>Date sent to company</th>\n",
       "      <th>Company response to consumer</th>\n",
       "      <th>Timely response?</th>\n",
       "      <th>Consumer disputed?</th>\n",
       "      <th>Complaint ID</th>\n",
       "    </tr>\n",
       "  </thead>\n",
       "  <tbody>\n",
       "    <tr>\n",
       "      <th>count</th>\n",
       "      <td>320589</td>\n",
       "      <td>320589</td>\n",
       "      <td>261841</td>\n",
       "      <td>320589</td>\n",
       "      <td>187704</td>\n",
       "      <td>96189</td>\n",
       "      <td>112593</td>\n",
       "      <td>320589</td>\n",
       "      <td>315734</td>\n",
       "      <td>291569</td>\n",
       "      <td>43991</td>\n",
       "      <td>172648</td>\n",
       "      <td>320589</td>\n",
       "      <td>320589</td>\n",
       "      <td>320588</td>\n",
       "      <td>320589</td>\n",
       "      <td>192125</td>\n",
       "      <td>3.205890e+05</td>\n",
       "    </tr>\n",
       "    <tr>\n",
       "      <th>unique</th>\n",
       "      <td>2717</td>\n",
       "      <td>18</td>\n",
       "      <td>76</td>\n",
       "      <td>164</td>\n",
       "      <td>215</td>\n",
       "      <td>94398</td>\n",
       "      <td>10</td>\n",
       "      <td>3755</td>\n",
       "      <td>63</td>\n",
       "      <td>15131</td>\n",
       "      <td>3</td>\n",
       "      <td>4</td>\n",
       "      <td>6</td>\n",
       "      <td>2655</td>\n",
       "      <td>8</td>\n",
       "      <td>2</td>\n",
       "      <td>2</td>\n",
       "      <td>NaN</td>\n",
       "    </tr>\n",
       "    <tr>\n",
       "      <th>top</th>\n",
       "      <td>09/08/2017</td>\n",
       "      <td>Mortgage</td>\n",
       "      <td>Credit reporting</td>\n",
       "      <td>Incorrect information on your report</td>\n",
       "      <td>Information belongs to someone else</td>\n",
       "      <td>There are many mistakes appear in my report wi...</td>\n",
       "      <td>Company has responded to the consumer and the ...</td>\n",
       "      <td>EQUIFAX, INC.</td>\n",
       "      <td>CA</td>\n",
       "      <td>300XX</td>\n",
       "      <td>Servicemember</td>\n",
       "      <td>Consent provided</td>\n",
       "      <td>Web</td>\n",
       "      <td>09/08/2017</td>\n",
       "      <td>Closed with explanation</td>\n",
       "      <td>Yes</td>\n",
       "      <td>No</td>\n",
       "      <td>NaN</td>\n",
       "    </tr>\n",
       "    <tr>\n",
       "      <th>freq</th>\n",
       "      <td>888</td>\n",
       "      <td>69084</td>\n",
       "      <td>55375</td>\n",
       "      <td>33534</td>\n",
       "      <td>14655</td>\n",
       "      <td>235</td>\n",
       "      <td>78245</td>\n",
       "      <td>28538</td>\n",
       "      <td>43853</td>\n",
       "      <td>1874</td>\n",
       "      <td>21178</td>\n",
       "      <td>96263</td>\n",
       "      <td>236272</td>\n",
       "      <td>840</td>\n",
       "      <td>248222</td>\n",
       "      <td>312560</td>\n",
       "      <td>155296</td>\n",
       "      <td>NaN</td>\n",
       "    </tr>\n",
       "    <tr>\n",
       "      <th>mean</th>\n",
       "      <td>NaN</td>\n",
       "      <td>NaN</td>\n",
       "      <td>NaN</td>\n",
       "      <td>NaN</td>\n",
       "      <td>NaN</td>\n",
       "      <td>NaN</td>\n",
       "      <td>NaN</td>\n",
       "      <td>NaN</td>\n",
       "      <td>NaN</td>\n",
       "      <td>NaN</td>\n",
       "      <td>NaN</td>\n",
       "      <td>NaN</td>\n",
       "      <td>NaN</td>\n",
       "      <td>NaN</td>\n",
       "      <td>NaN</td>\n",
       "      <td>NaN</td>\n",
       "      <td>NaN</td>\n",
       "      <td>1.929833e+06</td>\n",
       "    </tr>\n",
       "    <tr>\n",
       "      <th>std</th>\n",
       "      <td>NaN</td>\n",
       "      <td>NaN</td>\n",
       "      <td>NaN</td>\n",
       "      <td>NaN</td>\n",
       "      <td>NaN</td>\n",
       "      <td>NaN</td>\n",
       "      <td>NaN</td>\n",
       "      <td>NaN</td>\n",
       "      <td>NaN</td>\n",
       "      <td>NaN</td>\n",
       "      <td>NaN</td>\n",
       "      <td>NaN</td>\n",
       "      <td>NaN</td>\n",
       "      <td>NaN</td>\n",
       "      <td>NaN</td>\n",
       "      <td>NaN</td>\n",
       "      <td>NaN</td>\n",
       "      <td>9.645244e+05</td>\n",
       "    </tr>\n",
       "    <tr>\n",
       "      <th>min</th>\n",
       "      <td>NaN</td>\n",
       "      <td>NaN</td>\n",
       "      <td>NaN</td>\n",
       "      <td>NaN</td>\n",
       "      <td>NaN</td>\n",
       "      <td>NaN</td>\n",
       "      <td>NaN</td>\n",
       "      <td>NaN</td>\n",
       "      <td>NaN</td>\n",
       "      <td>NaN</td>\n",
       "      <td>NaN</td>\n",
       "      <td>NaN</td>\n",
       "      <td>NaN</td>\n",
       "      <td>NaN</td>\n",
       "      <td>NaN</td>\n",
       "      <td>NaN</td>\n",
       "      <td>NaN</td>\n",
       "      <td>1.600000e+01</td>\n",
       "    </tr>\n",
       "    <tr>\n",
       "      <th>25%</th>\n",
       "      <td>NaN</td>\n",
       "      <td>NaN</td>\n",
       "      <td>NaN</td>\n",
       "      <td>NaN</td>\n",
       "      <td>NaN</td>\n",
       "      <td>NaN</td>\n",
       "      <td>NaN</td>\n",
       "      <td>NaN</td>\n",
       "      <td>NaN</td>\n",
       "      <td>NaN</td>\n",
       "      <td>NaN</td>\n",
       "      <td>NaN</td>\n",
       "      <td>NaN</td>\n",
       "      <td>NaN</td>\n",
       "      <td>NaN</td>\n",
       "      <td>NaN</td>\n",
       "      <td>NaN</td>\n",
       "      <td>1.124124e+06</td>\n",
       "    </tr>\n",
       "    <tr>\n",
       "      <th>50%</th>\n",
       "      <td>NaN</td>\n",
       "      <td>NaN</td>\n",
       "      <td>NaN</td>\n",
       "      <td>NaN</td>\n",
       "      <td>NaN</td>\n",
       "      <td>NaN</td>\n",
       "      <td>NaN</td>\n",
       "      <td>NaN</td>\n",
       "      <td>NaN</td>\n",
       "      <td>NaN</td>\n",
       "      <td>NaN</td>\n",
       "      <td>NaN</td>\n",
       "      <td>NaN</td>\n",
       "      <td>NaN</td>\n",
       "      <td>NaN</td>\n",
       "      <td>NaN</td>\n",
       "      <td>NaN</td>\n",
       "      <td>2.123204e+06</td>\n",
       "    </tr>\n",
       "    <tr>\n",
       "      <th>75%</th>\n",
       "      <td>NaN</td>\n",
       "      <td>NaN</td>\n",
       "      <td>NaN</td>\n",
       "      <td>NaN</td>\n",
       "      <td>NaN</td>\n",
       "      <td>NaN</td>\n",
       "      <td>NaN</td>\n",
       "      <td>NaN</td>\n",
       "      <td>NaN</td>\n",
       "      <td>NaN</td>\n",
       "      <td>NaN</td>\n",
       "      <td>NaN</td>\n",
       "      <td>NaN</td>\n",
       "      <td>NaN</td>\n",
       "      <td>NaN</td>\n",
       "      <td>NaN</td>\n",
       "      <td>NaN</td>\n",
       "      <td>2.798915e+06</td>\n",
       "    </tr>\n",
       "    <tr>\n",
       "      <th>max</th>\n",
       "      <td>NaN</td>\n",
       "      <td>NaN</td>\n",
       "      <td>NaN</td>\n",
       "      <td>NaN</td>\n",
       "      <td>NaN</td>\n",
       "      <td>NaN</td>\n",
       "      <td>NaN</td>\n",
       "      <td>NaN</td>\n",
       "      <td>NaN</td>\n",
       "      <td>NaN</td>\n",
       "      <td>NaN</td>\n",
       "      <td>NaN</td>\n",
       "      <td>NaN</td>\n",
       "      <td>NaN</td>\n",
       "      <td>NaN</td>\n",
       "      <td>NaN</td>\n",
       "      <td>NaN</td>\n",
       "      <td>3.238682e+06</td>\n",
       "    </tr>\n",
       "  </tbody>\n",
       "</table>\n",
       "</div>"
      ],
      "text/plain": [
       "       Date received   Product  ... Consumer disputed?  Complaint ID\n",
       "count         320589    320589  ...             192125  3.205890e+05\n",
       "unique          2717        18  ...                  2           NaN\n",
       "top       09/08/2017  Mortgage  ...                 No           NaN\n",
       "freq             888     69084  ...             155296           NaN\n",
       "mean             NaN       NaN  ...                NaN  1.929833e+06\n",
       "std              NaN       NaN  ...                NaN  9.645244e+05\n",
       "min              NaN       NaN  ...                NaN  1.600000e+01\n",
       "25%              NaN       NaN  ...                NaN  1.124124e+06\n",
       "50%              NaN       NaN  ...                NaN  2.123204e+06\n",
       "75%              NaN       NaN  ...                NaN  2.798915e+06\n",
       "max              NaN       NaN  ...                NaN  3.238682e+06\n",
       "\n",
       "[11 rows x 18 columns]"
      ]
     },
     "execution_count": 14,
     "metadata": {
      "tags": []
     },
     "output_type": "execute_result"
    }
   ],
   "source": [
    "data_raw.describe(include='all')"
   ]
  },
  {
   "cell_type": "markdown",
   "metadata": {
    "id": "8gyuUIOvxdMd",
    "colab_type": "text"
   },
   "source": [
    "По данной таблице видно, что практически все признаки являются категориальными. Числовой признак **Complaint ID**, для которого рассчитаны среднее, разброс и т.д., не влияет на классификацию данных, поскольку он является уникальным идентификатором каждого клиента, и по большому счету его можно исключить."
   ]
  },
  {
   "cell_type": "code",
   "execution_count": 15,
   "metadata": {
    "id": "VYPutv8M1nyS",
    "colab_type": "code",
    "colab": {}
   },
   "outputs": [],
   "source": [
    "data_raw = data_raw.drop('Complaint ID', axis = 1)"
   ]
  },
  {
   "cell_type": "markdown",
   "metadata": {
    "id": "NNrRhnAq_2Pp",
    "colab_type": "text"
   },
   "source": [
    "Также можно исключить столбец **Date sent to company**, поскольку он практически повторяет значения столбца **Date received**."
   ]
  },
  {
   "cell_type": "code",
   "execution_count": 16,
   "metadata": {
    "id": "6eE7tyyuB3WX",
    "colab_type": "code",
    "colab": {}
   },
   "outputs": [],
   "source": [
    "data_raw = data_raw.drop('Date sent to company', axis = 1)"
   ]
  },
  {
   "cell_type": "code",
   "execution_count": 17,
   "metadata": {
    "id": "U5o3SwM5u8O7",
    "colab_type": "code",
    "colab": {
     "base_uri": "https://localhost:8080/",
     "height": 300.0
    },
    "outputId": "f1a5fa49-b906-4975-f89e-a9c9cc464d5e"
   },
   "outputs": [
    {
     "data": {
      "text/html": [
       "<div>\n",
       "<style scoped>\n",
       "    .dataframe tbody tr th:only-of-type {\n",
       "        vertical-align: middle;\n",
       "    }\n",
       "\n",
       "    .dataframe tbody tr th {\n",
       "        vertical-align: top;\n",
       "    }\n",
       "\n",
       "    .dataframe thead th {\n",
       "        text-align: right;\n",
       "    }\n",
       "</style>\n",
       "<table border=\"1\" class=\"dataframe\">\n",
       "  <thead>\n",
       "    <tr style=\"text-align: right;\">\n",
       "      <th></th>\n",
       "      <th>Date received</th>\n",
       "      <th>Product</th>\n",
       "      <th>Sub-product</th>\n",
       "      <th>Issue</th>\n",
       "      <th>Sub-issue</th>\n",
       "      <th>Consumer complaint narrative</th>\n",
       "      <th>Company public response</th>\n",
       "      <th>Company</th>\n",
       "      <th>State</th>\n",
       "      <th>ZIP code</th>\n",
       "      <th>Tags</th>\n",
       "      <th>Consumer consent provided?</th>\n",
       "      <th>Submitted via</th>\n",
       "      <th>Company response to consumer</th>\n",
       "      <th>Timely response?</th>\n",
       "      <th>Consumer disputed?</th>\n",
       "    </tr>\n",
       "  </thead>\n",
       "  <tbody>\n",
       "    <tr>\n",
       "      <th>count</th>\n",
       "      <td>320589</td>\n",
       "      <td>320589</td>\n",
       "      <td>261841</td>\n",
       "      <td>320589</td>\n",
       "      <td>187704</td>\n",
       "      <td>96189</td>\n",
       "      <td>112593</td>\n",
       "      <td>320589</td>\n",
       "      <td>315734</td>\n",
       "      <td>291569</td>\n",
       "      <td>43991</td>\n",
       "      <td>172648</td>\n",
       "      <td>320589</td>\n",
       "      <td>320588</td>\n",
       "      <td>320589</td>\n",
       "      <td>192125</td>\n",
       "    </tr>\n",
       "    <tr>\n",
       "      <th>unique</th>\n",
       "      <td>2717</td>\n",
       "      <td>18</td>\n",
       "      <td>76</td>\n",
       "      <td>164</td>\n",
       "      <td>215</td>\n",
       "      <td>94398</td>\n",
       "      <td>10</td>\n",
       "      <td>3755</td>\n",
       "      <td>63</td>\n",
       "      <td>15131</td>\n",
       "      <td>3</td>\n",
       "      <td>4</td>\n",
       "      <td>6</td>\n",
       "      <td>8</td>\n",
       "      <td>2</td>\n",
       "      <td>2</td>\n",
       "    </tr>\n",
       "    <tr>\n",
       "      <th>top</th>\n",
       "      <td>09/08/2017</td>\n",
       "      <td>Mortgage</td>\n",
       "      <td>Credit reporting</td>\n",
       "      <td>Incorrect information on your report</td>\n",
       "      <td>Information belongs to someone else</td>\n",
       "      <td>There are many mistakes appear in my report wi...</td>\n",
       "      <td>Company has responded to the consumer and the ...</td>\n",
       "      <td>EQUIFAX, INC.</td>\n",
       "      <td>CA</td>\n",
       "      <td>300XX</td>\n",
       "      <td>Servicemember</td>\n",
       "      <td>Consent provided</td>\n",
       "      <td>Web</td>\n",
       "      <td>Closed with explanation</td>\n",
       "      <td>Yes</td>\n",
       "      <td>No</td>\n",
       "    </tr>\n",
       "    <tr>\n",
       "      <th>freq</th>\n",
       "      <td>888</td>\n",
       "      <td>69084</td>\n",
       "      <td>55375</td>\n",
       "      <td>33534</td>\n",
       "      <td>14655</td>\n",
       "      <td>235</td>\n",
       "      <td>78245</td>\n",
       "      <td>28538</td>\n",
       "      <td>43853</td>\n",
       "      <td>1874</td>\n",
       "      <td>21178</td>\n",
       "      <td>96263</td>\n",
       "      <td>236272</td>\n",
       "      <td>248222</td>\n",
       "      <td>312560</td>\n",
       "      <td>155296</td>\n",
       "    </tr>\n",
       "  </tbody>\n",
       "</table>\n",
       "</div>"
      ],
      "text/plain": [
       "       Date received   Product  ... Timely response? Consumer disputed?\n",
       "count         320589    320589  ...           320589             192125\n",
       "unique          2717        18  ...                2                  2\n",
       "top       09/08/2017  Mortgage  ...              Yes                 No\n",
       "freq             888     69084  ...           312560             155296\n",
       "\n",
       "[4 rows x 16 columns]"
      ]
     },
     "execution_count": 17,
     "metadata": {
      "tags": []
     },
     "output_type": "execute_result"
    }
   ],
   "source": [
    "data_raw.describe(include='all')"
   ]
  },
  {
   "cell_type": "markdown",
   "metadata": {
    "id": "0ef625Ec--mB",
    "colab_type": "text"
   },
   "source": [
    "Посмотрим на категориальные признаки."
   ]
  },
  {
   "cell_type": "code",
   "execution_count": 18,
   "metadata": {
    "id": "GW8WUeqU_Oui",
    "colab_type": "code",
    "colab": {
     "base_uri": "https://localhost:8080/",
     "height": 434.0
    },
    "outputId": "6cea4d1c-3506-46ad-fc8f-d4df57d4413b"
   },
   "outputs": [
    {
     "name": "stderr",
     "output_type": "stream",
     "text": [
      "/usr/local/lib/python3.6/dist-packages/seaborn/axisgrid.py:856: UserWarning: Tight layout not applied. The left and right margins cannot be made large enough to accommodate all axes decorations. \n",
      "  self.fig.tight_layout()\n"
     ]
    },
    {
     "data": {
      "image/png": "[encoded data removed]",
      "text/plain": [
       "<Figure size 360x360 with 1 Axes>"
      ]
     },
     "metadata": {
      "tags": [],
      "needs_background": "light"
     },
     "output_type": "display_data"
    }
   ],
   "source": [
    "sns.catplot(kind=\"count\", y = \"Product\", data = data_raw)\n",
    "pass"
   ]
  },
  {
   "cell_type": "markdown",
   "metadata": {
    "id": "CAHbfZa6oLJZ",
    "colab_type": "text"
   },
   "source": [
    "Как видно, классы несбалансированы. Большинство жалоб относятся к **Mortage**, **Debt collection** и **Credit reporting, credit repair services, or other personal consumer reports**."
   ]
  },
  {
   "cell_type": "code",
   "execution_count": 19,
   "metadata": {
    "id": "-JQ2QvFc_bXn",
    "colab_type": "code",
    "colab": {
     "base_uri": "https://localhost:8080/",
     "height": 383.0
    },
    "outputId": "cb75ba6f-3c8c-43a7-cb58-2c6ce6e129fd"
   },
   "outputs": [
    {
     "data": {
      "image/png": "[encoded data removed]",
      "text/plain": [
       "<Figure size 360x360 with 1 Axes>"
      ]
     },
     "metadata": {
      "tags": [],
      "needs_background": "light"
     },
     "output_type": "display_data"
    }
   ],
   "source": [
    "sns.catplot(kind=\"count\", y = \"Submitted via\", data = data_raw)\n",
    "pass"
   ]
  },
  {
   "cell_type": "code",
   "execution_count": 20,
   "metadata": {
    "id": "0ZBO8cGG_xY0",
    "colab_type": "code",
    "colab": {
     "base_uri": "https://localhost:8080/",
     "height": 434.0
    },
    "outputId": "9639650e-671b-455b-cdeb-b77a7a5a3db5"
   },
   "outputs": [
    {
     "name": "stderr",
     "output_type": "stream",
     "text": [
      "/usr/local/lib/python3.6/dist-packages/seaborn/axisgrid.py:856: UserWarning: Tight layout not applied. The left and right margins cannot be made large enough to accommodate all axes decorations. \n",
      "  self.fig.tight_layout()\n"
     ]
    },
    {
     "data": {
      "image/png": "[encoded data removed]",
      "text/plain": [
       "<Figure size 360x360 with 1 Axes>"
      ]
     },
     "metadata": {
      "tags": [],
      "needs_background": "light"
     },
     "output_type": "display_data"
    }
   ],
   "source": [
    "sns.catplot(kind=\"count\", y = \"Company public response\", data = data_raw)\n",
    "pass"
   ]
  },
  {
   "cell_type": "code",
   "execution_count": 21,
   "metadata": {
    "id": "jBVAQoz5_lW7",
    "colab_type": "code",
    "colab": {
     "base_uri": "https://localhost:8080/",
     "height": 383.0
    },
    "outputId": "32cbf35c-690e-44e5-c0e0-828143695bb9"
   },
   "outputs": [
    {
     "data": {
      "image/png": "[encoded data removed]",
      "text/plain": [
       "<Figure size 360x360 with 1 Axes>"
      ]
     },
     "metadata": {
      "tags": [],
      "needs_background": "light"
     },
     "output_type": "display_data"
    }
   ],
   "source": [
    "sns.catplot(kind=\"count\", y = \"Timely response?\", data = data_raw)\n",
    "pass"
   ]
  },
  {
   "cell_type": "code",
   "execution_count": 22,
   "metadata": {
    "id": "pE-368KW_7XD",
    "colab_type": "code",
    "colab": {
     "base_uri": "https://localhost:8080/",
     "height": 383.0
    },
    "outputId": "09b3ddbd-ec70-48b0-c422-f79434311087"
   },
   "outputs": [
    {
     "data": {
      "image/png": "[encoded data removed]",
      "text/plain": [
       "<Figure size 360x360 with 1 Axes>"
      ]
     },
     "metadata": {
      "tags": [],
      "needs_background": "light"
     },
     "output_type": "display_data"
    }
   ],
   "source": [
    "sns.catplot(kind=\"count\", y = \"Consumer disputed?\", data = data_raw)\n",
    "pass"
   ]
  },
  {
   "cell_type": "markdown",
   "metadata": {
    "id": "Xucx2Hl447w2",
    "colab_type": "text"
   },
   "source": [
    "## 3. Обработка пропущенных значений"
   ]
  },
  {
   "cell_type": "markdown",
   "metadata": {
    "id": "hbXmIga_5XJj",
    "colab_type": "text"
   },
   "source": [
    "Как было видно из описания таблицы, в некоторых столбцах присутствуют пропущенные значения. Поскольку оставшиеся признаки являются категориальными, пропущенные значения можно заполнить самым популярным значением в столбце."
   ]
  },
  {
   "cell_type": "code",
   "execution_count": 23,
   "metadata": {
    "id": "ZVOdJF2yvJGP",
    "colab_type": "code",
    "colab": {
     "base_uri": "https://localhost:8080/",
     "height": 316.0
    },
    "outputId": "beec5dce-706c-48ad-94a6-d5a4c759f493"
   },
   "outputs": [
    {
     "data": {
      "text/plain": [
       "Date received                   320589\n",
       "Product                         320589\n",
       "Sub-product                     261841\n",
       "Issue                           320589\n",
       "Sub-issue                       187704\n",
       "Consumer complaint narrative     96189\n",
       "Company public response         112593\n",
       "Company                         320589\n",
       "State                           315734\n",
       "ZIP code                        291569\n",
       "Tags                             43991\n",
       "Consumer consent provided?      172648\n",
       "Submitted via                   320589\n",
       "Company response to consumer    320588\n",
       "Timely response?                320589\n",
       "Consumer disputed?              192125\n",
       "dtype: int64"
      ]
     },
     "execution_count": 23,
     "metadata": {
      "tags": []
     },
     "output_type": "execute_result"
    }
   ],
   "source": [
    "data_raw[data_raw.columns].count(axis=0)"
   ]
  },
  {
   "cell_type": "markdown",
   "metadata": {
    "id": "OqhJVYBBEsJi",
    "colab_type": "text"
   },
   "source": [
    "Пропущенные значения имеются в столбцах: **Sub-product**, **Sub-issue**, **Consumer complaint narrative**, **Company public response**, **State**, **ZIP code**,**Tags**, **Consumer consent provided?**, **Company response to consumer**, **Consumer disputed?**."
   ]
  },
  {
   "cell_type": "code",
   "execution_count": 24,
   "metadata": {
    "id": "m59crmmMGthP",
    "colab_type": "code",
    "colab": {
     "base_uri": "https://localhost:8080/",
     "height": 36.0
    },
    "outputId": "9eb6dde8-e5ba-4ccb-b544-f32495183408"
   },
   "outputs": [
    {
     "data": {
      "text/plain": [
       "'Information belongs to someone else'"
      ]
     },
     "execution_count": 24,
     "metadata": {
      "tags": []
     },
     "output_type": "execute_result"
    }
   ],
   "source": [
    "data_raw['Sub-issue'].describe()['top']"
   ]
  },
  {
   "cell_type": "code",
   "execution_count": 25,
   "metadata": {
    "id": "dSX0XJ7UJE3n",
    "colab_type": "code",
    "colab": {}
   },
   "outputs": [],
   "source": [
    "data_fill = data_raw.copy(deep=True)"
   ]
  },
  {
   "cell_type": "code",
   "execution_count": 26,
   "metadata": {
    "id": "H-uepPZzJLBa",
    "colab_type": "code",
    "colab": {}
   },
   "outputs": [],
   "source": [
    "data_describe = data_fill.describe(include = 'object')\n",
    "for c in data_fill.columns:\n",
    "    data_fill[c] = data_fill[c].fillna(data_describe[c]['top'])"
   ]
  },
  {
   "cell_type": "code",
   "execution_count": 28,
   "metadata": {
    "id": "F8F6hsxyvgb0",
    "colab_type": "code",
    "colab": {
     "base_uri": "https://localhost:8080/",
     "height": 300.0
    },
    "outputId": "e6e0488d-62c3-43c1-ea4a-470daff6e869"
   },
   "outputs": [
    {
     "data": {
      "text/html": [
       "<div>\n",
       "<style scoped>\n",
       "    .dataframe tbody tr th:only-of-type {\n",
       "        vertical-align: middle;\n",
       "    }\n",
       "\n",
       "    .dataframe tbody tr th {\n",
       "        vertical-align: top;\n",
       "    }\n",
       "\n",
       "    .dataframe thead th {\n",
       "        text-align: right;\n",
       "    }\n",
       "</style>\n",
       "<table border=\"1\" class=\"dataframe\">\n",
       "  <thead>\n",
       "    <tr style=\"text-align: right;\">\n",
       "      <th></th>\n",
       "      <th>Date received</th>\n",
       "      <th>Product</th>\n",
       "      <th>Sub-product</th>\n",
       "      <th>Issue</th>\n",
       "      <th>Sub-issue</th>\n",
       "      <th>Consumer complaint narrative</th>\n",
       "      <th>Company public response</th>\n",
       "      <th>Company</th>\n",
       "      <th>State</th>\n",
       "      <th>ZIP code</th>\n",
       "      <th>Tags</th>\n",
       "      <th>Consumer consent provided?</th>\n",
       "      <th>Submitted via</th>\n",
       "      <th>Company response to consumer</th>\n",
       "      <th>Timely response?</th>\n",
       "      <th>Consumer disputed?</th>\n",
       "    </tr>\n",
       "  </thead>\n",
       "  <tbody>\n",
       "    <tr>\n",
       "      <th>count</th>\n",
       "      <td>320589</td>\n",
       "      <td>320589</td>\n",
       "      <td>320589</td>\n",
       "      <td>320589</td>\n",
       "      <td>320589</td>\n",
       "      <td>320589</td>\n",
       "      <td>320589</td>\n",
       "      <td>320589</td>\n",
       "      <td>320589</td>\n",
       "      <td>320589</td>\n",
       "      <td>320589</td>\n",
       "      <td>320589</td>\n",
       "      <td>320589</td>\n",
       "      <td>320589</td>\n",
       "      <td>320589</td>\n",
       "      <td>320589</td>\n",
       "    </tr>\n",
       "    <tr>\n",
       "      <th>unique</th>\n",
       "      <td>2717</td>\n",
       "      <td>18</td>\n",
       "      <td>76</td>\n",
       "      <td>164</td>\n",
       "      <td>215</td>\n",
       "      <td>94398</td>\n",
       "      <td>10</td>\n",
       "      <td>3755</td>\n",
       "      <td>63</td>\n",
       "      <td>15131</td>\n",
       "      <td>3</td>\n",
       "      <td>4</td>\n",
       "      <td>6</td>\n",
       "      <td>8</td>\n",
       "      <td>2</td>\n",
       "      <td>2</td>\n",
       "    </tr>\n",
       "    <tr>\n",
       "      <th>top</th>\n",
       "      <td>09/08/2017</td>\n",
       "      <td>Mortgage</td>\n",
       "      <td>Credit reporting</td>\n",
       "      <td>Incorrect information on your report</td>\n",
       "      <td>Information belongs to someone else</td>\n",
       "      <td>There are many mistakes appear in my report wi...</td>\n",
       "      <td>Company has responded to the consumer and the ...</td>\n",
       "      <td>EQUIFAX, INC.</td>\n",
       "      <td>CA</td>\n",
       "      <td>300XX</td>\n",
       "      <td>Servicemember</td>\n",
       "      <td>Consent provided</td>\n",
       "      <td>Web</td>\n",
       "      <td>Closed with explanation</td>\n",
       "      <td>Yes</td>\n",
       "      <td>No</td>\n",
       "    </tr>\n",
       "    <tr>\n",
       "      <th>freq</th>\n",
       "      <td>888</td>\n",
       "      <td>69084</td>\n",
       "      <td>114123</td>\n",
       "      <td>33534</td>\n",
       "      <td>147540</td>\n",
       "      <td>224635</td>\n",
       "      <td>286241</td>\n",
       "      <td>28538</td>\n",
       "      <td>48708</td>\n",
       "      <td>30894</td>\n",
       "      <td>297776</td>\n",
       "      <td>244204</td>\n",
       "      <td>236272</td>\n",
       "      <td>248223</td>\n",
       "      <td>312560</td>\n",
       "      <td>283760</td>\n",
       "    </tr>\n",
       "  </tbody>\n",
       "</table>\n",
       "</div>"
      ],
      "text/plain": [
       "       Date received   Product  ... Timely response? Consumer disputed?\n",
       "count         320589    320589  ...           320589             320589\n",
       "unique          2717        18  ...                2                  2\n",
       "top       09/08/2017  Mortgage  ...              Yes                 No\n",
       "freq             888     69084  ...           312560             283760\n",
       "\n",
       "[4 rows x 16 columns]"
      ]
     },
     "execution_count": 28,
     "metadata": {
      "tags": []
     },
     "output_type": "execute_result"
    }
   ],
   "source": [
    "data_fill.describe()"
   ]
  },
  {
   "cell_type": "code",
   "execution_count": 29,
   "metadata": {
    "id": "99mfrZzKLOL-",
    "colab_type": "code",
    "colab": {
     "base_uri": "https://localhost:8080/",
     "height": 316.0
    },
    "outputId": "02b69ed6-58f4-4764-b82a-ef5c343ed6eb"
   },
   "outputs": [
    {
     "data": {
      "text/plain": [
       "Date received                   320589\n",
       "Product                         320589\n",
       "Sub-product                     320589\n",
       "Issue                           320589\n",
       "Sub-issue                       320589\n",
       "Consumer complaint narrative    320589\n",
       "Company public response         320589\n",
       "Company                         320589\n",
       "State                           320589\n",
       "ZIP code                        320589\n",
       "Tags                            320589\n",
       "Consumer consent provided?      320589\n",
       "Submitted via                   320589\n",
       "Company response to consumer    320589\n",
       "Timely response?                320589\n",
       "Consumer disputed?              320589\n",
       "dtype: int64"
      ]
     },
     "execution_count": 29,
     "metadata": {
      "tags": []
     },
     "output_type": "execute_result"
    }
   ],
   "source": [
    "data_fill[data_fill.columns].count(axis=0)"
   ]
  },
  {
   "cell_type": "markdown",
   "metadata": {
    "id": "68jocLNxK_g3",
    "colab_type": "text"
   },
   "source": [
    "## 4. Обработка категориальных признаков"
   ]
  },
  {
   "cell_type": "markdown",
   "metadata": {
    "id": "YzjpV76bMKf7",
    "colab_type": "text"
   },
   "source": [
    "Для начала обработаем столбцы с *бинарными* признаками. В нашем случае это **Timely response?** и **Consumer disputed?**."
   ]
  },
  {
   "cell_type": "code",
   "execution_count": 30,
   "metadata": {
    "id": "gL0H2zuUMJpY",
    "colab_type": "code",
    "colab": {
     "base_uri": "https://localhost:8080/",
     "height": 34.0
    },
    "outputId": "711da2e9-9343-43e8-96e6-4ab13f969cc3"
   },
   "outputs": [
    {
     "name": "stdout",
     "output_type": "stream",
     "text": [
      "['Timely response?', 'Consumer disputed?']\n"
     ]
    }
   ],
   "source": [
    "binary_columns    = [c for c in data_fill.columns if data_describe[c]['unique'] == 2]\n",
    "print(binary_columns)"
   ]
  },
  {
   "cell_type": "code",
   "execution_count": 31,
   "metadata": {
    "id": "oeMVTXUdvj3f",
    "colab_type": "code",
    "colab": {
     "base_uri": "https://localhost:8080/",
     "height": 34.0
    },
    "outputId": "93c8262d-f593-405b-80e2-847e2debcbed"
   },
   "outputs": [
    {
     "data": {
      "text/plain": [
       "array(['Yes', 'No'], dtype=object)"
      ]
     },
     "execution_count": 31,
     "metadata": {
      "tags": []
     },
     "output_type": "execute_result"
    }
   ],
   "source": [
    "data_fill['Timely response?'].unique()"
   ]
  },
  {
   "cell_type": "code",
   "execution_count": 32,
   "metadata": {
    "id": "mbrSENL6vo-U",
    "colab_type": "code",
    "colab": {
     "base_uri": "https://localhost:8080/",
     "height": 105.0
    },
    "outputId": "23fc48b8-90d2-48c6-ac34-07b553a20eb7"
   },
   "outputs": [
    {
     "data": {
      "text/plain": [
       "count     320589\n",
       "unique         2\n",
       "top            1\n",
       "freq      312560\n",
       "Name: Timely response?, dtype: int64"
      ]
     },
     "execution_count": 32,
     "metadata": {
      "tags": []
     },
     "output_type": "execute_result"
    }
   ],
   "source": [
    "data_fill.at[data_fill['Timely response?'] == 'No', 'Timely response?'] = 0\n",
    "data_fill.at[data_fill['Timely response?'] == 'Yes', 'Timely response?'] = 1\n",
    "data_fill['Timely response?'].describe()"
   ]
  },
  {
   "cell_type": "code",
   "execution_count": 33,
   "metadata": {
    "id": "KuSC97IhOPXK",
    "colab_type": "code",
    "colab": {
     "base_uri": "https://localhost:8080/",
     "height": 34.0
    },
    "outputId": "d31e47e5-079f-4467-fd40-b3038103ee7b"
   },
   "outputs": [
    {
     "data": {
      "text/plain": [
       "array(['No', 'Yes'], dtype=object)"
      ]
     },
     "execution_count": 33,
     "metadata": {
      "tags": []
     },
     "output_type": "execute_result"
    }
   ],
   "source": [
    "data_fill['Consumer disputed?'].unique()"
   ]
  },
  {
   "cell_type": "code",
   "execution_count": 34,
   "metadata": {
    "id": "3h0QANdsQaiI",
    "colab_type": "code",
    "colab": {
     "base_uri": "https://localhost:8080/",
     "height": 105.0
    },
    "outputId": "50df2206-09af-4684-d331-35e48d2b7d5d"
   },
   "outputs": [
    {
     "data": {
      "text/plain": [
       "count     320589\n",
       "unique         2\n",
       "top            0\n",
       "freq      283760\n",
       "Name: Consumer disputed?, dtype: int64"
      ]
     },
     "execution_count": 34,
     "metadata": {
      "tags": []
     },
     "output_type": "execute_result"
    }
   ],
   "source": [
    "data_fill.at[data_fill['Consumer disputed?'] == 'No', 'Consumer disputed?'] = 0\n",
    "data_fill.at[data_fill['Consumer disputed?'] == 'Yes', 'Consumer disputed?'] = 1\n",
    "data_fill['Consumer disputed?'].describe()"
   ]
  },
  {
   "cell_type": "markdown",
   "metadata": {
    "id": "q5xKfAGFRCPV",
    "colab_type": "text"
   },
   "source": [
    "Для *небинарных* признаков применим метод *векторизации*, а именно метод `get_dummies` из Pandas."
   ]
  },
  {
   "cell_type": "markdown",
   "metadata": {
    "id": "s8UmRaceSlrW",
    "colab_type": "text"
   },
   "source": [
    "Но перед этим исключим из рассмотрения столбцы **Consumer complaint narrative**, **Date received**, **Company** и **ZIP code**, поскольку у них слишком много уникальных значений."
   ]
  },
  {
   "cell_type": "code",
   "execution_count": 35,
   "metadata": {
    "id": "WgseKdCFSHi9",
    "colab_type": "code",
    "colab": {
     "base_uri": "https://localhost:8080/",
     "height": 34.0
    },
    "outputId": "2908630f-ffde-4ab5-970e-d82263340d09"
   },
   "outputs": [
    {
     "data": {
      "text/plain": [
       "94398"
      ]
     },
     "execution_count": 35,
     "metadata": {
      "tags": []
     },
     "output_type": "execute_result"
    }
   ],
   "source": [
    "len(data_fill['Consumer complaint narrative'].unique())"
   ]
  },
  {
   "cell_type": "code",
   "execution_count": 36,
   "metadata": {
    "id": "8cz7hYshTG4d",
    "colab_type": "code",
    "colab": {
     "base_uri": "https://localhost:8080/",
     "height": 34.0
    },
    "outputId": "aad4d3bd-ed37-46c9-b2d3-2d6be933fae8"
   },
   "outputs": [
    {
     "data": {
      "text/plain": [
       "15131"
      ]
     },
     "execution_count": 36,
     "metadata": {
      "tags": []
     },
     "output_type": "execute_result"
    }
   ],
   "source": [
    "len(data_fill['ZIP code'].unique())"
   ]
  },
  {
   "cell_type": "code",
   "execution_count": 37,
   "metadata": {
    "id": "YZVYhJV0WO21",
    "colab_type": "code",
    "colab": {
     "base_uri": "https://localhost:8080/",
     "height": 34.0
    },
    "outputId": "7fb37627-adf1-460a-9b28-96fca06ea9b2"
   },
   "outputs": [
    {
     "data": {
      "text/plain": [
       "2717"
      ]
     },
     "execution_count": 37,
     "metadata": {
      "tags": []
     },
     "output_type": "execute_result"
    }
   ],
   "source": [
    "len(data_fill['Date received'].unique())"
   ]
  },
  {
   "cell_type": "code",
   "execution_count": 38,
   "metadata": {
    "id": "xYp2KAjqWOaY",
    "colab_type": "code",
    "colab": {
     "base_uri": "https://localhost:8080/",
     "height": 34.0
    },
    "outputId": "1752712a-0870-41ea-bbb5-745fff3301ef"
   },
   "outputs": [
    {
     "data": {
      "text/plain": [
       "3755"
      ]
     },
     "execution_count": 38,
     "metadata": {
      "tags": []
     },
     "output_type": "execute_result"
    }
   ],
   "source": [
    "len(data_fill['Company'].unique())"
   ]
  },
  {
   "cell_type": "code",
   "execution_count": 39,
   "metadata": {
    "id": "npWDn75zTdyL",
    "colab_type": "code",
    "colab": {}
   },
   "outputs": [],
   "source": [
    "data_excl = data_fill.drop(['Consumer complaint narrative', 'ZIP code', 'Date received', 'Company', 'Sub-issue', 'State'], axis = 1)"
   ]
  },
  {
   "cell_type": "code",
   "execution_count": 40,
   "metadata": {
    "id": "7ou2S2P3UKMt",
    "colab_type": "code",
    "colab": {
     "base_uri": "https://localhost:8080/",
     "height": 34.0
    },
    "outputId": "61f69879-dc53-4671-c2bc-5500689af80a"
   },
   "outputs": [
    {
     "name": "stdout",
     "output_type": "stream",
     "text": [
      "['Sub-product', 'Issue', 'Company public response', 'Tags', 'Consumer consent provided?', 'Submitted via', 'Company response to consumer']\n"
     ]
    }
   ],
   "source": [
    "nonbinary_columns = [c for c in data_excl.columns if data_describe[c]['unique'] > 2]\n",
    "nonbinary_columns.remove('Product')\n",
    "print(nonbinary_columns)"
   ]
  },
  {
   "cell_type": "code",
   "execution_count": 41,
   "metadata": {
    "id": "SMQ6FP4kUWf9",
    "colab_type": "code",
    "colab": {
     "base_uri": "https://localhost:8080/",
     "height": 586.0
    },
    "outputId": "e1eece3c-3730-479c-c946-1f0db84c1fd8"
   },
   "outputs": [
    {
     "data": {
      "text/html": [
       "<div>\n",
       "<style scoped>\n",
       "    .dataframe tbody tr th:only-of-type {\n",
       "        vertical-align: middle;\n",
       "    }\n",
       "\n",
       "    .dataframe tbody tr th {\n",
       "        vertical-align: top;\n",
       "    }\n",
       "\n",
       "    .dataframe thead th {\n",
       "        text-align: right;\n",
       "    }\n",
       "</style>\n",
       "<table border=\"1\" class=\"dataframe\">\n",
       "  <thead>\n",
       "    <tr style=\"text-align: right;\">\n",
       "      <th></th>\n",
       "      <th>Sub-product</th>\n",
       "      <th>Issue</th>\n",
       "      <th>Company public response</th>\n",
       "      <th>Tags</th>\n",
       "      <th>Consumer consent provided?</th>\n",
       "      <th>Submitted via</th>\n",
       "      <th>Company response to consumer</th>\n",
       "    </tr>\n",
       "  </thead>\n",
       "  <tbody>\n",
       "    <tr>\n",
       "      <th>0</th>\n",
       "      <td>Checking account</td>\n",
       "      <td>Managing an account</td>\n",
       "      <td>Company has responded to the consumer and the ...</td>\n",
       "      <td>Older American</td>\n",
       "      <td>Consent provided</td>\n",
       "      <td>Web</td>\n",
       "      <td>In progress</td>\n",
       "    </tr>\n",
       "    <tr>\n",
       "      <th>1</th>\n",
       "      <td>Checking account</td>\n",
       "      <td>Managing an account</td>\n",
       "      <td>Company has responded to the consumer and the ...</td>\n",
       "      <td>Servicemember</td>\n",
       "      <td>Consent provided</td>\n",
       "      <td>Postal mail</td>\n",
       "      <td>In progress</td>\n",
       "    </tr>\n",
       "    <tr>\n",
       "      <th>2</th>\n",
       "      <td>Other debt</td>\n",
       "      <td>Attempts to collect debt not owed</td>\n",
       "      <td>Company has responded to the consumer and the ...</td>\n",
       "      <td>Servicemember</td>\n",
       "      <td>Consent provided</td>\n",
       "      <td>Web</td>\n",
       "      <td>In progress</td>\n",
       "    </tr>\n",
       "    <tr>\n",
       "      <th>3</th>\n",
       "      <td>Payday loan debt</td>\n",
       "      <td>Attempts to collect debt not owed</td>\n",
       "      <td>Company has responded to the consumer and the ...</td>\n",
       "      <td>Servicemember</td>\n",
       "      <td>Consent provided</td>\n",
       "      <td>Web</td>\n",
       "      <td>Closed with explanation</td>\n",
       "    </tr>\n",
       "    <tr>\n",
       "      <th>4</th>\n",
       "      <td>Medical debt</td>\n",
       "      <td>Communication tactics</td>\n",
       "      <td>Company has responded to the consumer and the ...</td>\n",
       "      <td>Servicemember</td>\n",
       "      <td>Consent provided</td>\n",
       "      <td>Web</td>\n",
       "      <td>Closed with explanation</td>\n",
       "    </tr>\n",
       "    <tr>\n",
       "      <th>...</th>\n",
       "      <td>...</td>\n",
       "      <td>...</td>\n",
       "      <td>...</td>\n",
       "      <td>...</td>\n",
       "      <td>...</td>\n",
       "      <td>...</td>\n",
       "      <td>...</td>\n",
       "    </tr>\n",
       "    <tr>\n",
       "      <th>320584</th>\n",
       "      <td>Credit reporting</td>\n",
       "      <td>APR or interest rate</td>\n",
       "      <td>Company has responded to the consumer and the ...</td>\n",
       "      <td>Servicemember</td>\n",
       "      <td>Consent provided</td>\n",
       "      <td>Web</td>\n",
       "      <td>Closed without relief</td>\n",
       "    </tr>\n",
       "    <tr>\n",
       "      <th>320585</th>\n",
       "      <td>Home equity loan or line of credit</td>\n",
       "      <td>Loan servicing, payments, escrow account</td>\n",
       "      <td>Company has responded to the consumer and the ...</td>\n",
       "      <td>Servicemember</td>\n",
       "      <td>Consent provided</td>\n",
       "      <td>Phone</td>\n",
       "      <td>Closed without relief</td>\n",
       "    </tr>\n",
       "    <tr>\n",
       "      <th>320586</th>\n",
       "      <td>Conventional fixed mortgage</td>\n",
       "      <td>Loan servicing, payments, escrow account</td>\n",
       "      <td>Company has responded to the consumer and the ...</td>\n",
       "      <td>Servicemember</td>\n",
       "      <td>Consent provided</td>\n",
       "      <td>Web</td>\n",
       "      <td>Closed without relief</td>\n",
       "    </tr>\n",
       "    <tr>\n",
       "      <th>320587</th>\n",
       "      <td>Credit reporting</td>\n",
       "      <td>Balance transfer</td>\n",
       "      <td>Company has responded to the consumer and the ...</td>\n",
       "      <td>Servicemember</td>\n",
       "      <td>Consent provided</td>\n",
       "      <td>Referral</td>\n",
       "      <td>Closed with relief</td>\n",
       "    </tr>\n",
       "    <tr>\n",
       "      <th>320588</th>\n",
       "      <td>Credit reporting</td>\n",
       "      <td>Billing disputes</td>\n",
       "      <td>Company has responded to the consumer and the ...</td>\n",
       "      <td>Servicemember</td>\n",
       "      <td>Consent provided</td>\n",
       "      <td>Referral</td>\n",
       "      <td>Closed with relief</td>\n",
       "    </tr>\n",
       "  </tbody>\n",
       "</table>\n",
       "<p>320589 rows × 7 columns</p>\n",
       "</div>"
      ],
      "text/plain": [
       "                               Sub-product  ... Company response to consumer\n",
       "0                         Checking account  ...                  In progress\n",
       "1                         Checking account  ...                  In progress\n",
       "2                               Other debt  ...                  In progress\n",
       "3                         Payday loan debt  ...      Closed with explanation\n",
       "4                             Medical debt  ...      Closed with explanation\n",
       "...                                    ...  ...                          ...\n",
       "320584                    Credit reporting  ...        Closed without relief\n",
       "320585  Home equity loan or line of credit  ...        Closed without relief\n",
       "320586         Conventional fixed mortgage  ...        Closed without relief\n",
       "320587                    Credit reporting  ...           Closed with relief\n",
       "320588                    Credit reporting  ...           Closed with relief\n",
       "\n",
       "[320589 rows x 7 columns]"
      ]
     },
     "execution_count": 41,
     "metadata": {
      "tags": []
     },
     "output_type": "execute_result"
    }
   ],
   "source": [
    "data_excl[nonbinary_columns]"
   ]
  },
  {
   "cell_type": "code",
   "execution_count": 42,
   "metadata": {
    "id": "uhCMTsOZRhkW",
    "colab_type": "code",
    "colab": {}
   },
   "outputs": [],
   "source": [
    "data_nonbinary = pd.get_dummies(data_excl[nonbinary_columns])"
   ]
  },
  {
   "cell_type": "code",
   "execution_count": 43,
   "metadata": {
    "id": "aIkVt51LUgf1",
    "colab_type": "code",
    "colab": {
     "base_uri": "https://localhost:8080/",
     "height": 34.0
    },
    "outputId": "6e07ca92-0690-48f8-bae5-798b2e11a79e"
   },
   "outputs": [
    {
     "data": {
      "text/plain": [
       "271"
      ]
     },
     "execution_count": 43,
     "metadata": {
      "tags": []
     },
     "output_type": "execute_result"
    }
   ],
   "source": [
    "len(data_nonbinary.columns)"
   ]
  },
  {
   "cell_type": "markdown",
   "metadata": {
    "id": "fkZ2m52XXEA5",
    "colab_type": "text"
   },
   "source": [
    "## 5. Нормализация"
   ]
  },
  {
   "cell_type": "markdown",
   "metadata": {
    "id": "HLeFOoBuXkHw",
    "colab_type": "text"
   },
   "source": [
    "После исключения из рассмотрения признака **Complaint ID**, остались только категориальные признаки, обработанные в п.4, а значит нормализация не требуется."
   ]
  },
  {
   "cell_type": "markdown",
   "metadata": {
    "id": "JHoAC9QlXn7V",
    "colab_type": "text"
   },
   "source": [
    "## 6. Разбиение на обучающую и тестовую выборки"
   ]
  },
  {
   "cell_type": "markdown",
   "metadata": {
    "id": "sDCukxSgXv-K",
    "colab_type": "text"
   },
   "source": [
    "Для начала соединим все обработанные данные в один фрейм."
   ]
  },
  {
   "cell_type": "code",
   "execution_count": 44,
   "metadata": {
    "id": "7nl0JRvxXgTh",
    "colab_type": "code",
    "colab": {
     "base_uri": "https://localhost:8080/",
     "height": 34.0
    },
    "outputId": "dc80aea0-859f-4ca3-df6b-79fd324e63f0"
   },
   "outputs": [
    {
     "name": "stdout",
     "output_type": "stream",
     "text": [
      "(320589, 274)\n"
     ]
    }
   ],
   "source": [
    "data = pd.concat((data_nonbinary, data_excl[binary_columns], data_excl['Product']), axis=1)\n",
    "print(data.shape)"
   ]
  },
  {
   "cell_type": "code",
   "execution_count": 45,
   "metadata": {
    "id": "bxKDtl_gYfIA",
    "colab_type": "code",
    "colab": {
     "base_uri": "https://localhost:8080/",
     "height": 484.0
    },
    "outputId": "025ff7b3-b25a-44d5-d95b-fc15389cc12b"
   },
   "outputs": [
    {
     "data": {
      "text/html": [
       "<div>\n",
       "<style scoped>\n",
       "    .dataframe tbody tr th:only-of-type {\n",
       "        vertical-align: middle;\n",
       "    }\n",
       "\n",
       "    .dataframe tbody tr th {\n",
       "        vertical-align: top;\n",
       "    }\n",
       "\n",
       "    .dataframe thead th {\n",
       "        text-align: right;\n",
       "    }\n",
       "</style>\n",
       "<table border=\"1\" class=\"dataframe\">\n",
       "  <thead>\n",
       "    <tr style=\"text-align: right;\">\n",
       "      <th></th>\n",
       "      <th>Sub-product_(CD) Certificate of deposit</th>\n",
       "      <th>Sub-product_Auto</th>\n",
       "      <th>Sub-product_Auto debt</th>\n",
       "      <th>Sub-product_CD (Certificate of Deposit)</th>\n",
       "      <th>Sub-product_Cashing a check without an account</th>\n",
       "      <th>Sub-product_Check cashing</th>\n",
       "      <th>Sub-product_Check cashing service</th>\n",
       "      <th>Sub-product_Checking account</th>\n",
       "      <th>Sub-product_Conventional adjustable mortgage (ARM)</th>\n",
       "      <th>Sub-product_Conventional fixed mortgage</th>\n",
       "      <th>Sub-product_Conventional home mortgage</th>\n",
       "      <th>Sub-product_Credit card</th>\n",
       "      <th>Sub-product_Credit card debt</th>\n",
       "      <th>Sub-product_Credit repair</th>\n",
       "      <th>Sub-product_Credit repair services</th>\n",
       "      <th>Sub-product_Credit reporting</th>\n",
       "      <th>Sub-product_Debt settlement</th>\n",
       "      <th>Sub-product_Domestic (US) money transfer</th>\n",
       "      <th>Sub-product_Electronic Benefit Transfer / EBT card</th>\n",
       "      <th>Sub-product_FHA mortgage</th>\n",
       "      <th>Sub-product_Federal student loan</th>\n",
       "      <th>Sub-product_Federal student loan debt</th>\n",
       "      <th>Sub-product_Federal student loan servicing</th>\n",
       "      <th>Sub-product_Foreign currency exchange</th>\n",
       "      <th>Sub-product_General purpose card</th>\n",
       "      <th>Sub-product_General-purpose credit card or charge card</th>\n",
       "      <th>Sub-product_General-purpose prepaid card</th>\n",
       "      <th>Sub-product_Gift card</th>\n",
       "      <th>Sub-product_Gift or merchant card</th>\n",
       "      <th>Sub-product_Government benefit card</th>\n",
       "      <th>Sub-product_Government benefit payment card</th>\n",
       "      <th>Sub-product_Home equity loan or line of credit</th>\n",
       "      <th>Sub-product_Home equity loan or line of credit (HELOC)</th>\n",
       "      <th>Sub-product_I do not know</th>\n",
       "      <th>Sub-product_ID prepaid card</th>\n",
       "      <th>Sub-product_Installment loan</th>\n",
       "      <th>Sub-product_International money transfer</th>\n",
       "      <th>Sub-product_Lease</th>\n",
       "      <th>Sub-product_Loan</th>\n",
       "      <th>Sub-product_Medical</th>\n",
       "      <th>...</th>\n",
       "      <th>Issue_Unexpected/Other fees</th>\n",
       "      <th>Issue_Unsolicited issuance of credit card</th>\n",
       "      <th>Issue_Using a debit or ATM card</th>\n",
       "      <th>Issue_Vehicle was damaged or destroyed the vehicle</th>\n",
       "      <th>Issue_Vehicle was repossessed or sold the vehicle</th>\n",
       "      <th>Issue_Was approved for a loan, but didn't receive money</th>\n",
       "      <th>Issue_Was approved for a loan, but didn't receive the money</th>\n",
       "      <th>Issue_Written notification about debt</th>\n",
       "      <th>Issue_Wrong amount charged or received</th>\n",
       "      <th>Company public response_Company believes complaint caused principally by actions of third party outside the control or direction of the company</th>\n",
       "      <th>Company public response_Company believes complaint is the result of an isolated error</th>\n",
       "      <th>Company public response_Company believes complaint relates to a discontinued policy or procedure</th>\n",
       "      <th>Company public response_Company believes complaint represents an opportunity for improvement to better serve consumers</th>\n",
       "      <th>Company public response_Company believes it acted appropriately as authorized by contract or law</th>\n",
       "      <th>Company public response_Company believes the complaint is the result of a misunderstanding</th>\n",
       "      <th>Company public response_Company can't verify or dispute the facts in the complaint</th>\n",
       "      <th>Company public response_Company chooses not to provide a public response</th>\n",
       "      <th>Company public response_Company disputes the facts presented in the complaint</th>\n",
       "      <th>Company public response_Company has responded to the consumer and the CFPB and chooses not to provide a public response</th>\n",
       "      <th>Tags_Older American</th>\n",
       "      <th>Tags_Older American, Servicemember</th>\n",
       "      <th>Tags_Servicemember</th>\n",
       "      <th>Consumer consent provided?_Consent not provided</th>\n",
       "      <th>Consumer consent provided?_Consent provided</th>\n",
       "      <th>Consumer consent provided?_Consent withdrawn</th>\n",
       "      <th>Consumer consent provided?_Other</th>\n",
       "      <th>Submitted via_Email</th>\n",
       "      <th>Submitted via_Fax</th>\n",
       "      <th>Submitted via_Phone</th>\n",
       "      <th>Submitted via_Postal mail</th>\n",
       "      <th>Submitted via_Referral</th>\n",
       "      <th>Submitted via_Web</th>\n",
       "      <th>Company response to consumer_Closed</th>\n",
       "      <th>Company response to consumer_Closed with explanation</th>\n",
       "      <th>Company response to consumer_Closed with monetary relief</th>\n",
       "      <th>Company response to consumer_Closed with non-monetary relief</th>\n",
       "      <th>Company response to consumer_Closed with relief</th>\n",
       "      <th>Company response to consumer_Closed without relief</th>\n",
       "      <th>Company response to consumer_In progress</th>\n",
       "      <th>Company response to consumer_Untimely response</th>\n",
       "    </tr>\n",
       "  </thead>\n",
       "  <tbody>\n",
       "    <tr>\n",
       "      <th>count</th>\n",
       "      <td>320589.000000</td>\n",
       "      <td>320589.000000</td>\n",
       "      <td>320589.000000</td>\n",
       "      <td>320589.000000</td>\n",
       "      <td>320589.000000</td>\n",
       "      <td>320589.000000</td>\n",
       "      <td>320589.000000</td>\n",
       "      <td>320589.000000</td>\n",
       "      <td>320589.000000</td>\n",
       "      <td>320589.000000</td>\n",
       "      <td>320589.000000</td>\n",
       "      <td>320589.000000</td>\n",
       "      <td>320589.000000</td>\n",
       "      <td>320589.000000</td>\n",
       "      <td>320589.000000</td>\n",
       "      <td>320589.000000</td>\n",
       "      <td>320589.000000</td>\n",
       "      <td>320589.000000</td>\n",
       "      <td>320589.000000</td>\n",
       "      <td>320589.000000</td>\n",
       "      <td>320589.000000</td>\n",
       "      <td>320589.000000</td>\n",
       "      <td>320589.000000</td>\n",
       "      <td>320589.000000</td>\n",
       "      <td>320589.000000</td>\n",
       "      <td>320589.00000</td>\n",
       "      <td>320589.000000</td>\n",
       "      <td>320589.000000</td>\n",
       "      <td>320589.000000</td>\n",
       "      <td>320589.000000</td>\n",
       "      <td>320589.000000</td>\n",
       "      <td>320589.000000</td>\n",
       "      <td>320589.000000</td>\n",
       "      <td>320589.000000</td>\n",
       "      <td>320589.000000</td>\n",
       "      <td>320589.000000</td>\n",
       "      <td>320589.000000</td>\n",
       "      <td>320589.000000</td>\n",
       "      <td>320589.000000</td>\n",
       "      <td>320589.000000</td>\n",
       "      <td>...</td>\n",
       "      <td>320589.000000</td>\n",
       "      <td>320589.000000</td>\n",
       "      <td>320589.000000</td>\n",
       "      <td>320589.000000</td>\n",
       "      <td>320589.000000</td>\n",
       "      <td>320589.000000</td>\n",
       "      <td>320589.000000</td>\n",
       "      <td>320589.000000</td>\n",
       "      <td>320589.000000</td>\n",
       "      <td>320589.000000</td>\n",
       "      <td>320589.000000</td>\n",
       "      <td>320589.000000</td>\n",
       "      <td>320589.000000</td>\n",
       "      <td>320589.000000</td>\n",
       "      <td>320589.000000</td>\n",
       "      <td>320589.000000</td>\n",
       "      <td>320589.000000</td>\n",
       "      <td>320589.000000</td>\n",
       "      <td>320589.000000</td>\n",
       "      <td>320589.000000</td>\n",
       "      <td>320589.000000</td>\n",
       "      <td>320589.000000</td>\n",
       "      <td>320589.000000</td>\n",
       "      <td>320589.000000</td>\n",
       "      <td>320589.000000</td>\n",
       "      <td>320589.000000</td>\n",
       "      <td>320589.000000</td>\n",
       "      <td>320589.000000</td>\n",
       "      <td>320589.000000</td>\n",
       "      <td>320589.000000</td>\n",
       "      <td>320589.000000</td>\n",
       "      <td>320589.000000</td>\n",
       "      <td>320589.000000</td>\n",
       "      <td>320589.000000</td>\n",
       "      <td>320589.000000</td>\n",
       "      <td>320589.000000</td>\n",
       "      <td>320589.000000</td>\n",
       "      <td>320589.000000</td>\n",
       "      <td>320589.000000</td>\n",
       "      <td>320589.000000</td>\n",
       "    </tr>\n",
       "    <tr>\n",
       "      <th>mean</th>\n",
       "      <td>0.002595</td>\n",
       "      <td>0.002966</td>\n",
       "      <td>0.002383</td>\n",
       "      <td>0.000936</td>\n",
       "      <td>0.000502</td>\n",
       "      <td>0.000212</td>\n",
       "      <td>0.000181</td>\n",
       "      <td>0.069797</td>\n",
       "      <td>0.019405</td>\n",
       "      <td>0.054624</td>\n",
       "      <td>0.022200</td>\n",
       "      <td>0.021751</td>\n",
       "      <td>0.015734</td>\n",
       "      <td>0.000087</td>\n",
       "      <td>0.000602</td>\n",
       "      <td>0.355979</td>\n",
       "      <td>0.000424</td>\n",
       "      <td>0.004523</td>\n",
       "      <td>0.000012</td>\n",
       "      <td>0.024664</td>\n",
       "      <td>0.001906</td>\n",
       "      <td>0.001254</td>\n",
       "      <td>0.017783</td>\n",
       "      <td>0.000147</td>\n",
       "      <td>0.001313</td>\n",
       "      <td>0.02899</td>\n",
       "      <td>0.001185</td>\n",
       "      <td>0.000131</td>\n",
       "      <td>0.000303</td>\n",
       "      <td>0.000421</td>\n",
       "      <td>0.000299</td>\n",
       "      <td>0.008877</td>\n",
       "      <td>0.002723</td>\n",
       "      <td>0.039393</td>\n",
       "      <td>0.000178</td>\n",
       "      <td>0.009601</td>\n",
       "      <td>0.003668</td>\n",
       "      <td>0.001441</td>\n",
       "      <td>0.007202</td>\n",
       "      <td>0.016816</td>\n",
       "      <td>...</td>\n",
       "      <td>0.000109</td>\n",
       "      <td>0.001444</td>\n",
       "      <td>0.004716</td>\n",
       "      <td>0.000028</td>\n",
       "      <td>0.000109</td>\n",
       "      <td>0.000009</td>\n",
       "      <td>0.000075</td>\n",
       "      <td>0.018382</td>\n",
       "      <td>0.000427</td>\n",
       "      <td>0.003235</td>\n",
       "      <td>0.002860</td>\n",
       "      <td>0.000056</td>\n",
       "      <td>0.002024</td>\n",
       "      <td>0.047475</td>\n",
       "      <td>0.004445</td>\n",
       "      <td>0.001815</td>\n",
       "      <td>0.041202</td>\n",
       "      <td>0.004027</td>\n",
       "      <td>0.892860</td>\n",
       "      <td>0.060454</td>\n",
       "      <td>0.010705</td>\n",
       "      <td>0.928840</td>\n",
       "      <td>0.221505</td>\n",
       "      <td>0.761735</td>\n",
       "      <td>0.000867</td>\n",
       "      <td>0.015893</td>\n",
       "      <td>0.000362</td>\n",
       "      <td>0.014916</td>\n",
       "      <td>0.059478</td>\n",
       "      <td>0.052940</td>\n",
       "      <td>0.135310</td>\n",
       "      <td>0.736993</td>\n",
       "      <td>0.013715</td>\n",
       "      <td>0.774272</td>\n",
       "      <td>0.058152</td>\n",
       "      <td>0.123744</td>\n",
       "      <td>0.004167</td>\n",
       "      <td>0.014005</td>\n",
       "      <td>0.007243</td>\n",
       "      <td>0.004701</td>\n",
       "    </tr>\n",
       "    <tr>\n",
       "      <th>std</th>\n",
       "      <td>0.050877</td>\n",
       "      <td>0.054384</td>\n",
       "      <td>0.048759</td>\n",
       "      <td>0.030576</td>\n",
       "      <td>0.022404</td>\n",
       "      <td>0.014562</td>\n",
       "      <td>0.013449</td>\n",
       "      <td>0.254804</td>\n",
       "      <td>0.137944</td>\n",
       "      <td>0.227246</td>\n",
       "      <td>0.147333</td>\n",
       "      <td>0.145868</td>\n",
       "      <td>0.124443</td>\n",
       "      <td>0.009345</td>\n",
       "      <td>0.024529</td>\n",
       "      <td>0.478810</td>\n",
       "      <td>0.020592</td>\n",
       "      <td>0.067101</td>\n",
       "      <td>0.003532</td>\n",
       "      <td>0.155099</td>\n",
       "      <td>0.043615</td>\n",
       "      <td>0.035389</td>\n",
       "      <td>0.132162</td>\n",
       "      <td>0.012107</td>\n",
       "      <td>0.036214</td>\n",
       "      <td>0.16778</td>\n",
       "      <td>0.034408</td>\n",
       "      <td>0.011445</td>\n",
       "      <td>0.017392</td>\n",
       "      <td>0.020516</td>\n",
       "      <td>0.017302</td>\n",
       "      <td>0.093801</td>\n",
       "      <td>0.052112</td>\n",
       "      <td>0.194529</td>\n",
       "      <td>0.013333</td>\n",
       "      <td>0.097514</td>\n",
       "      <td>0.060455</td>\n",
       "      <td>0.037934</td>\n",
       "      <td>0.084561</td>\n",
       "      <td>0.128581</td>\n",
       "      <td>...</td>\n",
       "      <td>0.010448</td>\n",
       "      <td>0.037975</td>\n",
       "      <td>0.068513</td>\n",
       "      <td>0.005298</td>\n",
       "      <td>0.010448</td>\n",
       "      <td>0.003059</td>\n",
       "      <td>0.008652</td>\n",
       "      <td>0.134328</td>\n",
       "      <td>0.020668</td>\n",
       "      <td>0.056782</td>\n",
       "      <td>0.053406</td>\n",
       "      <td>0.007493</td>\n",
       "      <td>0.044948</td>\n",
       "      <td>0.212653</td>\n",
       "      <td>0.066522</td>\n",
       "      <td>0.042569</td>\n",
       "      <td>0.198758</td>\n",
       "      <td>0.063331</td>\n",
       "      <td>0.309292</td>\n",
       "      <td>0.238327</td>\n",
       "      <td>0.102911</td>\n",
       "      <td>0.257092</td>\n",
       "      <td>0.415260</td>\n",
       "      <td>0.426022</td>\n",
       "      <td>0.029435</td>\n",
       "      <td>0.125060</td>\n",
       "      <td>0.019019</td>\n",
       "      <td>0.121218</td>\n",
       "      <td>0.236518</td>\n",
       "      <td>0.223914</td>\n",
       "      <td>0.342055</td>\n",
       "      <td>0.440267</td>\n",
       "      <td>0.116307</td>\n",
       "      <td>0.418062</td>\n",
       "      <td>0.234032</td>\n",
       "      <td>0.329290</td>\n",
       "      <td>0.064420</td>\n",
       "      <td>0.117513</td>\n",
       "      <td>0.084797</td>\n",
       "      <td>0.068401</td>\n",
       "    </tr>\n",
       "    <tr>\n",
       "      <th>min</th>\n",
       "      <td>0.000000</td>\n",
       "      <td>0.000000</td>\n",
       "      <td>0.000000</td>\n",
       "      <td>0.000000</td>\n",
       "      <td>0.000000</td>\n",
       "      <td>0.000000</td>\n",
       "      <td>0.000000</td>\n",
       "      <td>0.000000</td>\n",
       "      <td>0.000000</td>\n",
       "      <td>0.000000</td>\n",
       "      <td>0.000000</td>\n",
       "      <td>0.000000</td>\n",
       "      <td>0.000000</td>\n",
       "      <td>0.000000</td>\n",
       "      <td>0.000000</td>\n",
       "      <td>0.000000</td>\n",
       "      <td>0.000000</td>\n",
       "      <td>0.000000</td>\n",
       "      <td>0.000000</td>\n",
       "      <td>0.000000</td>\n",
       "      <td>0.000000</td>\n",
       "      <td>0.000000</td>\n",
       "      <td>0.000000</td>\n",
       "      <td>0.000000</td>\n",
       "      <td>0.000000</td>\n",
       "      <td>0.00000</td>\n",
       "      <td>0.000000</td>\n",
       "      <td>0.000000</td>\n",
       "      <td>0.000000</td>\n",
       "      <td>0.000000</td>\n",
       "      <td>0.000000</td>\n",
       "      <td>0.000000</td>\n",
       "      <td>0.000000</td>\n",
       "      <td>0.000000</td>\n",
       "      <td>0.000000</td>\n",
       "      <td>0.000000</td>\n",
       "      <td>0.000000</td>\n",
       "      <td>0.000000</td>\n",
       "      <td>0.000000</td>\n",
       "      <td>0.000000</td>\n",
       "      <td>...</td>\n",
       "      <td>0.000000</td>\n",
       "      <td>0.000000</td>\n",
       "      <td>0.000000</td>\n",
       "      <td>0.000000</td>\n",
       "      <td>0.000000</td>\n",
       "      <td>0.000000</td>\n",
       "      <td>0.000000</td>\n",
       "      <td>0.000000</td>\n",
       "      <td>0.000000</td>\n",
       "      <td>0.000000</td>\n",
       "      <td>0.000000</td>\n",
       "      <td>0.000000</td>\n",
       "      <td>0.000000</td>\n",
       "      <td>0.000000</td>\n",
       "      <td>0.000000</td>\n",
       "      <td>0.000000</td>\n",
       "      <td>0.000000</td>\n",
       "      <td>0.000000</td>\n",
       "      <td>0.000000</td>\n",
       "      <td>0.000000</td>\n",
       "      <td>0.000000</td>\n",
       "      <td>0.000000</td>\n",
       "      <td>0.000000</td>\n",
       "      <td>0.000000</td>\n",
       "      <td>0.000000</td>\n",
       "      <td>0.000000</td>\n",
       "      <td>0.000000</td>\n",
       "      <td>0.000000</td>\n",
       "      <td>0.000000</td>\n",
       "      <td>0.000000</td>\n",
       "      <td>0.000000</td>\n",
       "      <td>0.000000</td>\n",
       "      <td>0.000000</td>\n",
       "      <td>0.000000</td>\n",
       "      <td>0.000000</td>\n",
       "      <td>0.000000</td>\n",
       "      <td>0.000000</td>\n",
       "      <td>0.000000</td>\n",
       "      <td>0.000000</td>\n",
       "      <td>0.000000</td>\n",
       "    </tr>\n",
       "    <tr>\n",
       "      <th>25%</th>\n",
       "      <td>0.000000</td>\n",
       "      <td>0.000000</td>\n",
       "      <td>0.000000</td>\n",
       "      <td>0.000000</td>\n",
       "      <td>0.000000</td>\n",
       "      <td>0.000000</td>\n",
       "      <td>0.000000</td>\n",
       "      <td>0.000000</td>\n",
       "      <td>0.000000</td>\n",
       "      <td>0.000000</td>\n",
       "      <td>0.000000</td>\n",
       "      <td>0.000000</td>\n",
       "      <td>0.000000</td>\n",
       "      <td>0.000000</td>\n",
       "      <td>0.000000</td>\n",
       "      <td>0.000000</td>\n",
       "      <td>0.000000</td>\n",
       "      <td>0.000000</td>\n",
       "      <td>0.000000</td>\n",
       "      <td>0.000000</td>\n",
       "      <td>0.000000</td>\n",
       "      <td>0.000000</td>\n",
       "      <td>0.000000</td>\n",
       "      <td>0.000000</td>\n",
       "      <td>0.000000</td>\n",
       "      <td>0.00000</td>\n",
       "      <td>0.000000</td>\n",
       "      <td>0.000000</td>\n",
       "      <td>0.000000</td>\n",
       "      <td>0.000000</td>\n",
       "      <td>0.000000</td>\n",
       "      <td>0.000000</td>\n",
       "      <td>0.000000</td>\n",
       "      <td>0.000000</td>\n",
       "      <td>0.000000</td>\n",
       "      <td>0.000000</td>\n",
       "      <td>0.000000</td>\n",
       "      <td>0.000000</td>\n",
       "      <td>0.000000</td>\n",
       "      <td>0.000000</td>\n",
       "      <td>...</td>\n",
       "      <td>0.000000</td>\n",
       "      <td>0.000000</td>\n",
       "      <td>0.000000</td>\n",
       "      <td>0.000000</td>\n",
       "      <td>0.000000</td>\n",
       "      <td>0.000000</td>\n",
       "      <td>0.000000</td>\n",
       "      <td>0.000000</td>\n",
       "      <td>0.000000</td>\n",
       "      <td>0.000000</td>\n",
       "      <td>0.000000</td>\n",
       "      <td>0.000000</td>\n",
       "      <td>0.000000</td>\n",
       "      <td>0.000000</td>\n",
       "      <td>0.000000</td>\n",
       "      <td>0.000000</td>\n",
       "      <td>0.000000</td>\n",
       "      <td>0.000000</td>\n",
       "      <td>1.000000</td>\n",
       "      <td>0.000000</td>\n",
       "      <td>0.000000</td>\n",
       "      <td>1.000000</td>\n",
       "      <td>0.000000</td>\n",
       "      <td>1.000000</td>\n",
       "      <td>0.000000</td>\n",
       "      <td>0.000000</td>\n",
       "      <td>0.000000</td>\n",
       "      <td>0.000000</td>\n",
       "      <td>0.000000</td>\n",
       "      <td>0.000000</td>\n",
       "      <td>0.000000</td>\n",
       "      <td>0.000000</td>\n",
       "      <td>0.000000</td>\n",
       "      <td>1.000000</td>\n",
       "      <td>0.000000</td>\n",
       "      <td>0.000000</td>\n",
       "      <td>0.000000</td>\n",
       "      <td>0.000000</td>\n",
       "      <td>0.000000</td>\n",
       "      <td>0.000000</td>\n",
       "    </tr>\n",
       "    <tr>\n",
       "      <th>50%</th>\n",
       "      <td>0.000000</td>\n",
       "      <td>0.000000</td>\n",
       "      <td>0.000000</td>\n",
       "      <td>0.000000</td>\n",
       "      <td>0.000000</td>\n",
       "      <td>0.000000</td>\n",
       "      <td>0.000000</td>\n",
       "      <td>0.000000</td>\n",
       "      <td>0.000000</td>\n",
       "      <td>0.000000</td>\n",
       "      <td>0.000000</td>\n",
       "      <td>0.000000</td>\n",
       "      <td>0.000000</td>\n",
       "      <td>0.000000</td>\n",
       "      <td>0.000000</td>\n",
       "      <td>0.000000</td>\n",
       "      <td>0.000000</td>\n",
       "      <td>0.000000</td>\n",
       "      <td>0.000000</td>\n",
       "      <td>0.000000</td>\n",
       "      <td>0.000000</td>\n",
       "      <td>0.000000</td>\n",
       "      <td>0.000000</td>\n",
       "      <td>0.000000</td>\n",
       "      <td>0.000000</td>\n",
       "      <td>0.00000</td>\n",
       "      <td>0.000000</td>\n",
       "      <td>0.000000</td>\n",
       "      <td>0.000000</td>\n",
       "      <td>0.000000</td>\n",
       "      <td>0.000000</td>\n",
       "      <td>0.000000</td>\n",
       "      <td>0.000000</td>\n",
       "      <td>0.000000</td>\n",
       "      <td>0.000000</td>\n",
       "      <td>0.000000</td>\n",
       "      <td>0.000000</td>\n",
       "      <td>0.000000</td>\n",
       "      <td>0.000000</td>\n",
       "      <td>0.000000</td>\n",
       "      <td>...</td>\n",
       "      <td>0.000000</td>\n",
       "      <td>0.000000</td>\n",
       "      <td>0.000000</td>\n",
       "      <td>0.000000</td>\n",
       "      <td>0.000000</td>\n",
       "      <td>0.000000</td>\n",
       "      <td>0.000000</td>\n",
       "      <td>0.000000</td>\n",
       "      <td>0.000000</td>\n",
       "      <td>0.000000</td>\n",
       "      <td>0.000000</td>\n",
       "      <td>0.000000</td>\n",
       "      <td>0.000000</td>\n",
       "      <td>0.000000</td>\n",
       "      <td>0.000000</td>\n",
       "      <td>0.000000</td>\n",
       "      <td>0.000000</td>\n",
       "      <td>0.000000</td>\n",
       "      <td>1.000000</td>\n",
       "      <td>0.000000</td>\n",
       "      <td>0.000000</td>\n",
       "      <td>1.000000</td>\n",
       "      <td>0.000000</td>\n",
       "      <td>1.000000</td>\n",
       "      <td>0.000000</td>\n",
       "      <td>0.000000</td>\n",
       "      <td>0.000000</td>\n",
       "      <td>0.000000</td>\n",
       "      <td>0.000000</td>\n",
       "      <td>0.000000</td>\n",
       "      <td>0.000000</td>\n",
       "      <td>1.000000</td>\n",
       "      <td>0.000000</td>\n",
       "      <td>1.000000</td>\n",
       "      <td>0.000000</td>\n",
       "      <td>0.000000</td>\n",
       "      <td>0.000000</td>\n",
       "      <td>0.000000</td>\n",
       "      <td>0.000000</td>\n",
       "      <td>0.000000</td>\n",
       "    </tr>\n",
       "    <tr>\n",
       "      <th>75%</th>\n",
       "      <td>0.000000</td>\n",
       "      <td>0.000000</td>\n",
       "      <td>0.000000</td>\n",
       "      <td>0.000000</td>\n",
       "      <td>0.000000</td>\n",
       "      <td>0.000000</td>\n",
       "      <td>0.000000</td>\n",
       "      <td>0.000000</td>\n",
       "      <td>0.000000</td>\n",
       "      <td>0.000000</td>\n",
       "      <td>0.000000</td>\n",
       "      <td>0.000000</td>\n",
       "      <td>0.000000</td>\n",
       "      <td>0.000000</td>\n",
       "      <td>0.000000</td>\n",
       "      <td>1.000000</td>\n",
       "      <td>0.000000</td>\n",
       "      <td>0.000000</td>\n",
       "      <td>0.000000</td>\n",
       "      <td>0.000000</td>\n",
       "      <td>0.000000</td>\n",
       "      <td>0.000000</td>\n",
       "      <td>0.000000</td>\n",
       "      <td>0.000000</td>\n",
       "      <td>0.000000</td>\n",
       "      <td>0.00000</td>\n",
       "      <td>0.000000</td>\n",
       "      <td>0.000000</td>\n",
       "      <td>0.000000</td>\n",
       "      <td>0.000000</td>\n",
       "      <td>0.000000</td>\n",
       "      <td>0.000000</td>\n",
       "      <td>0.000000</td>\n",
       "      <td>0.000000</td>\n",
       "      <td>0.000000</td>\n",
       "      <td>0.000000</td>\n",
       "      <td>0.000000</td>\n",
       "      <td>0.000000</td>\n",
       "      <td>0.000000</td>\n",
       "      <td>0.000000</td>\n",
       "      <td>...</td>\n",
       "      <td>0.000000</td>\n",
       "      <td>0.000000</td>\n",
       "      <td>0.000000</td>\n",
       "      <td>0.000000</td>\n",
       "      <td>0.000000</td>\n",
       "      <td>0.000000</td>\n",
       "      <td>0.000000</td>\n",
       "      <td>0.000000</td>\n",
       "      <td>0.000000</td>\n",
       "      <td>0.000000</td>\n",
       "      <td>0.000000</td>\n",
       "      <td>0.000000</td>\n",
       "      <td>0.000000</td>\n",
       "      <td>0.000000</td>\n",
       "      <td>0.000000</td>\n",
       "      <td>0.000000</td>\n",
       "      <td>0.000000</td>\n",
       "      <td>0.000000</td>\n",
       "      <td>1.000000</td>\n",
       "      <td>0.000000</td>\n",
       "      <td>0.000000</td>\n",
       "      <td>1.000000</td>\n",
       "      <td>0.000000</td>\n",
       "      <td>1.000000</td>\n",
       "      <td>0.000000</td>\n",
       "      <td>0.000000</td>\n",
       "      <td>0.000000</td>\n",
       "      <td>0.000000</td>\n",
       "      <td>0.000000</td>\n",
       "      <td>0.000000</td>\n",
       "      <td>0.000000</td>\n",
       "      <td>1.000000</td>\n",
       "      <td>0.000000</td>\n",
       "      <td>1.000000</td>\n",
       "      <td>0.000000</td>\n",
       "      <td>0.000000</td>\n",
       "      <td>0.000000</td>\n",
       "      <td>0.000000</td>\n",
       "      <td>0.000000</td>\n",
       "      <td>0.000000</td>\n",
       "    </tr>\n",
       "    <tr>\n",
       "      <th>max</th>\n",
       "      <td>1.000000</td>\n",
       "      <td>1.000000</td>\n",
       "      <td>1.000000</td>\n",
       "      <td>1.000000</td>\n",
       "      <td>1.000000</td>\n",
       "      <td>1.000000</td>\n",
       "      <td>1.000000</td>\n",
       "      <td>1.000000</td>\n",
       "      <td>1.000000</td>\n",
       "      <td>1.000000</td>\n",
       "      <td>1.000000</td>\n",
       "      <td>1.000000</td>\n",
       "      <td>1.000000</td>\n",
       "      <td>1.000000</td>\n",
       "      <td>1.000000</td>\n",
       "      <td>1.000000</td>\n",
       "      <td>1.000000</td>\n",
       "      <td>1.000000</td>\n",
       "      <td>1.000000</td>\n",
       "      <td>1.000000</td>\n",
       "      <td>1.000000</td>\n",
       "      <td>1.000000</td>\n",
       "      <td>1.000000</td>\n",
       "      <td>1.000000</td>\n",
       "      <td>1.000000</td>\n",
       "      <td>1.00000</td>\n",
       "      <td>1.000000</td>\n",
       "      <td>1.000000</td>\n",
       "      <td>1.000000</td>\n",
       "      <td>1.000000</td>\n",
       "      <td>1.000000</td>\n",
       "      <td>1.000000</td>\n",
       "      <td>1.000000</td>\n",
       "      <td>1.000000</td>\n",
       "      <td>1.000000</td>\n",
       "      <td>1.000000</td>\n",
       "      <td>1.000000</td>\n",
       "      <td>1.000000</td>\n",
       "      <td>1.000000</td>\n",
       "      <td>1.000000</td>\n",
       "      <td>...</td>\n",
       "      <td>1.000000</td>\n",
       "      <td>1.000000</td>\n",
       "      <td>1.000000</td>\n",
       "      <td>1.000000</td>\n",
       "      <td>1.000000</td>\n",
       "      <td>1.000000</td>\n",
       "      <td>1.000000</td>\n",
       "      <td>1.000000</td>\n",
       "      <td>1.000000</td>\n",
       "      <td>1.000000</td>\n",
       "      <td>1.000000</td>\n",
       "      <td>1.000000</td>\n",
       "      <td>1.000000</td>\n",
       "      <td>1.000000</td>\n",
       "      <td>1.000000</td>\n",
       "      <td>1.000000</td>\n",
       "      <td>1.000000</td>\n",
       "      <td>1.000000</td>\n",
       "      <td>1.000000</td>\n",
       "      <td>1.000000</td>\n",
       "      <td>1.000000</td>\n",
       "      <td>1.000000</td>\n",
       "      <td>1.000000</td>\n",
       "      <td>1.000000</td>\n",
       "      <td>1.000000</td>\n",
       "      <td>1.000000</td>\n",
       "      <td>1.000000</td>\n",
       "      <td>1.000000</td>\n",
       "      <td>1.000000</td>\n",
       "      <td>1.000000</td>\n",
       "      <td>1.000000</td>\n",
       "      <td>1.000000</td>\n",
       "      <td>1.000000</td>\n",
       "      <td>1.000000</td>\n",
       "      <td>1.000000</td>\n",
       "      <td>1.000000</td>\n",
       "      <td>1.000000</td>\n",
       "      <td>1.000000</td>\n",
       "      <td>1.000000</td>\n",
       "      <td>1.000000</td>\n",
       "    </tr>\n",
       "  </tbody>\n",
       "</table>\n",
       "<p>8 rows × 271 columns</p>\n",
       "</div>"
      ],
      "text/plain": [
       "       Sub-product_(CD) Certificate of deposit  ...  Company response to consumer_Untimely response\n",
       "count                            320589.000000  ...                                   320589.000000\n",
       "mean                                  0.002595  ...                                        0.004701\n",
       "std                                   0.050877  ...                                        0.068401\n",
       "min                                   0.000000  ...                                        0.000000\n",
       "25%                                   0.000000  ...                                        0.000000\n",
       "50%                                   0.000000  ...                                        0.000000\n",
       "75%                                   0.000000  ...                                        0.000000\n",
       "max                                   1.000000  ...                                        1.000000\n",
       "\n",
       "[8 rows x 271 columns]"
      ]
     },
     "execution_count": 45,
     "metadata": {
      "tags": []
     },
     "output_type": "execute_result"
    }
   ],
   "source": [
    "data.describe()"
   ]
  },
  {
   "cell_type": "code",
   "execution_count": 46,
   "metadata": {
    "id": "VcifWWFyYhrF",
    "colab_type": "code",
    "colab": {}
   },
   "outputs": [],
   "source": [
    "X = data.drop('Product', axis = 1) # выбрасываем столбец 'Product'\n",
    "y = data['Product']\n",
    "feature_names = X.columns"
   ]
  },
  {
   "cell_type": "code",
   "execution_count": 47,
   "metadata": {
    "id": "LKpNkcDmiRJL",
    "colab_type": "code",
    "colab": {
     "base_uri": "https://localhost:8080/",
     "height": 193.0
    },
    "outputId": "e97a71ae-76d6-4b7d-af53-fd3086d0ac6a"
   },
   "outputs": [
    {
     "data": {
      "text/plain": [
       "array(['Checking or savings account', 'Debt collection',\n",
       "       'Credit reporting, credit repair services, or other personal consumer reports',\n",
       "       'Mortgage', 'Vehicle loan or lease', 'Student loan',\n",
       "       'Credit card or prepaid card',\n",
       "       'Payday loan, title loan, or personal loan',\n",
       "       'Money transfer, virtual currency, or money service',\n",
       "       'Bank account or service', 'Credit card', 'Credit reporting',\n",
       "       'Prepaid card', 'Other financial service', 'Payday loan',\n",
       "       'Consumer Loan', 'Money transfers', 'Virtual currency'],\n",
       "      dtype=object)"
      ]
     },
     "execution_count": 47,
     "metadata": {
      "tags": []
     },
     "output_type": "execute_result"
    }
   ],
   "source": [
    "y.unique()"
   ]
  },
  {
   "cell_type": "code",
   "execution_count": 48,
   "metadata": {
    "id": "kZWqeYLBit3U",
    "colab_type": "code",
    "colab": {}
   },
   "outputs": [],
   "source": [
    "mapping = {'Checking or savings account' : 0, 'Debt collection' : 1, 'Credit reporting, credit repair services, or other personal consumer reports' : 2, \n",
    "           'Mortgage' : 3, 'Vehicle loan or lease' : 4, 'Student loan' : 5, 'Credit card or prepaid card' : 6, 'Payday loan, title loan, or personal loan' : 7,\n",
    "           'Money transfer, virtual currency, or money service' : 8, 'Bank account or service' : 9, 'Credit card' : 10, 'Credit reporting' : 11,\n",
    "           'Prepaid card' : 12, 'Other financial service' : 13, 'Payday loan' : 14, 'Consumer Loan' : 15, 'Money transfers' : 16, 'Virtual currency' : 17}"
   ]
  },
  {
   "cell_type": "code",
   "execution_count": 49,
   "metadata": {
    "id": "67S-rREui7l-",
    "colab_type": "code",
    "colab": {}
   },
   "outputs": [],
   "source": [
    "y = y.map(lambda x: mapping[x])"
   ]
  },
  {
   "cell_type": "code",
   "execution_count": 50,
   "metadata": {
    "id": "HknDM9GCi832",
    "colab_type": "code",
    "colab": {
     "base_uri": "https://localhost:8080/",
     "height": 228.0
    },
    "outputId": "45a0752d-2f65-4746-edf1-38a1860ceb0d"
   },
   "outputs": [
    {
     "data": {
      "text/plain": [
       "0          0\n",
       "1          0\n",
       "2          1\n",
       "3          1\n",
       "4          1\n",
       "          ..\n",
       "320584    10\n",
       "320585     3\n",
       "320586     3\n",
       "320587    10\n",
       "320588    10\n",
       "Name: Product, Length: 320589, dtype: int64"
      ]
     },
     "execution_count": 50,
     "metadata": {
      "tags": []
     },
     "output_type": "execute_result"
    }
   ],
   "source": [
    "y"
   ]
  },
  {
   "cell_type": "code",
   "execution_count": 51,
   "metadata": {
    "id": "k0TA689icXVP",
    "colab_type": "code",
    "colab": {
     "base_uri": "https://localhost:8080/",
     "height": 334.0
    },
    "outputId": "9c2d147e-4efe-45a4-df1e-4efc15e6c0ab"
   },
   "outputs": [
    {
     "name": "stdout",
     "output_type": "stream",
     "text": [
      "Index(['Sub-product_(CD) Certificate of deposit', 'Sub-product_Auto',\n",
      "       'Sub-product_Auto debt', 'Sub-product_CD (Certificate of Deposit)',\n",
      "       'Sub-product_Cashing a check without an account',\n",
      "       'Sub-product_Check cashing', 'Sub-product_Check cashing service',\n",
      "       'Sub-product_Checking account',\n",
      "       'Sub-product_Conventional adjustable mortgage (ARM)',\n",
      "       'Sub-product_Conventional fixed mortgage',\n",
      "       ...\n",
      "       'Company response to consumer_Closed',\n",
      "       'Company response to consumer_Closed with explanation',\n",
      "       'Company response to consumer_Closed with monetary relief',\n",
      "       'Company response to consumer_Closed with non-monetary relief',\n",
      "       'Company response to consumer_Closed with relief',\n",
      "       'Company response to consumer_Closed without relief',\n",
      "       'Company response to consumer_In progress',\n",
      "       'Company response to consumer_Untimely response', 'Timely response?',\n",
      "       'Consumer disputed?'],\n",
      "      dtype='object', length=273)\n"
     ]
    }
   ],
   "source": [
    "print(feature_names)"
   ]
  },
  {
   "cell_type": "code",
   "execution_count": 52,
   "metadata": {
    "id": "PMNtUNSeccEh",
    "colab_type": "code",
    "colab": {}
   },
   "outputs": [],
   "source": [
    "X = X.to_numpy()"
   ]
  },
  {
   "cell_type": "code",
   "execution_count": 53,
   "metadata": {
    "id": "Hj0Z2S_GdOQ3",
    "colab_type": "code",
    "colab": {
     "base_uri": "https://localhost:8080/",
     "height": 52.0
    },
    "outputId": "5fa44f8e-41b2-4d03-f818-7636d0d36501"
   },
   "outputs": [
    {
     "name": "stdout",
     "output_type": "stream",
     "text": [
      "(320589, 273)\n",
      "(320589,)\n"
     ]
    }
   ],
   "source": [
    "print(X.shape)\n",
    "print(y.shape)\n",
    "N, d = X.shape"
   ]
  },
  {
   "cell_type": "code",
   "execution_count": 54,
   "metadata": {
    "id": "RVcmr4mPrRrA",
    "colab_type": "code",
    "colab": {
     "base_uri": "https://localhost:8080/",
     "height": 34.0
    },
    "outputId": "66e740b8-df97-4091-fb01-7bcce7237d03"
   },
   "outputs": [
    {
     "name": "stdout",
     "output_type": "stream",
     "text": [
      "224412 96177\n"
     ]
    }
   ],
   "source": [
    "from sklearn.model_selection import train_test_split\n",
    "X_train, X_test, y_train, y_test = train_test_split(X, y, test_size = 0.3, random_state = 42)\n",
    "\n",
    "N_train, _ = X_train.shape \n",
    "N_test,  _ = X_test.shape \n",
    "\n",
    "print(N_train, N_test)"
   ]
  },
  {
   "cell_type": "markdown",
   "metadata": {
    "id": "3g1DeEVvr5et",
    "colab_type": "text"
   },
   "source": [
    "## 7. Метод $kNN$ ближайших соседей"
   ]
  },
  {
   "cell_type": "code",
   "execution_count": 56,
   "metadata": {
    "id": "nb6jM0hxrX7i",
    "colab_type": "code",
    "colab": {
     "base_uri": "https://localhost:8080/",
     "height": 70.0
    },
    "outputId": "e20cf655-9f0c-4b20-fe5a-9e223940ef76"
   },
   "outputs": [
    {
     "data": {
      "text/plain": [
       "KNeighborsClassifier(algorithm='ball_tree', leaf_size=30, metric='minkowski',\n",
       "                     metric_params=None, n_jobs=None, n_neighbors=5, p=2,\n",
       "                     weights='uniform')"
      ]
     },
     "execution_count": 56,
     "metadata": {
      "tags": []
     },
     "output_type": "execute_result"
    }
   ],
   "source": [
    "from sklearn.neighbors import KNeighborsClassifier\n",
    "\n",
    "knn = KNeighborsClassifier(algorithm='ball_tree', n_neighbors = 5)\n",
    "knn.fit(X_train, y_train)"
   ]
  },
  {
   "cell_type": "code",
   "execution_count": 3,
   "metadata": {
    "id": "gGTHB9ucmydA",
    "colab_type": "code",
    "colab": {
     "base_uri": "https://localhost:8080/",
     "height": 34.0
    },
    "outputId": "3ffe95ae-12e4-4f84-9a89-0ddf71dd8ede"
   },
   "outputs": [
    {
     "name": "stdout",
     "output_type": "stream",
     "text": [
      "0.11314506491916451 0.1386535856367953\n"
     ]
    }
   ],
   "source": [
    "err_train = np.mean(y_train != knn.predict(X_train))\n",
    "err_test  = np.mean(y_test  != knn.predict(X_test))\n",
    "\n",
    "print(err_train, err_test)"
   ]
  },
  {
   "cell_type": "markdown",
   "metadata": {
    "id": "UXByCEBBa4g7",
    "colab_type": "text"
   },
   "source": [
    "## 8. Decision Tree"
   ]
  },
  {
   "cell_type": "code",
   "execution_count": 50,
   "metadata": {
    "id": "dAGiZCE9a3bJ",
    "colab_type": "code",
    "colab": {}
   },
   "outputs": [],
   "source": [
    "from sklearn.tree import DecisionTreeClassifier"
   ]
  },
  {
   "cell_type": "code",
   "execution_count": 51,
   "metadata": {
    "id": "zZrXlt0oa-y_",
    "colab_type": "code",
    "colab": {}
   },
   "outputs": [],
   "source": [
    "dtree = DecisionTreeClassifier()"
   ]
  },
  {
   "cell_type": "code",
   "execution_count": 52,
   "metadata": {
    "id": "xweEP64IbDBg",
    "colab_type": "code",
    "colab": {
     "base_uri": "https://localhost:8080/",
     "height": 122.0
    },
    "outputId": "d07ab86a-11b2-42e2-9d9a-ec12d0915198"
   },
   "outputs": [
    {
     "data": {
      "text/plain": [
       "DecisionTreeClassifier(ccp_alpha=0.0, class_weight=None, criterion='gini',\n",
       "                       max_depth=None, max_features=None, max_leaf_nodes=None,\n",
       "                       min_impurity_decrease=0.0, min_impurity_split=None,\n",
       "                       min_samples_leaf=1, min_samples_split=2,\n",
       "                       min_weight_fraction_leaf=0.0, presort='deprecated',\n",
       "                       random_state=None, splitter='best')"
      ]
     },
     "execution_count": 52,
     "metadata": {
      "tags": []
     },
     "output_type": "execute_result"
    }
   ],
   "source": [
    "dtree.fit(X_train, y_train)"
   ]
  },
  {
   "cell_type": "code",
   "execution_count": 55,
   "metadata": {
    "id": "X6O8K01TbGUH",
    "colab_type": "code",
    "colab": {
     "base_uri": "https://localhost:8080/",
     "height": 34.0
    },
    "outputId": "6cc95e29-e4e2-48e4-a415-375e4198fb39"
   },
   "outputs": [
    {
     "name": "stdout",
     "output_type": "stream",
     "text": [
      "0.0013145464591911306 0.0017883693606579535\n"
     ]
    }
   ],
   "source": [
    "err_train = np.mean(y_train != dtree.predict(X_train))\n",
    "err_test  = np.mean(y_test  != dtree.predict(X_test))\n",
    "\n",
    "print(err_train, err_test)"
   ]
  },
  {
   "cell_type": "markdown",
   "metadata": {
    "id": "uyC6O0XdpOOc",
    "colab_type": "text"
   },
   "source": [
    "## 9. Вывод"
   ]
  },
  {
   "cell_type": "markdown",
   "metadata": {
    "id": "4tkHzntdptBp",
    "colab_type": "text"
   },
   "source": [
    "Таким образом, kNN справился с задачей хорошо, однако Decision Tree показал меньшие ошибки на обучающей и тестовой выборках. Возможно, требуется применение взвешенного kNN из-за несбалансированности классов."
   ]
  },
  {
   "cell_type": "code",
   "execution_count": null,
   "metadata": {
    "id": "LJceHgvprM-u",
    "colab_type": "code",
    "colab": {}
   },
   "outputs": [],
   "source": [
    ""
   ]
  }
 ],
 "metadata": {
  "colab": {
   "name": "Untitled0.ipynb",
   "provenance": [],
   "collapsed_sections": [
    "fkZ2m52XXEA5"
   ]
  },
  "kernelspec": {
   "name": "python3",
   "display_name": "Python 3"
  }
 },
 "nbformat": 4,
 "nbformat_minor": 0
}
